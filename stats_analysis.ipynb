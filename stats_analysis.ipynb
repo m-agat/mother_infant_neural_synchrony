{
 "cells": [
  {
   "cell_type": "code",
   "execution_count": 51,
   "metadata": {},
   "outputs": [],
   "source": [
    "import json \n",
    "import numpy as np\n",
    "import matplotlib.pyplot as plt\n",
    "from scipy import stats\n",
    "from hypyp import stats \n",
    "'''\n",
    "Comparing inter-connectivity to random signal\n",
    "'''\n",
    "\n",
    "f = open('cross_freq_results.json')\n",
    "# f = open('results_plv.json')\n",
    "\n",
    "# returns JSON object as \n",
    "# a dictionary\n",
    "results = json.load(f)\n",
    "  \n",
    "# Iterating through the json\n",
    "# list\n",
    "fp1 = []\n",
    "sf1 = []\n",
    "fp2 = []\n",
    "sf2 = []\n",
    "reunion = []\n",
    "\n",
    "all_stages = [fp1, sf1, fp2, sf2, reunion]\n",
    "for part, data in results.items():\n",
    "    for stage, bands in data.items():\n",
    "        stage = stage[1]\n",
    "        all_stages[int(stage)-1].append(bands)\n",
    "\n",
    "fp1_theta = []\n",
    "fp1_alpha = []\n",
    "sf1_theta = []\n",
    "sf1_alpha = []\n",
    "fp2_theta = []\n",
    "fp2_alpha = []\n",
    "sf2_theta = []\n",
    "sf2_alpha = []\n",
    "ru_theta = []\n",
    "ru_alpha = []\n",
    "for part1, part2, part3, part4, part5 in zip(fp1, sf1, fp2, sf2, reunion):\n",
    "    fp1_theta.append(np.mean(part1['theta']))\n",
    "    fp1_alpha.append(np.mean(part1['alpha']))\n",
    "    sf1_theta.append(np.mean(part2['theta']))\n",
    "    sf1_alpha.append(np.mean(part2['alpha']))\n",
    "    fp2_theta.append(np.mean(part3['theta']))\n",
    "    fp2_alpha.append(np.mean(part3['alpha']))\n",
    "    sf2_theta.append(np.mean(part4['theta']))\n",
    "    sf2_alpha.append(np.mean(part4['alpha']))\n",
    "    ru_theta.append(np.mean(part5['theta']))\n",
    "    ru_alpha.append(np.mean(part5['alpha']))\n",
    "\n",
    "\n",
    "data_theta = [fp1_theta, sf1_theta, fp2_theta, sf2_theta, ru_theta] \n",
    "data_alpha = [fp1_alpha, sf1_alpha, fp2_alpha, sf2_alpha, ru_alpha] \n",
    "\n",
    "f.close()"
   ]
  },
  {
   "attachments": {},
   "cell_type": "markdown",
   "metadata": {},
   "source": [
    "## Testing for Normal Distribution"
   ]
  },
  {
   "cell_type": "code",
   "execution_count": 52,
   "metadata": {},
   "outputs": [
    {
     "name": "stdout",
     "output_type": "stream",
     "text": [
      "Test statistic: 0.8499273657798767\n",
      "p-value: 6.362323428515948e-12\n"
     ]
    }
   ],
   "source": [
    "import pandas as pd\n",
    "import pingouin as pg\n",
    "from statsmodels.stats.anova import AnovaRM\n",
    "from scipy.stats import shapiro\n",
    "\n",
    "# Load data\n",
    "df = pd.DataFrame({\"FreePlay1\": fp1_theta,\n",
    "                  \"StillFace1\": sf1_theta,\n",
    "                  \"FreePlay2\": fp2_theta,\n",
    "                  \"StillFace2\": sf2_theta,\n",
    "                  \"Reunion\": ru_theta})\n",
    "\n",
    "\n",
    "# Create a multi-indexed dataframe\n",
    "df_melted_theta = pd.melt(df.reset_index(), id_vars=['index'], value_vars=['FreePlay1', 'StillFace1', 'FreePlay2', 'StillFace2', 'Reunion'])\n",
    "\n",
    "# Rename columns\n",
    "df_melted_theta.columns = ['id', 'condition', 'value']\n",
    "\n",
    "\n",
    "# grouped = df_melted.groupby([\"condition\"])\n",
    "\n",
    "data = np.random.normal(0, 1, 100)\n",
    "stat, p = shapiro(df_melted_theta[\"value\"])\n",
    "\n",
    "print(\"Test statistic:\", stat)\n",
    "print(\"p-value:\", p)"
   ]
  },
  {
   "cell_type": "code",
   "execution_count": 54,
   "metadata": {},
   "outputs": [
    {
     "name": "stdout",
     "output_type": "stream",
     "text": [
      "Test statistic: 0.9676814079284668\n",
      "p-value: 0.0005415018531493843\n"
     ]
    }
   ],
   "source": [
    "import pandas as pd\n",
    "import pingouin as pg\n",
    "from scipy.stats import shapiro\n",
    "\n",
    "# Load data\n",
    "df = pd.DataFrame({\"FreePlay1\": fp1_alpha,\n",
    "                  \"StillFace1\": sf1_alpha,\n",
    "                  \"FreePlay2\": fp2_alpha,\n",
    "                  \"StillFace2\": sf2_alpha,\n",
    "                  \"Reunion\": ru_alpha})\n",
    "\n",
    "\n",
    "# Create a multi-indexed dataframe\n",
    "df_melted_alpha = pd.melt(df.reset_index(), id_vars=['index'], value_vars=['FreePlay1', 'StillFace1', 'FreePlay2', 'StillFace2', 'Reunion'])\n",
    "\n",
    "# Rename columns\n",
    "df_melted_alpha.columns = ['id', 'condition', 'value']\n",
    "\n",
    "# grouped = df_melted.groupby([\"condition\"])\n",
    "\n",
    "data = np.random.normal(0, 1, 100)\n",
    "stat, p = shapiro(df_melted_alpha[\"value\"])\n",
    "\n",
    "print(\"Test statistic:\", stat)\n",
    "print(\"p-value:\", p)\n"
   ]
  },
  {
   "attachments": {},
   "cell_type": "markdown",
   "metadata": {},
   "source": [
    "## Fisher Z-transform"
   ]
  },
  {
   "cell_type": "code",
   "execution_count": 55,
   "metadata": {},
   "outputs": [
    {
     "name": "stdout",
     "output_type": "stream",
     "text": [
      "Test statistic: 0.8520227670669556\n",
      "p-value: 7.938313201227842e-12\n"
     ]
    }
   ],
   "source": [
    "# Perform the Fisher z-transform\n",
    "z_fp1_theta = np.arctanh(fp1_theta)\n",
    "z_sf1_theta = np.arctanh(sf1_theta)\n",
    "z_fp2_theta = np.arctanh(fp2_theta)\n",
    "z_sf2_theta = np.arctanh(sf2_theta)\n",
    "z_ru_theta = np.arctanh(ru_theta)\n",
    "\n",
    "# Load data\n",
    "df = pd.DataFrame({\"FreePlay1\": z_fp1_theta,\n",
    "                  \"StillFace1\": z_sf1_theta,\n",
    "                  \"FreePlay2\": z_fp2_theta,\n",
    "                  \"StillFace2\": z_sf2_theta,\n",
    "                  \"Reunion\": z_ru_theta})\n",
    "\n",
    "\n",
    "# Create a multi-indexed dataframe\n",
    "df_melted = pd.melt(df.reset_index(), id_vars=['index'], value_vars=['FreePlay1', 'StillFace1', 'FreePlay2', 'StillFace2', 'Reunion'])\n",
    "\n",
    "# Rename columns\n",
    "df_melted.columns = ['id', 'condition', 'value']\n",
    "\n",
    "data = np.random.normal(0, 1, 100)\n",
    "stat, p = shapiro(df_melted[\"value\"])\n",
    "\n",
    "print(\"Test statistic:\", stat)\n",
    "print(\"p-value:\", p)"
   ]
  },
  {
   "cell_type": "code",
   "execution_count": 57,
   "metadata": {},
   "outputs": [
    {
     "name": "stdout",
     "output_type": "stream",
     "text": [
      "Test statistic: 0.9676247835159302\n",
      "p-value: 0.0005339072085916996\n"
     ]
    }
   ],
   "source": [
    "# Perform the Fisher z-transform\n",
    "z_fp1_alpha = np.arctanh(fp1_alpha)\n",
    "z_sf1_alpha = np.arctanh(sf1_alpha)\n",
    "z_fp2_alpha = np.arctanh(fp2_alpha)\n",
    "z_sf2_alpha = np.arctanh(sf2_alpha)\n",
    "z_ru_alpha= np.arctanh(ru_alpha)\n",
    "\n",
    "# Load data\n",
    "df = pd.DataFrame({\"FreePlay1\": z_fp1_alpha,\n",
    "                  \"StillFace1\": z_sf1_alpha,\n",
    "                  \"FreePlay2\": z_fp2_alpha,\n",
    "                  \"StillFace2\": z_sf2_alpha,\n",
    "                  \"Reunion\": z_ru_alpha})\n",
    "\n",
    "\n",
    "# Create a multi-indexed dataframe\n",
    "df_melted = pd.melt(df.reset_index(), id_vars=['index'], value_vars=['FreePlay1', 'StillFace1', 'FreePlay2', 'StillFace2', 'Reunion'])\n",
    "\n",
    "# Rename columns\n",
    "df_melted.columns = ['id', 'condition', 'value']\n",
    "\n",
    "data = np.random.normal(0, 1, 100)\n",
    "stat, p = shapiro(df_melted[\"value\"])\n",
    "\n",
    "print(\"Test statistic:\", stat)\n",
    "print(\"p-value:\", p)"
   ]
  },
  {
   "attachments": {},
   "cell_type": "markdown",
   "metadata": {},
   "source": [
    "## Friedman Test\n",
    "The null hypothesis (H0): The mean for each population is equal.\n",
    "\n",
    "The alternative hypothesis: (Ha): At least one population mean is different from the rest.\n",
    "\n",
    "https://www.statology.org/friedman-test-python/"
   ]
  },
  {
   "attachments": {},
   "cell_type": "markdown",
   "metadata": {},
   "source": [
    "### theta"
   ]
  },
  {
   "cell_type": "code",
   "execution_count": 58,
   "metadata": {},
   "outputs": [
    {
     "data": {
      "text/html": [
       "<div>\n",
       "<style scoped>\n",
       "    .dataframe tbody tr th:only-of-type {\n",
       "        vertical-align: middle;\n",
       "    }\n",
       "\n",
       "    .dataframe tbody tr th {\n",
       "        vertical-align: top;\n",
       "    }\n",
       "\n",
       "    .dataframe thead th {\n",
       "        text-align: right;\n",
       "    }\n",
       "</style>\n",
       "<table border=\"1\" class=\"dataframe\">\n",
       "  <thead>\n",
       "    <tr style=\"text-align: right;\">\n",
       "      <th></th>\n",
       "      <th>Source</th>\n",
       "      <th>W</th>\n",
       "      <th>ddof1</th>\n",
       "      <th>Q</th>\n",
       "      <th>p-unc</th>\n",
       "    </tr>\n",
       "  </thead>\n",
       "  <tbody>\n",
       "    <tr>\n",
       "      <th>Friedman</th>\n",
       "      <td>condition</td>\n",
       "      <td>0.186678</td>\n",
       "      <td>4</td>\n",
       "      <td>25.388235</td>\n",
       "      <td>0.000042</td>\n",
       "    </tr>\n",
       "  </tbody>\n",
       "</table>\n",
       "</div>"
      ],
      "text/plain": [
       "             Source         W  ddof1          Q     p-unc\n",
       "Friedman  condition  0.186678      4  25.388235  0.000042"
      ]
     },
     "execution_count": 58,
     "metadata": {},
     "output_type": "execute_result"
    }
   ],
   "source": [
    "# Perform Friedman test\n",
    "pg.friedman(data=df_melted_theta, dv='value', within='condition', subject = 'id')"
   ]
  },
  {
   "cell_type": "code",
   "execution_count": 59,
   "metadata": {},
   "outputs": [
    {
     "data": {
      "text/plain": [
       "FriedmanchisquareResult(statistic=25.388235294117635, pvalue=4.2028975896446456e-05)"
      ]
     },
     "execution_count": 59,
     "metadata": {},
     "output_type": "execute_result"
    }
   ],
   "source": [
    "#perform Friedman Test      \n",
    "from scipy.stats import friedmanchisquare\n",
    "friedmanchisquare(fp1_theta, sf1_theta, fp2_theta, sf2_theta, ru_theta)"
   ]
  },
  {
   "attachments": {},
   "cell_type": "markdown",
   "metadata": {},
   "source": [
    "### alpha"
   ]
  },
  {
   "cell_type": "code",
   "execution_count": 60,
   "metadata": {},
   "outputs": [
    {
     "data": {
      "text/html": [
       "<div>\n",
       "<style scoped>\n",
       "    .dataframe tbody tr th:only-of-type {\n",
       "        vertical-align: middle;\n",
       "    }\n",
       "\n",
       "    .dataframe tbody tr th {\n",
       "        vertical-align: top;\n",
       "    }\n",
       "\n",
       "    .dataframe thead th {\n",
       "        text-align: right;\n",
       "    }\n",
       "</style>\n",
       "<table border=\"1\" class=\"dataframe\">\n",
       "  <thead>\n",
       "    <tr style=\"text-align: right;\">\n",
       "      <th></th>\n",
       "      <th>Source</th>\n",
       "      <th>W</th>\n",
       "      <th>ddof1</th>\n",
       "      <th>Q</th>\n",
       "      <th>p-unc</th>\n",
       "    </tr>\n",
       "  </thead>\n",
       "  <tbody>\n",
       "    <tr>\n",
       "      <th>Friedman</th>\n",
       "      <td>condition</td>\n",
       "      <td>0.046194</td>\n",
       "      <td>4</td>\n",
       "      <td>6.282353</td>\n",
       "      <td>0.179031</td>\n",
       "    </tr>\n",
       "  </tbody>\n",
       "</table>\n",
       "</div>"
      ],
      "text/plain": [
       "             Source         W  ddof1         Q     p-unc\n",
       "Friedman  condition  0.046194      4  6.282353  0.179031"
      ]
     },
     "execution_count": 60,
     "metadata": {},
     "output_type": "execute_result"
    }
   ],
   "source": [
    "# Perform Friedman test\n",
    "pg.friedman(data=df_melted_alpha, dv='value', within='condition', subject = 'id')"
   ]
  },
  {
   "cell_type": "code",
   "execution_count": 61,
   "metadata": {},
   "outputs": [
    {
     "data": {
      "text/plain": [
       "FriedmanchisquareResult(statistic=6.282352941176441, pvalue=0.17903095565368235)"
      ]
     },
     "execution_count": 61,
     "metadata": {},
     "output_type": "execute_result"
    }
   ],
   "source": [
    "friedmanchisquare(fp1_alpha, sf1_alpha, fp2_alpha, sf2_alpha, ru_alpha)"
   ]
  }
 ],
 "metadata": {
  "kernelspec": {
   "display_name": ".venv",
   "language": "python",
   "name": "python3"
  },
  "language_info": {
   "codemirror_mode": {
    "name": "ipython",
    "version": 3
   },
   "file_extension": ".py",
   "mimetype": "text/x-python",
   "name": "python",
   "nbconvert_exporter": "python",
   "pygments_lexer": "ipython3",
   "version": "3.10.5"
  },
  "orig_nbformat": 4
 },
 "nbformat": 4,
 "nbformat_minor": 2
}
