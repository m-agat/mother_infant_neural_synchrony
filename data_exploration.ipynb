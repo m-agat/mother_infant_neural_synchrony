{
 "cells": [
  {
   "attachments": {},
   "cell_type": "markdown",
   "metadata": {},
   "source": [
    "# EEG data exploration"
   ]
  },
  {
   "attachments": {},
   "cell_type": "markdown",
   "metadata": {},
   "source": [
    "## Load libraries"
   ]
  },
  {
   "attachments": {},
   "cell_type": "markdown",
   "metadata": {},
   "source": [
    "### Core"
   ]
  },
  {
   "cell_type": "code",
   "execution_count": 1,
   "metadata": {},
   "outputs": [],
   "source": [
    "import io"
   ]
  },
  {
   "attachments": {},
   "cell_type": "markdown",
   "metadata": {},
   "source": [
    "### Data Science"
   ]
  },
  {
   "cell_type": "code",
   "execution_count": 2,
   "metadata": {},
   "outputs": [],
   "source": [
    "import numpy as np\n",
    "import scipy "
   ]
  },
  {
   "attachments": {},
   "cell_type": "markdown",
   "metadata": {},
   "source": [
    "### Visualizations"
   ]
  },
  {
   "cell_type": "code",
   "execution_count": 3,
   "metadata": {},
   "outputs": [],
   "source": [
    "import matplotlib.pyplot as plt"
   ]
  },
  {
   "cell_type": "code",
   "execution_count": 4,
   "metadata": {},
   "outputs": [],
   "source": [
    "\n",
    "from mpl_toolkits.mplot3d import Axes3D\n",
    "# from hypyp.ext.mpl3d import glm\n",
    "# from hypyp.ext.mpl3d.mesh import Mesh\n",
    "# from hypyp.ext.mpl3d.camera import Camera"
   ]
  },
  {
   "attachments": {},
   "cell_type": "markdown",
   "metadata": {},
   "source": [
    "### MNE"
   ]
  },
  {
   "cell_type": "code",
   "execution_count": 5,
   "metadata": {},
   "outputs": [],
   "source": [
    "import mne"
   ]
  },
  {
   "attachments": {},
   "cell_type": "markdown",
   "metadata": {},
   "source": [
    "### HyPyP"
   ]
  },
  {
   "cell_type": "code",
   "execution_count": 6,
   "metadata": {},
   "outputs": [],
   "source": [
    "# from hypyp import prep \n",
    "# from hypyp import analyses\n",
    "# from hypyp import stats\n",
    "# from hypyp import viz"
   ]
  },
  {
   "cell_type": "code",
   "execution_count": 7,
   "metadata": {},
   "outputs": [],
   "source": [
    "# import pyedflib"
   ]
  },
  {
   "attachments": {},
   "cell_type": "markdown",
   "metadata": {},
   "source": [
    "## Read Raw Data"
   ]
  },
  {
   "cell_type": "code",
   "execution_count": 8,
   "metadata": {},
   "outputs": [],
   "source": [
    "def read_data(path):\n",
    "    if path[-4:] == \".bdf\":\n",
    "        data = mne.io.read_raw_bdf(path, preload = True)\n",
    "        return data\n",
    "    elif path[-4:] == \".fif\":\n",
    "        data = mne.io.read_raw_fif(path, preload = True)\n",
    "        return data"
   ]
  },
  {
   "attachments": {},
   "cell_type": "markdown",
   "metadata": {},
   "source": [
    "## Separate Files"
   ]
  },
  {
   "cell_type": "code",
   "execution_count": 18,
   "metadata": {},
   "outputs": [],
   "source": [
    "import re \n",
    "\n",
    "# Separate the dyad file into mother and infant files\n",
    "\n",
    "# Identify the channels corresponding to each person\n",
    "def identify_person(dyad_data):\n",
    "    r_i = re.compile(\"^1-\")\n",
    "    r_m = re.compile(\"^2-\")\n",
    "    infant_channels = [chan for chan in list(filter(r_i.match, dyad_data.info[\"ch_names\"])) if \"EMPTY\" not in chan]\n",
    "    mother_channels = [chan for chan in list(filter(r_m.match, dyad_data.info[\"ch_names\"])) if \"EMPTY\" not in chan]\n",
    "\n",
    "    return infant_channels, mother_channels\n",
    "\n",
    "# Create and save mother and infant data in two separate files\n",
    "def separate_files(dyad_path, i_channels, m_channels):\n",
    "    dyad_data = read_data(dyad_path)\n",
    "    idx = re.findall(r'\\d+', str(dyad_path))[0]\n",
    "    infant_path = f\"Infant{idx}_RestingState.fif\"\n",
    "    mother_path = f\"Mother{idx}_RestingState.fif\"\n",
    "    infant_file = dyad_data.save(infant_path, i_channels, overwrite = True)\n",
    "    mother_file = dyad_data.save(mother_path, m_channels, overwrite = True)\n",
    "    return infant_file, mother_file, infant_path, mother_path"
   ]
  },
  {
   "attachments": {},
   "cell_type": "markdown",
   "metadata": {},
   "source": [
    "## Rename channels"
   ]
  },
  {
   "cell_type": "code",
   "execution_count": 10,
   "metadata": {},
   "outputs": [],
   "source": [
    "def rename_channel_names(data):\n",
    "    old_channels = list(filter(lambda x: \"EMPTY\" not in x, data.info[\"ch_names\"]))\n",
    "    new_channels = [chan[2::] if chan[0:2] == \"1-\" or chan[0:2] == \"2-\" else chan for chan in old_channels]\n",
    "    old_to_new_names = {}\n",
    "    for old, new in zip(old_channels, new_channels):\n",
    "        old_to_new_names[old] = new\n",
    "\n",
    "\n",
    "    data.rename_channels(mapping = old_to_new_names)\n",
    "    \n",
    "    return data"
   ]
  },
  {
   "attachments": {},
   "cell_type": "markdown",
   "metadata": {},
   "source": [
    "## Create separate files for mother and infant"
   ]
  },
  {
   "cell_type": "code",
   "execution_count": 19,
   "metadata": {},
   "outputs": [
    {
     "name": "stdout",
     "output_type": "stream",
     "text": [
      "Extracting EDF parameters from /home/agata/Desktop/thesis/Dyad01_RestingState1.bdf...\n",
      "BDF file detected\n",
      "Setting channel info structure...\n",
      "Creating raw.info structure...\n",
      "Reading 0 ... 385023  =      0.000 ...   188.000 secs...\n"
     ]
    },
    {
     "name": "stderr",
     "output_type": "stream",
     "text": [
      "/tmp/ipykernel_34898/57864750.py:3: RuntimeWarning: Channel names are not unique, found duplicates for: {'1-EMPTY', '2-EMPTY'}. Applying running numbers for duplicates.\n",
      "  data = mne.io.read_raw_bdf(path, preload = True)\n"
     ]
    },
    {
     "name": "stdout",
     "output_type": "stream",
     "text": [
      "Extracting EDF parameters from /home/agata/Desktop/thesis/Dyad01_RestingState1.bdf...\n",
      "BDF file detected\n",
      "Setting channel info structure...\n",
      "Creating raw.info structure...\n",
      "Reading 0 ... 385023  =      0.000 ...   188.000 secs...\n"
     ]
    },
    {
     "name": "stderr",
     "output_type": "stream",
     "text": [
      "/tmp/ipykernel_34898/57864750.py:3: RuntimeWarning: Channel names are not unique, found duplicates for: {'1-EMPTY', '2-EMPTY'}. Applying running numbers for duplicates.\n",
      "  data = mne.io.read_raw_bdf(path, preload = True)\n"
     ]
    },
    {
     "name": "stdout",
     "output_type": "stream",
     "text": [
      "Overwriting existing file.\n",
      "Writing /home/agata/Desktop/thesis/Infant01_RestingState.fif\n"
     ]
    },
    {
     "name": "stderr",
     "output_type": "stream",
     "text": [
      "/tmp/ipykernel_34898/3326202749.py:20: RuntimeWarning: This filename (/home/agata/Desktop/thesis/Infant01_RestingState.fif) does not conform to MNE naming conventions. All raw files should end with raw.fif, raw_sss.fif, raw_tsss.fif, _meg.fif, _eeg.fif, _ieeg.fif, raw.fif.gz, raw_sss.fif.gz, raw_tsss.fif.gz, _meg.fif.gz, _eeg.fif.gz or _ieeg.fif.gz\n",
      "  infant_file = dyad_data.save(infant_path, i_channels, overwrite = True)\n"
     ]
    },
    {
     "name": "stdout",
     "output_type": "stream",
     "text": [
      "Closing /home/agata/Desktop/thesis/Infant01_RestingState.fif\n",
      "[done]\n",
      "Overwriting existing file.\n",
      "Writing /home/agata/Desktop/thesis/Mother01_RestingState.fif\n"
     ]
    },
    {
     "name": "stderr",
     "output_type": "stream",
     "text": [
      "/tmp/ipykernel_34898/3326202749.py:21: RuntimeWarning: This filename (/home/agata/Desktop/thesis/Mother01_RestingState.fif) does not conform to MNE naming conventions. All raw files should end with raw.fif, raw_sss.fif, raw_tsss.fif, _meg.fif, _eeg.fif, _ieeg.fif, raw.fif.gz, raw_sss.fif.gz, raw_tsss.fif.gz, _meg.fif.gz, _eeg.fif.gz or _ieeg.fif.gz\n",
      "  mother_file = dyad_data.save(mother_path, m_channels, overwrite = True)\n"
     ]
    },
    {
     "name": "stdout",
     "output_type": "stream",
     "text": [
      "Closing /home/agata/Desktop/thesis/Mother01_RestingState.fif\n",
      "[done]\n",
      "Opening raw data file Infant01_RestingState.fif...\n",
      "Isotrak not found\n",
      "    Range : 0 ... 385023 =      0.000 ...   188.000 secs\n",
      "Ready.\n",
      "Reading 0 ... 385023  =      0.000 ...   188.000 secs...\n"
     ]
    },
    {
     "name": "stderr",
     "output_type": "stream",
     "text": [
      "/tmp/ipykernel_34898/57864750.py:6: RuntimeWarning: This filename (Infant01_RestingState.fif) does not conform to MNE naming conventions. All raw files should end with raw.fif, raw_sss.fif, raw_tsss.fif, _meg.fif, _eeg.fif, _ieeg.fif, raw.fif.gz, raw_sss.fif.gz, raw_tsss.fif.gz, _meg.fif.gz, _eeg.fif.gz or _ieeg.fif.gz\n",
      "  data = mne.io.read_raw_fif(path, preload = True)\n"
     ]
    },
    {
     "name": "stdout",
     "output_type": "stream",
     "text": [
      "Opening raw data file Mother01_RestingState.fif...\n",
      "Isotrak not found\n",
      "    Range : 0 ... 385023 =      0.000 ...   188.000 secs\n",
      "Ready.\n",
      "Reading 0 ... 385023  =      0.000 ...   188.000 secs...\n"
     ]
    },
    {
     "name": "stderr",
     "output_type": "stream",
     "text": [
      "/tmp/ipykernel_34898/57864750.py:6: RuntimeWarning: This filename (Mother01_RestingState.fif) does not conform to MNE naming conventions. All raw files should end with raw.fif, raw_sss.fif, raw_tsss.fif, _meg.fif, _eeg.fif, _ieeg.fif, raw.fif.gz, raw_sss.fif.gz, raw_tsss.fif.gz, _meg.fif.gz, _eeg.fif.gz or _ieeg.fif.gz\n",
      "  data = mne.io.read_raw_fif(path, preload = True)\n"
     ]
    }
   ],
   "source": [
    "def main(dyad_path):\n",
    "    dyad_data = read_data(dyad_path)\n",
    "    infant_channels, mother_channels = identify_person(dyad_data)\n",
    "    infant_file, mother_file, infant_path, mother_path = separate_files(dyad_path, infant_channels, mother_channels)\n",
    "    infant_data = read_data(infant_path)\n",
    "    mother_data = read_data(mother_path)\n",
    "    rename_channel_names(infant_data)\n",
    "    return infant_file, mother_file, dyad_data, infant_data, mother_data\n",
    "\n",
    "infant_file, mother_file, dyad_data, infant_data, mother_data = main(\"/home/agata/Desktop/thesis/Dyad01_RestingState1.bdf\")"
   ]
  },
  {
   "attachments": {},
   "cell_type": "markdown",
   "metadata": {},
   "source": [
    "### View data attributes"
   ]
  },
  {
   "cell_type": "code",
   "execution_count": 20,
   "metadata": {},
   "outputs": [
    {
     "data": {
      "text/html": [
       "<table class=\"table table-hover table-striped table-sm table-responsive small\">\n",
       "    <tr>\n",
       "        <th>Measurement date</th>\n",
       "        \n",
       "        <td>May 21, 2021  14:06:21 GMT</td>\n",
       "        \n",
       "    </tr>\n",
       "    <tr>\n",
       "        <th>Experimenter</th>\n",
       "        \n",
       "        <td>Unknown</td>\n",
       "        \n",
       "    </tr>\n",
       "        <th>Participant</th>\n",
       "        \n",
       "        <td>Unknown</td>\n",
       "        \n",
       "    </tr>\n",
       "    <tr>\n",
       "        <th>Digitized points</th>\n",
       "        \n",
       "        <td>67 points</td>\n",
       "        \n",
       "    </tr>\n",
       "    <tr>\n",
       "        <th>Good channels</th>\n",
       "        <td>68 EEG</td>\n",
       "    </tr>\n",
       "    <tr>\n",
       "        <th>Bad channels</th>\n",
       "        <td>None</td>\n",
       "    </tr>\n",
       "    <tr>\n",
       "        <th>EOG channels</th>\n",
       "        <td>Not available</td>\n",
       "    </tr>\n",
       "    <tr>\n",
       "        <th>ECG channels</th>\n",
       "        <td>Not available</td>\n",
       "    \n",
       "    <tr>\n",
       "        <th>Sampling frequency</th>\n",
       "        <td>2048.00 Hz</td>\n",
       "    </tr>\n",
       "    \n",
       "    \n",
       "    <tr>\n",
       "        <th>Highpass</th>\n",
       "        <td>0.00 Hz</td>\n",
       "    </tr>\n",
       "    \n",
       "    \n",
       "    <tr>\n",
       "        <th>Lowpass</th>\n",
       "        <td>417.00 Hz</td>\n",
       "    </tr>\n",
       "    \n",
       "    \n",
       "    \n",
       "    <tr>\n",
       "        <th>Filenames</th>\n",
       "        <td>Infant01_RestingState.fif</td>\n",
       "    </tr>\n",
       "    \n",
       "    <tr>\n",
       "        <th>Duration</th>\n",
       "        <td>00:03:08 (HH:MM:SS)</td>\n",
       "    </tr>\n",
       "</table>"
      ],
      "text/plain": [
       "<Raw | Infant01_RestingState.fif, 68 x 385024 (188.0 s), ~199.8 MB, data loaded>"
      ]
     },
     "execution_count": 20,
     "metadata": {},
     "output_type": "execute_result"
    }
   ],
   "source": [
    "# There are 4 channel positions not present in the DigMontage. The required channels are: ['M1', 'M2', 'HR1', 'HR2']\n",
    "# 'biosemi64', 'BioSemi cap with 64 electrodes (64+3 locations)'\n",
    "infant_data.set_montage('biosemi64', on_missing = \"ignore\") #find chan loc @info>chs>click>click\n"
   ]
  }
 ],
 "metadata": {
  "kernelspec": {
   "display_name": "Python 3.10.5 ('.venv': venv)",
   "language": "python",
   "name": "python3"
  },
  "language_info": {
   "codemirror_mode": {
    "name": "ipython",
    "version": 3
   },
   "file_extension": ".py",
   "mimetype": "text/x-python",
   "name": "python",
   "nbconvert_exporter": "python",
   "pygments_lexer": "ipython3",
   "version": "3.10.5"
  },
  "orig_nbformat": 4,
  "vscode": {
   "interpreter": {
    "hash": "fca8a195e3df92181a28017410d16ca6ae7e19bb73ad26c5be562da9178cdfae"
   }
  }
 },
 "nbformat": 4,
 "nbformat_minor": 2
}
