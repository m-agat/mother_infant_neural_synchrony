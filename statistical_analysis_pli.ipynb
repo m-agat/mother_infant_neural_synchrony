{
 "cells": [
  {
   "attachments": {},
   "cell_type": "markdown",
   "metadata": {},
   "source": [
    "# Statistical Analysis \n",
    "\n",
    "Analyzing the significance of the differences between the modified Still Face Paradigm conditions."
   ]
  },
  {
   "cell_type": "code",
   "execution_count": 31,
   "metadata": {},
   "outputs": [],
   "source": [
    "import json \n",
    "import numpy as np\n",
    "import matplotlib.pyplot as plt\n",
    "from scipy import stats\n",
    "from hypyp import stats \n",
    "import seaborn as sns\n",
    "from statannot import add_stat_annotation\n",
    "import scikit_posthocs as sp\n",
    "import pandas as pd"
   ]
  },
  {
   "attachments": {},
   "cell_type": "markdown",
   "metadata": {},
   "source": [
    "# Infant Alpha band (6-9 Hz) analysis"
   ]
  },
  {
   "cell_type": "code",
   "execution_count": 32,
   "metadata": {},
   "outputs": [
    {
     "name": "stdout",
     "output_type": "stream",
     "text": [
      "33\n",
      "33\n",
      "33\n",
      "33\n",
      "33\n"
     ]
    }
   ],
   "source": [
    "# f = open('results_alpha_plv.json')\n",
    "f = open(\"validated_results_alpha_pli.json\")\n",
    "\n",
    "# returns JSON object as \n",
    "# a dictionary\n",
    "results = json.load(f)\n",
    "  \n",
    "# Iterating through the json\n",
    "# list\n",
    "fp1_alpha = []\n",
    "sf1_alpha = []\n",
    "fp2_alpha = []\n",
    "sf2_alpha = []\n",
    "ru_alpha = []\n",
    "\n",
    "all_stages = [fp1_alpha, sf1_alpha, fp2_alpha, sf2_alpha, ru_alpha]\n",
    "for part, stages in results.items():\n",
    "    if part == '623' or part == '802':\n",
    "        continue\n",
    "    else:\n",
    "        for stage, data in stages.items():\n",
    "            stage = int(stage[1]) - 1\n",
    "            all_stages[stage].append(np.nanmean(data))\n",
    "\n",
    "sf2_alpha = [0 if str(x) == 'nan' else x for x in sf2_alpha]\n",
    "\n",
    "for i in all_stages:\n",
    "    print(len(i))\n",
    "data_alpha = [np.array(fp1_alpha), np.array(sf1_alpha), np.array(fp2_alpha), np.array(sf2_alpha), np.array(ru_alpha)] "
   ]
  },
  {
   "cell_type": "code",
   "execution_count": 33,
   "metadata": {},
   "outputs": [],
   "source": [
    "import csv\n",
    "\n",
    "data_alpha = np.column_stack((fp1_alpha, sf1_alpha, fp2_alpha, sf2_alpha, ru_alpha))\n",
    "\n",
    "# Define the column names\n",
    "column_names = [\"fp1\", \"sf1\", \"fp2\", \"sf2\", \"reunion\"]\n",
    "\n",
    "# Define the filename for the CSV file\n",
    "filename = \"validated_data_alpha_pli.csv\"\n",
    "\n",
    "with open(filename, 'w', newline='') as csvfile:\n",
    "    writer = csv.writer(csvfile)\n",
    "\n",
    "    writer.writerow(column_names)\n",
    "\n",
    "    writer.writerows(data_alpha)"
   ]
  },
  {
   "attachments": {},
   "cell_type": "markdown",
   "metadata": {},
   "source": [
    "### Descriptive analysis"
   ]
  },
  {
   "cell_type": "code",
   "execution_count": 34,
   "metadata": {},
   "outputs": [
    {
     "name": "stderr",
     "output_type": "stream",
     "text": [
      "/tmp/ipykernel_7298/1220507243.py:16: FutureWarning: In future versions `DataFrame.to_latex` is expected to utilise the base implementation of `Styler.to_latex` for formatting and rendering. The arguments signature may therefore change. It is recommended instead to use `DataFrame.style.to_latex` which also contains additional functionality.\n",
      "  descriptives_df.to_latex('synchrony_descriptives_alpha.tex')\n"
     ]
    },
    {
     "data": {
      "text/html": [
       "<div>\n",
       "<style scoped>\n",
       "    .dataframe tbody tr th:only-of-type {\n",
       "        vertical-align: middle;\n",
       "    }\n",
       "\n",
       "    .dataframe tbody tr th {\n",
       "        vertical-align: top;\n",
       "    }\n",
       "\n",
       "    .dataframe thead th {\n",
       "        text-align: right;\n",
       "    }\n",
       "</style>\n",
       "<table border=\"1\" class=\"dataframe\">\n",
       "  <thead>\n",
       "    <tr style=\"text-align: right;\">\n",
       "      <th></th>\n",
       "      <th>Condition</th>\n",
       "      <th>Mean</th>\n",
       "      <th>SD</th>\n",
       "      <th>Min</th>\n",
       "      <th>Max</th>\n",
       "    </tr>\n",
       "  </thead>\n",
       "  <tbody>\n",
       "    <tr>\n",
       "      <th>0</th>\n",
       "      <td>Free Play 1</td>\n",
       "      <td>0.2035</td>\n",
       "      <td>0.0063</td>\n",
       "      <td>0.1918</td>\n",
       "      <td>0.2222</td>\n",
       "    </tr>\n",
       "    <tr>\n",
       "      <th>1</th>\n",
       "      <td>Still Face 1</td>\n",
       "      <td>0.2040</td>\n",
       "      <td>0.0076</td>\n",
       "      <td>0.1910</td>\n",
       "      <td>0.2191</td>\n",
       "    </tr>\n",
       "    <tr>\n",
       "      <th>2</th>\n",
       "      <td>Free Play 2</td>\n",
       "      <td>0.2036</td>\n",
       "      <td>0.0077</td>\n",
       "      <td>0.1863</td>\n",
       "      <td>0.2297</td>\n",
       "    </tr>\n",
       "    <tr>\n",
       "      <th>3</th>\n",
       "      <td>Still Face 2</td>\n",
       "      <td>0.2021</td>\n",
       "      <td>0.0066</td>\n",
       "      <td>0.1891</td>\n",
       "      <td>0.2180</td>\n",
       "    </tr>\n",
       "    <tr>\n",
       "      <th>4</th>\n",
       "      <td>Reunion</td>\n",
       "      <td>0.2057</td>\n",
       "      <td>0.0090</td>\n",
       "      <td>0.1876</td>\n",
       "      <td>0.2221</td>\n",
       "    </tr>\n",
       "  </tbody>\n",
       "</table>\n",
       "</div>"
      ],
      "text/plain": [
       "      Condition    Mean      SD     Min     Max\n",
       "0   Free Play 1  0.2035  0.0063  0.1918  0.2222\n",
       "1  Still Face 1  0.2040  0.0076  0.1910  0.2191\n",
       "2   Free Play 2  0.2036  0.0077  0.1863  0.2297\n",
       "3  Still Face 2  0.2021  0.0066  0.1891  0.2180\n",
       "4       Reunion  0.2057  0.0090  0.1876  0.2221"
      ]
     },
     "execution_count": 34,
     "metadata": {},
     "output_type": "execute_result"
    }
   ],
   "source": [
    "descriptives = {'Mean': [],\n",
    "                'SD': [],\n",
    "                'Min': [],\n",
    "                'Max': []}\n",
    "\n",
    "for condition in all_stages: \n",
    "    descriptives['Mean'].append(round(np.mean(condition), 4))\n",
    "    descriptives['SD'].append(round(np.std(condition), 4))\n",
    "    descriptives['Min'].append(round(np.min(condition), 4))\n",
    "    descriptives['Max'].append(round(np.max(condition), 4))\n",
    "\n",
    "descriptives_df = pd.DataFrame(descriptives)\n",
    "descriptives_df.insert(0, 'Condition', ['Free Play 1', 'Still Face 1', 'Free Play 2',\n",
    "                                        'Still Face 2', 'Reunion'])\n",
    "\n",
    "descriptives_df.to_latex('synchrony_descriptives_alpha.tex')\n",
    "descriptives_df"
   ]
  },
  {
   "attachments": {},
   "cell_type": "markdown",
   "metadata": {},
   "source": [
    "# Test Normality of Distribution"
   ]
  },
  {
   "cell_type": "code",
   "execution_count": 35,
   "metadata": {},
   "outputs": [
    {
     "name": "stdout",
     "output_type": "stream",
     "text": [
      "Test statistic: 0.9890395402908325\n",
      "p =  0.22944454848766327 -> data is normally distributed\n"
     ]
    }
   ],
   "source": [
    "import pandas as pd\n",
    "import pingouin as pg\n",
    "from scipy.stats import shapiro\n",
    "\n",
    "# Load data\n",
    "df = pd.DataFrame({\"FreePlay1\": fp1_alpha,\n",
    "                  \"StillFace1\": sf1_alpha,\n",
    "                  \"FreePlay2\": fp2_alpha,\n",
    "                  \"StillFace2\": sf2_alpha,\n",
    "                  'Reunion': ru_alpha\n",
    "                  })\n",
    "\n",
    "\n",
    "# Create a multi-indexed dataframe\n",
    "df_melted_alpha = pd.melt(df.reset_index(), id_vars=['index'], value_vars=['FreePlay1', 'StillFace1', 'FreePlay2', 'StillFace2', 'Reunion'])\n",
    "\n",
    "# Rename columns\n",
    "df_melted_alpha.columns = ['id', 'Condition', 'Synchrony']\n",
    "\n",
    "# grouped = df_melted.groupby([\"condition\"])\n",
    "\n",
    "data = np.random.normal(0, 1, 100)\n",
    "stat, p = shapiro(df_melted_alpha[\"Synchrony\"])\n",
    "\n",
    "print(\"Test statistic:\", stat)\n",
    "if p > 0.05:\n",
    "    print(\"p = \", p, \"-> data is normally distributed\")\n",
    "else:\n",
    "    print(\"p-value = \", p, \"-> data is non-normally distributed\")"
   ]
  },
  {
   "attachments": {},
   "cell_type": "markdown",
   "metadata": {},
   "source": [
    "# Fisher Z Transform"
   ]
  },
  {
   "cell_type": "code",
   "execution_count": 36,
   "metadata": {},
   "outputs": [
    {
     "name": "stdout",
     "output_type": "stream",
     "text": [
      "Test statistic: 0.9886876940727234\n",
      "p =  0.20820608735084534 -> data is normally distributed\n"
     ]
    }
   ],
   "source": [
    "# Perform the Fisher z-transform\n",
    "z_fp1_alpha = np.arctanh(fp1_alpha)\n",
    "z_sf1_alpha = np.arctanh(sf1_alpha)\n",
    "z_fp2_alpha = np.arctanh(fp2_alpha)\n",
    "z_sf2_alpha = np.arctanh(sf2_alpha)\n",
    "z_ru_alpha = np.arctanh(ru_alpha)\n",
    "\n",
    "# Load data\n",
    "df = pd.DataFrame({\"FreePlay1\": z_fp1_alpha,\n",
    "                  \"StillFace1\": z_sf1_alpha,\n",
    "                  \"FreePlay2\": z_fp2_alpha,\n",
    "                  \"StillFace2\": z_sf2_alpha,\n",
    "                  'Reunion': z_ru_alpha\n",
    "                  })\n",
    "\n",
    "\n",
    "# Create a multi-indexed dataframe\n",
    "df_melted_z = pd.melt(df.reset_index(), id_vars=['index'], value_vars=['FreePlay1', 'StillFace1', 'FreePlay2', 'StillFace2', 'Reunion'])\n",
    "\n",
    "# Rename columns\n",
    "df_melted_z.columns = ['id', 'Condition', 'Synchrony']\n",
    "\n",
    "data = np.random.normal(0, 1, 100)\n",
    "stat, p = shapiro(df_melted_z[\"Synchrony\"])\n",
    "\n",
    "print(\"Test statistic:\", stat)\n",
    "if p > 0.05:\n",
    "    print(\"p = \", p, \"-> data is normally distributed\")\n",
    "else:\n",
    "    print(\"p-value = \", p, \"-> data is non-normally distributed\")"
   ]
  },
  {
   "attachments": {},
   "cell_type": "markdown",
   "metadata": {},
   "source": [
    "### The distribution is still not normal -> non-parametric one-way ANOVA -> Friedman Test"
   ]
  },
  {
   "attachments": {},
   "cell_type": "markdown",
   "metadata": {},
   "source": [
    "## Main Effect: Friedman Test\n",
    "The null hypothesis (H0): The mean for each population is equal.\n",
    "\n",
    "The alternative hypothesis: (Ha): At least one population mean is different from the rest.\n",
    "\n",
    "https://www.statology.org/friedman-test-python/"
   ]
  },
  {
   "cell_type": "code",
   "execution_count": 37,
   "metadata": {},
   "outputs": [
    {
     "data": {
      "text/html": [
       "<div>\n",
       "<style scoped>\n",
       "    .dataframe tbody tr th:only-of-type {\n",
       "        vertical-align: middle;\n",
       "    }\n",
       "\n",
       "    .dataframe tbody tr th {\n",
       "        vertical-align: top;\n",
       "    }\n",
       "\n",
       "    .dataframe thead th {\n",
       "        text-align: right;\n",
       "    }\n",
       "</style>\n",
       "<table border=\"1\" class=\"dataframe\">\n",
       "  <thead>\n",
       "    <tr style=\"text-align: right;\">\n",
       "      <th></th>\n",
       "      <th>Source</th>\n",
       "      <th>W</th>\n",
       "      <th>ddof1</th>\n",
       "      <th>Q</th>\n",
       "      <th>p-unc</th>\n",
       "    </tr>\n",
       "  </thead>\n",
       "  <tbody>\n",
       "    <tr>\n",
       "      <th>Friedman</th>\n",
       "      <td>Condition</td>\n",
       "      <td>0.037282</td>\n",
       "      <td>4</td>\n",
       "      <td>4.921212</td>\n",
       "      <td>0.295478</td>\n",
       "    </tr>\n",
       "  </tbody>\n",
       "</table>\n",
       "</div>"
      ],
      "text/plain": [
       "             Source         W  ddof1         Q     p-unc\n",
       "Friedman  Condition  0.037282      4  4.921212  0.295478"
      ]
     },
     "execution_count": 37,
     "metadata": {},
     "output_type": "execute_result"
    }
   ],
   "source": [
    "pg.friedman(data=df_melted_alpha, dv='Synchrony', within='Condition', subject = 'id', method = 'chisq')"
   ]
  },
  {
   "attachments": {},
   "cell_type": "markdown",
   "metadata": {},
   "source": [
    "## Post Hoc Analysis: Wilcoxon Signed-Rank Test "
   ]
  },
  {
   "cell_type": "code",
   "execution_count": 38,
   "metadata": {},
   "outputs": [
    {
     "name": "stdout",
     "output_type": "stream",
     "text": [
      "Post-hoc test result:\n",
      "            FreePlay1  StillFace1  FreePlay2  StillFace2   Reunion\n",
      "FreePlay1    1.000000    0.923313   1.000000    0.704275  0.682884\n",
      "StillFace1   0.923313    1.000000   0.704275    0.704275  0.704275\n",
      "FreePlay2    1.000000    0.704275   1.000000    0.704275  0.703806\n",
      "StillFace2   0.704275    0.704275   0.704275    1.000000  0.682884\n",
      "Reunion      0.682884    0.704275   0.703806    0.682884  1.000000\n",
      "Z-values:\n",
      "[[   0. -265. -279. -226. -195.]\n",
      " [ 265.    0. -242. -236. -227.]\n",
      " [ 279.  242.    0. -245. -208.]\n",
      " [ 226.  236.  245.    0. -177.]\n",
      " [ 195.  227.  208.  177.    0.]]\n"
     ]
    }
   ],
   "source": [
    "import numpy as np\n",
    "from scipy import stats\n",
    "import scikit_posthocs as sp\n",
    "\n",
    "# Perform Wilcoxon signed-rank test and compute z-values\n",
    "def get_z_values(data, groups):\n",
    "    z_values = np.zeros((len(groups), len(groups)))\n",
    "\n",
    "    for i, group1 in enumerate(groups):\n",
    "        for j, group2 in enumerate(groups):\n",
    "            if j >= i:\n",
    "                continue\n",
    "            x = data[data['Condition'] == group1]['Synchrony']\n",
    "            y = data[data['Condition'] == group2]['Synchrony']\n",
    "            result = stats.wilcoxon(x, y)\n",
    "            z_values[i, j] = result.statistic\n",
    "            z_values[j, i] = -result.statistic\n",
    "\n",
    "    return z_values\n",
    "\n",
    "# Perform post-hoc test and adjustment\n",
    "posthoc_result_alpha = sp.posthoc_wilcoxon(a=df_melted_alpha, val_col=\"Synchrony\", group_col=\"Condition\", p_adjust='fdr_tsbky')\n",
    "\n",
    "# Compute z-values\n",
    "z_values_alpha = get_z_values(df_melted_alpha, posthoc_result_alpha.index)\n",
    "\n",
    "print(\"Post-hoc test result:\")\n",
    "print(posthoc_result_alpha)\n",
    "print(\"Z-values:\")\n",
    "print(z_values_alpha)\n"
   ]
  },
  {
   "cell_type": "code",
   "execution_count": 39,
   "metadata": {},
   "outputs": [
    {
     "data": {
      "image/png": "[encoded data removed]",
      "text/plain": [
       "<Figure size 640x480 with 1 Axes>"
      ]
     },
     "metadata": {},
     "output_type": "display_data"
    }
   ],
   "source": [
    "ax = sns.boxplot(data = df_melted_alpha, x = 'Condition', y = 'Synchrony', width = 0.6)\n",
    "ax.set_xticklabels(['Free Play 1', 'Still Face 1', 'Free Play 2', 'Still Face 2', 'Reunion'])\n",
    "\n",
    "ax.figure.savefig(\"alpha_results.png\") "
   ]
  },
  {
   "attachments": {},
   "cell_type": "markdown",
   "metadata": {},
   "source": [
    "# Infant Theta Band (3-5 Hz) Analysis"
   ]
  },
  {
   "cell_type": "code",
   "execution_count": 20,
   "metadata": {},
   "outputs": [],
   "source": [
    "f = open(\"validated_results_theta_pli.json\")\n",
    "\n",
    "# returns JSON object as \n",
    "# a dictionary\n",
    "results = json.load(f)\n",
    "  \n",
    "# Iterating through the json\n",
    "# list\n",
    "fp1_theta = []\n",
    "sf1_theta = []\n",
    "fp2_theta = []\n",
    "sf2_theta = []\n",
    "ru_theta = []\n",
    "\n",
    "all_stages = [fp1_theta, sf1_theta, fp2_theta, sf2_theta, ru_theta]\n",
    "for part, stages in results.items():\n",
    "    if part == '623' or part == '802':\n",
    "        continue\n",
    "    else:\n",
    "        for stage, data in stages.items():\n",
    "            stage = int(stage[1]) - 1\n",
    "            all_stages[stage].append(np.nanmean(data))\n",
    "\n",
    "sf2_theta = [0 if str(x) == 'nan' else x for x in sf2_theta]\n",
    "\n",
    "data_theta = [fp1_theta, sf1_theta, fp2_theta, sf2_theta, ru_theta] \n",
    "data_theta = [np.array(x) for x in data_theta]\n",
    "\n",
    "f.close()"
   ]
  },
  {
   "cell_type": "code",
   "execution_count": 21,
   "metadata": {},
   "outputs": [],
   "source": [
    "import csv\n",
    "data_theta = np.column_stack((fp1_theta, sf1_theta, fp2_theta, sf2_theta, ru_theta))\n",
    "\n",
    "# Define the column names\n",
    "column_names = [\"fp1\", \"sf1\", \"fp2\", \"sf2\", \"reunion\"]\n",
    "\n",
    "# Define the filename for the CSV file\n",
    "filename = \"validated_data_theta_pli.csv\"\n",
    "\n",
    "with open(filename, 'w', newline='') as csvfile:\n",
    "    writer = csv.writer(csvfile)\n",
    "\n",
    "    writer.writerow(column_names)\n",
    "\n",
    "    writer.writerows(data_theta)"
   ]
  },
  {
   "attachments": {},
   "cell_type": "markdown",
   "metadata": {},
   "source": [
    "## Descriptive Statistics"
   ]
  },
  {
   "cell_type": "code",
   "execution_count": 22,
   "metadata": {},
   "outputs": [
    {
     "name": "stderr",
     "output_type": "stream",
     "text": [
      "/tmp/ipykernel_7298/222204992.py:16: FutureWarning: In future versions `DataFrame.to_latex` is expected to utilise the base implementation of `Styler.to_latex` for formatting and rendering. The arguments signature may therefore change. It is recommended instead to use `DataFrame.style.to_latex` which also contains additional functionality.\n",
      "  descriptives_df.to_latex('synchrony_descriptives_theta.tex')\n"
     ]
    },
    {
     "data": {
      "text/html": [
       "<div>\n",
       "<style scoped>\n",
       "    .dataframe tbody tr th:only-of-type {\n",
       "        vertical-align: middle;\n",
       "    }\n",
       "\n",
       "    .dataframe tbody tr th {\n",
       "        vertical-align: top;\n",
       "    }\n",
       "\n",
       "    .dataframe thead th {\n",
       "        text-align: right;\n",
       "    }\n",
       "</style>\n",
       "<table border=\"1\" class=\"dataframe\">\n",
       "  <thead>\n",
       "    <tr style=\"text-align: right;\">\n",
       "      <th></th>\n",
       "      <th>Condition</th>\n",
       "      <th>Mean</th>\n",
       "      <th>SD</th>\n",
       "      <th>Min</th>\n",
       "      <th>Max</th>\n",
       "    </tr>\n",
       "  </thead>\n",
       "  <tbody>\n",
       "    <tr>\n",
       "      <th>0</th>\n",
       "      <td>Free Play 1</td>\n",
       "      <td>0.2379</td>\n",
       "      <td>0.0091</td>\n",
       "      <td>0.2207</td>\n",
       "      <td>0.2610</td>\n",
       "    </tr>\n",
       "    <tr>\n",
       "      <th>1</th>\n",
       "      <td>Still Face 1</td>\n",
       "      <td>0.2368</td>\n",
       "      <td>0.0100</td>\n",
       "      <td>0.2190</td>\n",
       "      <td>0.2621</td>\n",
       "    </tr>\n",
       "    <tr>\n",
       "      <th>2</th>\n",
       "      <td>Free Play 2</td>\n",
       "      <td>0.2438</td>\n",
       "      <td>0.0100</td>\n",
       "      <td>0.2296</td>\n",
       "      <td>0.2660</td>\n",
       "    </tr>\n",
       "    <tr>\n",
       "      <th>3</th>\n",
       "      <td>Still Face 2</td>\n",
       "      <td>0.2441</td>\n",
       "      <td>0.0132</td>\n",
       "      <td>0.2317</td>\n",
       "      <td>0.3053</td>\n",
       "    </tr>\n",
       "    <tr>\n",
       "      <th>4</th>\n",
       "      <td>Reunion</td>\n",
       "      <td>0.2431</td>\n",
       "      <td>0.0108</td>\n",
       "      <td>0.2163</td>\n",
       "      <td>0.2657</td>\n",
       "    </tr>\n",
       "  </tbody>\n",
       "</table>\n",
       "</div>"
      ],
      "text/plain": [
       "      Condition    Mean      SD     Min     Max\n",
       "0   Free Play 1  0.2379  0.0091  0.2207  0.2610\n",
       "1  Still Face 1  0.2368  0.0100  0.2190  0.2621\n",
       "2   Free Play 2  0.2438  0.0100  0.2296  0.2660\n",
       "3  Still Face 2  0.2441  0.0132  0.2317  0.3053\n",
       "4       Reunion  0.2431  0.0108  0.2163  0.2657"
      ]
     },
     "execution_count": 22,
     "metadata": {},
     "output_type": "execute_result"
    }
   ],
   "source": [
    "descriptives = {'Mean': [],\n",
    "                'SD': [],\n",
    "                'Min': [],\n",
    "                'Max': []}\n",
    "\n",
    "for condition in all_stages: \n",
    "    descriptives['Mean'].append(round(np.mean(condition), 4))\n",
    "    descriptives['SD'].append(round(np.std(condition), 4))\n",
    "    descriptives['Min'].append(round(np.min(condition), 4))\n",
    "    descriptives['Max'].append(round(np.max(condition), 4))\n",
    "\n",
    "descriptives_df = pd.DataFrame(descriptives)\n",
    "descriptives_df.insert(0, 'Condition', ['Free Play 1', 'Still Face 1', 'Free Play 2',\n",
    "                                        'Still Face 2', 'Reunion'])\n",
    "\n",
    "descriptives_df.to_latex('synchrony_descriptives_theta.tex')\n",
    "descriptives_df"
   ]
  },
  {
   "cell_type": "code",
   "execution_count": 23,
   "metadata": {},
   "outputs": [
    {
     "name": "stdout",
     "output_type": "stream",
     "text": [
      "Test statistic: 0.934256911277771\n",
      "p-value =  7.099230856510985e-07 -> data is non-normally distributed\n"
     ]
    }
   ],
   "source": [
    "# Load data\n",
    "df = pd.DataFrame({\"FreePlay1\": fp1_theta,\n",
    "                  \"StillFace1\": sf1_theta,\n",
    "                  \"FreePlay2\": fp2_theta,\n",
    "                  \"StillFace2\": sf2_theta,\n",
    "                  'Reunion': ru_theta\n",
    "                  })\n",
    "\n",
    "\n",
    "# Create a multi-indexed dataframe\n",
    "df_melted_theta = pd.melt(df.reset_index(), id_vars=['index'], value_vars=['FreePlay1', 'StillFace1', 'FreePlay2', 'StillFace2', 'Reunion'])\n",
    "\n",
    "# Rename columns\n",
    "df_melted_theta.columns = ['id', 'Condition', 'Synchrony']\n",
    "\n",
    "stat, p = shapiro(df_melted_theta[\"Synchrony\"])\n",
    "\n",
    "print(\"Test statistic:\", stat)\n",
    "if p > 0.05:\n",
    "    print(\"p = \", p, \"-> data is normally distributed\")\n",
    "else:\n",
    "    print(\"p-value = \", p, \"-> data is non-normally distributed\")"
   ]
  },
  {
   "attachments": {},
   "cell_type": "markdown",
   "metadata": {},
   "source": [
    "## Fisher Z-Transform"
   ]
  },
  {
   "cell_type": "code",
   "execution_count": 24,
   "metadata": {},
   "outputs": [
    {
     "name": "stdout",
     "output_type": "stream",
     "text": [
      "Test statistic: 0.9883928894996643\n",
      "p =  0.19180308282375336 -> data is normally distributed\n"
     ]
    }
   ],
   "source": [
    "# Perform the Fisher z-transform\n",
    "z_fp1_theta = np.arctanh(fp1_theta)\n",
    "z_sf1_theta = np.arctanh(sf1_theta)\n",
    "z_fp2_theta = np.arctanh(fp2_theta)\n",
    "z_sf1_theta = np.arctanh(sf1_theta)\n",
    "z_ru_theta = np.arctanh(ru_theta)\n",
    "\n",
    "# Load data\n",
    "df = pd.DataFrame({\"FreePlay1\": z_fp1_alpha,\n",
    "                  \"StillFace1\": z_sf1_alpha,\n",
    "                  \"FreePlay2\": z_fp2_alpha,\n",
    "                  \"StillFace2\": z_sf2_alpha,\n",
    "                  'Reunion': z_ru_alpha\n",
    "                  })\n",
    "\n",
    "\n",
    "# Create a multi-indexed dataframe\n",
    "df_melted_z = pd.melt(df.reset_index(), id_vars=['index'], value_vars=['FreePlay1', 'StillFace1', 'FreePlay2', 'StillFace2', 'Reunion'])\n",
    "\n",
    "# Rename columns\n",
    "df_melted_z.columns = ['id', 'Condition', 'Synchrony']\n",
    "\n",
    "data = np.random.normal(0, 1, 100)\n",
    "stat, p = shapiro(df_melted_z[\"Synchrony\"])\n",
    "\n",
    "print(\"Test statistic:\", stat)\n",
    "if p > 0.05:\n",
    "    print(\"p = \", p, \"-> data is normally distributed\")\n",
    "else:\n",
    "    print(\"p-value = \", p, \"-> data is non-normally distributed\")"
   ]
  },
  {
   "attachments": {},
   "cell_type": "markdown",
   "metadata": {},
   "source": [
    "## Main Effect: Friedman Test"
   ]
  },
  {
   "cell_type": "code",
   "execution_count": 25,
   "metadata": {},
   "outputs": [
    {
     "data": {
      "text/html": [
       "<div>\n",
       "<style scoped>\n",
       "    .dataframe tbody tr th:only-of-type {\n",
       "        vertical-align: middle;\n",
       "    }\n",
       "\n",
       "    .dataframe tbody tr th {\n",
       "        vertical-align: top;\n",
       "    }\n",
       "\n",
       "    .dataframe thead th {\n",
       "        text-align: right;\n",
       "    }\n",
       "</style>\n",
       "<table border=\"1\" class=\"dataframe\">\n",
       "  <thead>\n",
       "    <tr style=\"text-align: right;\">\n",
       "      <th></th>\n",
       "      <th>Source</th>\n",
       "      <th>W</th>\n",
       "      <th>ddof1</th>\n",
       "      <th>Q</th>\n",
       "      <th>p-unc</th>\n",
       "    </tr>\n",
       "  </thead>\n",
       "  <tbody>\n",
       "    <tr>\n",
       "      <th>Friedman</th>\n",
       "      <td>Condition</td>\n",
       "      <td>0.092746</td>\n",
       "      <td>4</td>\n",
       "      <td>12.242424</td>\n",
       "      <td>0.015637</td>\n",
       "    </tr>\n",
       "  </tbody>\n",
       "</table>\n",
       "</div>"
      ],
      "text/plain": [
       "             Source         W  ddof1          Q     p-unc\n",
       "Friedman  Condition  0.092746      4  12.242424  0.015637"
      ]
     },
     "execution_count": 25,
     "metadata": {},
     "output_type": "execute_result"
    }
   ],
   "source": [
    "# Perform Friedman test\n",
    "pg.friedman(data=df_melted_theta, dv='Synchrony', within='Condition', subject = 'id', method = 'chisq')"
   ]
  },
  {
   "attachments": {},
   "cell_type": "markdown",
   "metadata": {},
   "source": [
    "## Post Hoc: Wilcoxon Signed-Rank Test"
   ]
  },
  {
   "cell_type": "code",
   "execution_count": 26,
   "metadata": {},
   "outputs": [
    {
     "name": "stdout",
     "output_type": "stream",
     "text": [
      "Post-hoc test result:\n",
      "            FreePlay1  StillFace1  FreePlay2  StillFace2   Reunion\n",
      "FreePlay1    1.000000    0.366442   0.016581    0.016581  0.016882\n",
      "StillFace1   0.366442    1.000000   0.016581    0.016581  0.016581\n",
      "FreePlay2    0.016581    0.016581   1.000000    0.366442  0.420000\n",
      "StillFace2   0.016581    0.016581   0.366442    1.000000  0.382067\n",
      "Reunion      0.016882    0.016581   0.420000    0.382067  1.000000\n",
      "Z-values:\n",
      "[[   0. -252. -145. -149. -155.]\n",
      " [ 252.    0. -146. -151. -145.]\n",
      " [ 145.  146.    0. -258. -280.]\n",
      " [ 149.  151.  258.    0. -267.]\n",
      " [ 155.  145.  280.  267.    0.]]\n"
     ]
    }
   ],
   "source": [
    "# Perform post-hoc test and adjustment\n",
    "posthoc_result_theta = sp.posthoc_wilcoxon(a=df_melted_theta, val_col=\"Synchrony\", group_col=\"Condition\", p_adjust='fdr_tsbky')\n",
    "\n",
    "# Compute z-values\n",
    "z_values_theta = get_z_values(df_melted_theta, posthoc_result_theta.index)\n",
    "\n",
    "print(\"Post-hoc test result:\")\n",
    "print(posthoc_result_theta)\n",
    "print(\"Z-values:\")\n",
    "print(z_values_theta)"
   ]
  },
  {
   "cell_type": "code",
   "execution_count": 27,
   "metadata": {},
   "outputs": [
    {
     "name": "stdout",
     "output_type": "stream",
     "text": [
      "p-value annotation legend:\n",
      "ns: 5.00e-02 < p <= 1.00e+00\n",
      "*: 1.00e-02 < p <= 5.00e-02\n",
      "**: 1.00e-03 < p <= 1.00e-02\n",
      "***: 1.00e-04 < p <= 1.00e-03\n",
      "****: p <= 1.00e-04\n",
      "\n",
      "FreePlay1 v.s. StillFace1: Custom statistical test, P_val:5.900e-05\n"
     ]
    },
    {
     "name": "stdout",
     "output_type": "stream",
     "text": [
      "StillFace1 v.s. FreePlay2: Custom statistical test, P_val:5.200e-05\n",
      "StillFace2 v.s. Reunion: Custom statistical test, P_val:5.281e-03\n",
      "FreePlay2 v.s. Reunion: Custom statistical test, P_val:4.622e-02\n",
      "FreePlay1 v.s. StillFace2: Custom statistical test, P_val:7.759e-03\n",
      "StillFace1 v.s. Reunion: Custom statistical test, P_val:5.200e-05\n"
     ]
    },
    {
     "data": {
      "image/png": "[encoded data removed]",
      "text/plain": [
       "<Figure size 640x480 with 1 Axes>"
      ]
     },
     "metadata": {},
     "output_type": "display_data"
    }
   ],
   "source": [
    "ax = sns.boxplot(data = df_melted_theta, x = 'Condition', y = 'Synchrony', width = 0.6)\n",
    "ax.set_xticklabels(['Free Play 1', 'Still Face 1', 'Free Play 2', 'Still Face 2', 'Reunion'])\n",
    "# ax.set(ylim=(0.3, 0.55))\n",
    "add_stat_annotation(ax, data = df_melted_theta, x = 'Condition', y = 'Synchrony', \n",
    "                    box_pairs = [('FreePlay1', 'StillFace1'), (\"FreePlay1\", \"StillFace2\"), ('StillFace1', 'FreePlay2'),\n",
    "                                 ('StillFace1', 'Reunion'), (\"FreePlay2\", \"Reunion\"), ('StillFace2', 'Reunion')\n",
    "                                 ],\n",
    "                    perform_stat_test=False,\n",
    "                    pvalues=[0.000059, 0.007759, 0.000052, 0.000052, 0.046217, 0.005281],\n",
    "                    text_format = 'star',\n",
    ")\n",
    "\n",
    "ax.figure.savefig(\"theta_results.png\") "
   ]
  },
  {
   "attachments": {},
   "cell_type": "markdown",
   "metadata": {},
   "source": [
    "## Calculating the % of the data kept after validation"
   ]
  },
  {
   "cell_type": "code",
   "execution_count": 30,
   "metadata": {},
   "outputs": [
    {
     "name": "stdout",
     "output_type": "stream",
     "text": [
      "0.9523148148148148\n"
     ]
    }
   ],
   "source": [
    "with open(\"validated_results_alpha_pli.json\") as f:\n",
    "    results_theta = json.load(f)\n",
    "\n",
    "epochs = 0\n",
    "percent_kept = [0, 0, 0, 0, 0]\n",
    "for part, stages in results_theta.items():\n",
    "    for stage, data in stages.items():\n",
    "        stage = int(stage[1]) - 1\n",
    "        epochs += np.array(data).shape[0]\n",
    "        nan_count = np.count_nonzero(np.isnan(np.array(data)))\n",
    "        nonnan_count = np.count_nonzero(~np.isnan(np.array(data)))\n",
    "        percent_kept[stage - 1] = nonnan_count/(nonnan_count+nan_count)\n",
    "            \n",
    "    \n",
    "print(np.mean(percent_kept))"
   ]
  },
  {
   "cell_type": "code",
   "execution_count": 29,
   "metadata": {},
   "outputs": [
    {
     "name": "stdout",
     "output_type": "stream",
     "text": [
      "0.952951388888889\n"
     ]
    }
   ],
   "source": [
    "import json\n",
    "import numpy as np\n",
    "\n",
    "with open(\"validated_results_theta_pli.json\") as f:\n",
    "    results_theta = json.load(f)\n",
    "\n",
    "epochs = 0\n",
    "percent_kept = [0, 0, 0, 0, 0]\n",
    "for part, stages in results_theta.items():\n",
    "    for stage, data in stages.items():\n",
    "        stage = int(stage[1]) - 1\n",
    "        epochs += np.array(data).shape[0]\n",
    "        nan_count = np.count_nonzero(np.isnan(np.array(data)))\n",
    "        nonnan_count = np.count_nonzero(~np.isnan(np.array(data)))\n",
    "        percent_kept[stage - 1] = nonnan_count/(nonnan_count+nan_count)\n",
    "            \n",
    "    \n",
    "print(np.mean(percent_kept))"
   ]
  }
 ],
 "metadata": {
  "kernelspec": {
   "display_name": ".venv",
   "language": "python",
   "name": "python3"
  },
  "language_info": {
   "codemirror_mode": {
    "name": "ipython",
    "version": 3
   },
   "file_extension": ".py",
   "mimetype": "text/x-python",
   "name": "python",
   "nbconvert_exporter": "python",
   "pygments_lexer": "ipython3",
   "version": "3.10.5"
  },
  "orig_nbformat": 4
 },
 "nbformat": 4,
 "nbformat_minor": 2
}
