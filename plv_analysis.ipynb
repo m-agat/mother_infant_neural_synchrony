{
 "cells": [
  {
   "cell_type": "code",
   "execution_count": 22,
   "metadata": {},
   "outputs": [],
   "source": [
    "import json \n",
    "import numpy as np\n",
    "import matplotlib.pyplot as plt\n",
    "from scipy import stats\n",
    "from hypyp import stats \n",
    "import seaborn as sns\n",
    "from statannot import add_stat_annotation"
   ]
  },
  {
   "cell_type": "code",
   "execution_count": 70,
   "metadata": {},
   "outputs": [],
   "source": [
    "f = open('simple_results_alpha.json')\n",
    "\n",
    "# returns JSON object as \n",
    "# a dictionary\n",
    "results = json.load(f)\n",
    "  \n",
    "# Iterating through the json\n",
    "# list\n",
    "fp1_alpha = []\n",
    "sf1_alpha = []\n",
    "fp2_alpha = []\n",
    "sf2_alpha = []\n",
    "ru_alpha = []\n",
    "\n",
    "all_stages = [fp1_alpha, sf1_alpha, fp2_alpha, sf2_alpha, ru_alpha]\n",
    "for part, stages in results.items():\n",
    "    if part == '623' or part == '802':\n",
    "        continue\n",
    "    else:\n",
    "        for stage, data in stages.items():\n",
    "            stage = int(stage[1]) - 1\n",
    "            all_stages[stage].append(np.nanmean(data))\n",
    "\n",
    "sf2_alpha = [0 if str(x) == 'nan' else x for x in sf2_alpha]\n",
    "\n",
    "data_alpha = [np.array(fp1_alpha), np.array(sf1_alpha), np.array(fp2_alpha), np.array(sf2_alpha)] "
   ]
  },
  {
   "cell_type": "code",
   "execution_count": 63,
   "metadata": {},
   "outputs": [
    {
     "name": "stdout",
     "output_type": "stream",
     "text": [
      "    freeplay1  stillface1  freeplay2  sf2_alpha  ru_alpha\n",
      "0    0.261570    0.257778   0.253058   0.259555  0.260883\n",
      "1    0.251305    0.255803   0.252177   0.251335  0.251390\n",
      "2    0.254150    0.242790   0.256775   0.247727  0.253671\n",
      "3    0.255040    0.248866   0.240057   0.250856  0.249279\n",
      "4    0.252914    0.250490   0.247936   0.254836  0.250149\n",
      "5    0.248928    0.250089   0.252452   0.251736  0.251714\n",
      "6    0.252442    0.230762   0.249311   0.226244  0.246853\n",
      "7    0.250057    0.253792   0.250950   0.267791  0.247728\n",
      "8    0.243366    0.208467   0.241274   0.224614  0.245123\n",
      "9    0.258490    0.260590   0.258181   0.258135  0.257408\n",
      "10   0.242606    0.239085   0.245430   0.235983  0.242270\n",
      "11   0.252926    0.250148   0.255093   0.250467  0.249423\n",
      "12   0.255242    0.255156   0.262488   0.249914  0.259533\n",
      "13   0.255699    0.245243   0.254191   0.248934  0.252531\n",
      "14   0.254909    0.253626   0.255287   0.253666  0.255202\n",
      "15   0.253289    0.256428   0.248100   0.253695  0.252598\n",
      "16   0.255424    0.247257   0.254158   0.250197  0.254500\n",
      "17   0.248530    0.251962   0.244989   0.246638  0.245982\n",
      "18   0.253881    0.242077   0.252683   0.245848  0.251992\n",
      "19   0.253981    0.249293   0.254667   0.251842  0.254267\n",
      "20   0.251741    0.255444   0.250292   0.252443  0.253725\n",
      "21   0.257432    0.262268   0.263500   0.256403  0.255205\n",
      "22   0.264255    0.259272   0.258602   0.253098  0.262876\n",
      "23   0.245200    0.238382   0.243343   0.235448  0.249045\n",
      "24   0.247136    0.245964   0.245032   0.245031  0.250541\n",
      "25   0.256775    0.250613   0.258424   0.252291  0.250224\n",
      "26   0.252248    0.242316   0.248482   0.242385  0.248863\n",
      "27   0.247622    0.244288   0.247713   0.238038  0.251570\n",
      "28   0.259342    0.263231   0.258325   0.263515  0.258553\n",
      "29   0.253277    0.249581   0.249715   0.250069  0.253283\n",
      "30   0.254733    0.253291   0.258708   0.255096  0.262390\n",
      "31   0.255906    0.261589   0.249230   0.257834  0.249675\n",
      "32   0.247231    0.242840   0.249403   0.237849  0.253076\n"
     ]
    }
   ],
   "source": [
    "df_dict = {'freeplay1': fp1_alpha,\n",
    "           'stillface1': sf1_alpha,\n",
    "           'freeplay2': fp2_alpha,\n",
    "           'sf2_alpha': sf2_alpha,\n",
    "           'ru_alpha': ru_alpha}\n",
    "\n",
    "df = pd.DataFrame(df_dict)\n",
    "df.to_csv('plv_results_alpha.csv')\n",
    "print(df)"
   ]
  },
  {
   "attachments": {},
   "cell_type": "markdown",
   "metadata": {},
   "source": [
    "# Test Normality of Distribution"
   ]
  },
  {
   "cell_type": "code",
   "execution_count": 96,
   "metadata": {},
   "outputs": [
    {
     "name": "stdout",
     "output_type": "stream",
     "text": [
      "Test statistic: 0.9038286209106445\n",
      "p-value: 1.0375048731248171e-07\n"
     ]
    }
   ],
   "source": [
    "import pandas as pd\n",
    "import pingouin as pg\n",
    "from scipy.stats import shapiro\n",
    "\n",
    "# Load data\n",
    "df = pd.DataFrame({\"FreePlay1\": fp1_alpha,\n",
    "                  \"StillFace1\": sf1_alpha,\n",
    "                  \"FreePlay2\": fp2_alpha,\n",
    "                  \"StillFace2\": sf2_alpha,\n",
    "                #   'Reunion': ru_alpha\n",
    "                  })\n",
    "\n",
    "\n",
    "# Create a multi-indexed dataframe\n",
    "df_melted_alpha = pd.melt(df.reset_index(), id_vars=['index'], value_vars=['FreePlay1', 'StillFace1', 'FreePlay2', 'StillFace2'])#, 'Reunion'])\n",
    "\n",
    "# Rename columns\n",
    "df_melted_alpha.columns = ['id', 'Condition', 'Synchrony']\n",
    "\n",
    "# grouped = df_melted.groupby([\"condition\"])\n",
    "\n",
    "data = np.random.normal(0, 1, 100)\n",
    "stat, p = shapiro(df_melted_alpha[\"Synchrony\"])\n",
    "\n",
    "print(\"Test statistic:\", stat)\n",
    "print(\"p-value:\", p)"
   ]
  },
  {
   "attachments": {},
   "cell_type": "markdown",
   "metadata": {},
   "source": [
    "# Fisher Z Transform"
   ]
  },
  {
   "cell_type": "code",
   "execution_count": 95,
   "metadata": {},
   "outputs": [
    {
     "name": "stdout",
     "output_type": "stream",
     "text": [
      "Test statistic: 0.9064258337020874\n",
      "p-value: 1.4422651872791903e-07\n"
     ]
    }
   ],
   "source": [
    "# Perform the Fisher z-transform\n",
    "z_fp1_alpha = np.arctanh(fp1_alpha)\n",
    "z_sf1_alpha = np.arctanh(sf1_alpha)\n",
    "z_fp2_alpha = np.arctanh(fp2_alpha)\n",
    "z_sf2_alpha = np.arctanh(sf2_alpha)\n",
    "z_ru_alpha = np.arctanh(ru_alpha)\n",
    "\n",
    "# Load data\n",
    "df = pd.DataFrame({\"FreePlay1\": z_fp1_alpha,\n",
    "                  \"StillFace1\": z_sf1_alpha,\n",
    "                  \"FreePlay2\": z_fp2_alpha,\n",
    "                  \"StillFace2\": z_sf2_alpha,\n",
    "                  'Reunion': z_ru_alpha\n",
    "                  })\n",
    "\n",
    "\n",
    "# Create a multi-indexed dataframe\n",
    "df_melted_z = pd.melt(df.reset_index(), id_vars=['index'], value_vars=['FreePlay1', 'StillFace1', 'FreePlay2', 'StillFace2', 'Reunion'])\n",
    "\n",
    "# Rename columns\n",
    "df_melted_z.columns = ['id', 'Condition', 'Synchrony']\n",
    "\n",
    "data = np.random.normal(0, 1, 100)\n",
    "stat, p = shapiro(df_melted_z[\"Synchrony\"])\n",
    "\n",
    "print(\"Test statistic:\", stat)\n",
    "print(\"p-value:\", p)"
   ]
  },
  {
   "attachments": {},
   "cell_type": "markdown",
   "metadata": {},
   "source": [
    "### The distribution is still not normal -> non-parametric one-way ANOVA -> Friedman Test"
   ]
  },
  {
   "attachments": {},
   "cell_type": "markdown",
   "metadata": {},
   "source": [
    "## Friedman Test\n",
    "The null hypothesis (H0): The mean for each population is equal.\n",
    "\n",
    "The alternative hypothesis: (Ha): At least one population mean is different from the rest.\n",
    "\n",
    "https://www.statology.org/friedman-test-python/"
   ]
  },
  {
   "cell_type": "code",
   "execution_count": 97,
   "metadata": {},
   "outputs": [
    {
     "data": {
      "text/html": [
       "<div>\n",
       "<style scoped>\n",
       "    .dataframe tbody tr th:only-of-type {\n",
       "        vertical-align: middle;\n",
       "    }\n",
       "\n",
       "    .dataframe tbody tr th {\n",
       "        vertical-align: top;\n",
       "    }\n",
       "\n",
       "    .dataframe thead th {\n",
       "        text-align: right;\n",
       "    }\n",
       "</style>\n",
       "<table border=\"1\" class=\"dataframe\">\n",
       "  <thead>\n",
       "    <tr style=\"text-align: right;\">\n",
       "      <th></th>\n",
       "      <th>Source</th>\n",
       "      <th>W</th>\n",
       "      <th>ddof1</th>\n",
       "      <th>Q</th>\n",
       "      <th>p-unc</th>\n",
       "    </tr>\n",
       "  </thead>\n",
       "  <tbody>\n",
       "    <tr>\n",
       "      <th>Friedman</th>\n",
       "      <td>Condition</td>\n",
       "      <td>0.113315</td>\n",
       "      <td>3</td>\n",
       "      <td>11.218182</td>\n",
       "      <td>0.010603</td>\n",
       "    </tr>\n",
       "  </tbody>\n",
       "</table>\n",
       "</div>"
      ],
      "text/plain": [
       "             Source         W  ddof1          Q     p-unc\n",
       "Friedman  Condition  0.113315      3  11.218182  0.010603"
      ]
     },
     "execution_count": 97,
     "metadata": {},
     "output_type": "execute_result"
    }
   ],
   "source": [
    "# Perform Friedman test\n",
    "pg.friedman(data=df_melted_alpha, dv='Synchrony', within='Condition', subject = 'id')"
   ]
  },
  {
   "cell_type": "code",
   "execution_count": 98,
   "metadata": {},
   "outputs": [
    {
     "data": {
      "text/html": [
       "<div>\n",
       "<style scoped>\n",
       "    .dataframe tbody tr th:only-of-type {\n",
       "        vertical-align: middle;\n",
       "    }\n",
       "\n",
       "    .dataframe tbody tr th {\n",
       "        vertical-align: top;\n",
       "    }\n",
       "\n",
       "    .dataframe thead th {\n",
       "        text-align: right;\n",
       "    }\n",
       "</style>\n",
       "<table border=\"1\" class=\"dataframe\">\n",
       "  <thead>\n",
       "    <tr style=\"text-align: right;\">\n",
       "      <th></th>\n",
       "      <th>FreePlay1</th>\n",
       "      <th>StillFace1</th>\n",
       "      <th>FreePlay2</th>\n",
       "      <th>StillFace2</th>\n",
       "    </tr>\n",
       "  </thead>\n",
       "  <tbody>\n",
       "    <tr>\n",
       "      <th>FreePlay1</th>\n",
       "      <td>1.000000</td>\n",
       "      <td>0.055819</td>\n",
       "      <td>1.000000</td>\n",
       "      <td>0.003341</td>\n",
       "    </tr>\n",
       "    <tr>\n",
       "      <th>StillFace1</th>\n",
       "      <td>0.055819</td>\n",
       "      <td>1.000000</td>\n",
       "      <td>0.581718</td>\n",
       "      <td>1.000000</td>\n",
       "    </tr>\n",
       "    <tr>\n",
       "      <th>FreePlay2</th>\n",
       "      <td>1.000000</td>\n",
       "      <td>0.581718</td>\n",
       "      <td>1.000000</td>\n",
       "      <td>0.303514</td>\n",
       "    </tr>\n",
       "    <tr>\n",
       "      <th>StillFace2</th>\n",
       "      <td>0.003341</td>\n",
       "      <td>1.000000</td>\n",
       "      <td>0.303514</td>\n",
       "      <td>1.000000</td>\n",
       "    </tr>\n",
       "  </tbody>\n",
       "</table>\n",
       "</div>"
      ],
      "text/plain": [
       "            FreePlay1  StillFace1  FreePlay2  StillFace2\n",
       "FreePlay1    1.000000    0.055819   1.000000    0.003341\n",
       "StillFace1   0.055819    1.000000   0.581718    1.000000\n",
       "FreePlay2    1.000000    0.581718   1.000000    0.303514\n",
       "StillFace2   0.003341    1.000000   0.303514    1.000000"
      ]
     },
     "execution_count": 98,
     "metadata": {},
     "output_type": "execute_result"
    }
   ],
   "source": [
    "import scikit_posthocs as sp\n",
    "post_hoc_wilcoxon_alpha = sp.posthoc_wilcoxon(a = df_melted_alpha, val_col = \"Synchrony\", group_col = \"Condition\", p_adjust = 'bonferroni')\n",
    "post_hoc_wilcoxon_alpha"
   ]
  },
  {
   "cell_type": "code",
   "execution_count": 100,
   "metadata": {},
   "outputs": [
    {
     "name": "stdout",
     "output_type": "stream",
     "text": [
      "p-value annotation legend:\n",
      "ns: 5.00e-02 < p <= 1.00e+00\n",
      "*: 1.00e-02 < p <= 5.00e-02\n",
      "**: 1.00e-03 < p <= 1.00e-02\n",
      "***: 1.00e-04 < p <= 1.00e-03\n",
      "****: p <= 1.00e-04\n",
      "\n",
      "Using zero_method  wilcox\n",
      "FreePlay1 v.s. StillFace1: Wilcoxon test (paired samples) with Bonferroni correction, P_val=3.721e-02 stat=1.370e+02\n",
      "Using zero_method  wilcox\n",
      "StillFace1 v.s. FreePlay2: Wilcoxon test (paired samples) with Bonferroni correction, P_val=3.878e-01 stat=1.870e+02\n",
      "Using zero_method  wilcox\n",
      "FreePlay2 v.s. StillFace2: Wilcoxon test (paired samples) with Bonferroni correction, P_val=2.023e-01 stat=1.710e+02\n",
      "Using zero_method  wilcox\n",
      "FreePlay1 v.s. StillFace2: Wilcoxon test (paired samples) with Bonferroni correction, P_val=2.227e-03 stat=9.500e+01\n"
     ]
    },
    {
     "data": {
      "text/plain": [
       "(<AxesSubplot: xlabel='Condition', ylabel='Synchrony'>,\n",
       " [<statannot.StatResult.StatResult at 0x7fe8cc89c040>,\n",
       "  <statannot.StatResult.StatResult at 0x7fe8cc6dceb0>,\n",
       "  <statannot.StatResult.StatResult at 0x7fe8cc6dd6f0>,\n",
       "  <statannot.StatResult.StatResult at 0x7fe8cc702a40>])"
      ]
     },
     "execution_count": 100,
     "metadata": {},
     "output_type": "execute_result"
    },
    {
     "data": {
      "image/png": "[encoded data removed]",
      "text/plain": [
       "<Figure size 640x480 with 1 Axes>"
      ]
     },
     "metadata": {},
     "output_type": "display_data"
    }
   ],
   "source": [
    "ax = sns.boxplot(data = df_melted_alpha, x = 'Condition', y = 'Synchrony')\n",
    "# ax.set(ylim=(0.3, 0.55))\n",
    "add_stat_annotation(ax, data = df_melted_alpha, x = 'Condition', y = 'Synchrony', \n",
    "                    box_pairs = [('FreePlay1', 'StillFace1'), ('FreePlay1', 'StillFace2'),  ('StillFace1', 'FreePlay2'), ('FreePlay2', 'StillFace2')],\n",
    "                                 #('StillFace1', 'Reunion'), ('StillFace2', 'Reunion')],\n",
    "                    perform_stat_test=True,\n",
    "                    test = 'Wilcoxon',\n",
    "                    text_format = 'star',\n",
    ")"
   ]
  },
  {
   "cell_type": "code",
   "execution_count": 101,
   "metadata": {},
   "outputs": [
    {
     "name": "stdout",
     "output_type": "stream",
     "text": [
      "Wilcoxon Rank-Sum Test\n",
      "Statistic: 601.0, p-value: 0.0012694992107459154\n"
     ]
    }
   ],
   "source": [
    "from scipy.stats import wilcoxon\n",
    "res = wilcoxon(fp1_alpha + fp2_alpha, sf1_alpha + sf2_alpha)\n",
    "print(\"Wilcoxon Rank-Sum Test\")\n",
    "print(f\"Statistic: {res.statistic}, p-value: {res.pvalue}\")"
   ]
  },
  {
   "cell_type": "code",
   "execution_count": 103,
   "metadata": {},
   "outputs": [
    {
     "name": "stdout",
     "output_type": "stream",
     "text": [
      "p-value annotation legend:\n",
      "ns: 5.00e-02 < p <= 1.00e+00\n",
      "*: 1.00e-02 < p <= 5.00e-02\n",
      "**: 1.00e-03 < p <= 1.00e-02\n",
      "***: 1.00e-04 < p <= 1.00e-03\n",
      "****: p <= 1.00e-04\n",
      "\n",
      "FreePlay v.s. StillFace: Custom statistical test, P_val:1.269e-03\n"
     ]
    },
    {
     "data": {
      "text/plain": [
       "(<AxesSubplot: xlabel='Condition', ylabel='Synchrony'>,\n",
       " [<statannot.StatResult.StatResult at 0x7fe8cc6dc7c0>])"
      ]
     },
     "execution_count": 103,
     "metadata": {},
     "output_type": "execute_result"
    },
    {
     "data": {
      "image/png": "[encoded data removed]",
      "text/plain": [
       "<Figure size 640x480 with 1 Axes>"
      ]
     },
     "metadata": {},
     "output_type": "display_data"
    }
   ],
   "source": [
    "from scipy.stats import wilcoxon\n",
    "import seaborn as sns\n",
    "from statannot import add_stat_annotation\n",
    "\n",
    "df1 = pd.DataFrame({\"FreePlay\": fp1_alpha + fp2_alpha,\n",
    "                  \"StillFace\": sf1_alpha + sf2_alpha\n",
    "                  })\n",
    "\n",
    "\n",
    "# Create a multi-indexed dataframe\n",
    "df_melted_t = pd.melt(df1.reset_index(), id_vars=['index'], value_vars=['FreePlay', 'StillFace'])\n",
    "\n",
    "# Rename columns\n",
    "df_melted_t.columns = ['id', 'Condition', 'Synchrony']\n",
    "\n",
    "ax = sns.boxplot(data = df_melted_t, x = 'Condition', y = 'Synchrony')\n",
    "# ax.set(ylim=(0.3, 0.55))\n",
    "add_stat_annotation(ax, data = df_melted_t, x = 'Condition', y = 'Synchrony', \n",
    "                    box_pairs = [('FreePlay', 'StillFace')],\n",
    "                    perform_stat_test=False,\n",
    "                    text_format = 'star',\n",
    "                    pvalues = [0.0012694992107459154]\n",
    "                    )"
   ]
  },
  {
   "attachments": {},
   "cell_type": "markdown",
   "metadata": {},
   "source": [
    "# Theta"
   ]
  },
  {
   "cell_type": "code",
   "execution_count": 80,
   "metadata": {},
   "outputs": [],
   "source": [
    "f = open('simple_results_theta.json')\n",
    "\n",
    "# returns JSON object as \n",
    "# a dictionary\n",
    "results = json.load(f)\n",
    "  \n",
    "# Iterating through the json\n",
    "# list\n",
    "fp1_theta = []\n",
    "sf1_theta = []\n",
    "fp2_theta = []\n",
    "sf2_theta = []\n",
    "ru_theta = []\n",
    "\n",
    "all_stages = [fp1_theta, sf1_theta, fp2_theta, sf2_theta, ru_theta]\n",
    "for part, stages in results.items():\n",
    "    if part == '802' or part == '623':\n",
    "        continue\n",
    "    else:\n",
    "        for stage, data in stages.items():\n",
    "            stage = int(stage[1]) - 1\n",
    "            all_stages[stage].append(np.nanmean(data))\n",
    "\n",
    "sf2_theta = [0 if str(x) == 'nan' else x for x in sf2_theta]\n",
    "\n",
    "data_theta = [fp1_theta, sf1_theta, fp2_theta, sf2_theta, ru_theta] \n",
    "data_theta = [np.array(x) for x in data_theta]\n",
    "\n",
    "f.close()"
   ]
  },
  {
   "cell_type": "code",
   "execution_count": 91,
   "metadata": {},
   "outputs": [
    {
     "name": "stdout",
     "output_type": "stream",
     "text": [
      "Test statistic: 0.969528317451477\n",
      "p-value: 0.004602065775543451\n"
     ]
    }
   ],
   "source": [
    "import pandas as pd\n",
    "import pingouin as pg\n",
    "from statsmodels.stats.anova import AnovaRM\n",
    "from scipy.stats import shapiro\n",
    "\n",
    "# Load data\n",
    "df = pd.DataFrame({\"FreePlay1\": fp1_theta,\n",
    "                  \"StillFace1\": sf1_theta,\n",
    "                  \"FreePlay2\": fp2_theta,\n",
    "                  \"StillFace2\": sf2_theta,\n",
    "                #   'Reunion': ru_theta\n",
    "                  })\n",
    "\n",
    "\n",
    "# Create a multi-indexed dataframe\n",
    "df_melted_theta = pd.melt(df.reset_index(), id_vars=['index'], value_vars=['FreePlay1', 'StillFace1', 'FreePlay2', 'StillFace2'])#, 'Reunion'])\n",
    "\n",
    "# Rename columns\n",
    "df_melted_theta.columns = ['id', 'Condition', 'Synchrony']\n",
    "\n",
    "stat, p = shapiro(df_melted_theta[\"Synchrony\"])\n",
    "\n",
    "print(\"Test statistic:\", stat)\n",
    "print(\"p-value:\", p)"
   ]
  },
  {
   "cell_type": "code",
   "execution_count": 92,
   "metadata": {},
   "outputs": [
    {
     "data": {
      "text/html": [
       "<div>\n",
       "<style scoped>\n",
       "    .dataframe tbody tr th:only-of-type {\n",
       "        vertical-align: middle;\n",
       "    }\n",
       "\n",
       "    .dataframe tbody tr th {\n",
       "        vertical-align: top;\n",
       "    }\n",
       "\n",
       "    .dataframe thead th {\n",
       "        text-align: right;\n",
       "    }\n",
       "</style>\n",
       "<table border=\"1\" class=\"dataframe\">\n",
       "  <thead>\n",
       "    <tr style=\"text-align: right;\">\n",
       "      <th></th>\n",
       "      <th>Source</th>\n",
       "      <th>W</th>\n",
       "      <th>ddof1</th>\n",
       "      <th>Q</th>\n",
       "      <th>p-unc</th>\n",
       "    </tr>\n",
       "  </thead>\n",
       "  <tbody>\n",
       "    <tr>\n",
       "      <th>Friedman</th>\n",
       "      <td>Condition</td>\n",
       "      <td>0.300643</td>\n",
       "      <td>3</td>\n",
       "      <td>29.763636</td>\n",
       "      <td>0.000002</td>\n",
       "    </tr>\n",
       "  </tbody>\n",
       "</table>\n",
       "</div>"
      ],
      "text/plain": [
       "             Source         W  ddof1          Q     p-unc\n",
       "Friedman  Condition  0.300643      3  29.763636  0.000002"
      ]
     },
     "execution_count": 92,
     "metadata": {},
     "output_type": "execute_result"
    }
   ],
   "source": [
    "# Perform Friedman test\n",
    "pg.friedman(data=df_melted_theta, dv='Synchrony', within='Condition', subject = 'id')"
   ]
  },
  {
   "cell_type": "code",
   "execution_count": 93,
   "metadata": {},
   "outputs": [
    {
     "data": {
      "text/html": [
       "<div>\n",
       "<style scoped>\n",
       "    .dataframe tbody tr th:only-of-type {\n",
       "        vertical-align: middle;\n",
       "    }\n",
       "\n",
       "    .dataframe tbody tr th {\n",
       "        vertical-align: top;\n",
       "    }\n",
       "\n",
       "    .dataframe thead th {\n",
       "        text-align: right;\n",
       "    }\n",
       "</style>\n",
       "<table border=\"1\" class=\"dataframe\">\n",
       "  <thead>\n",
       "    <tr style=\"text-align: right;\">\n",
       "      <th></th>\n",
       "      <th>FreePlay1</th>\n",
       "      <th>StillFace1</th>\n",
       "      <th>FreePlay2</th>\n",
       "      <th>StillFace2</th>\n",
       "    </tr>\n",
       "  </thead>\n",
       "  <tbody>\n",
       "    <tr>\n",
       "      <th>FreePlay1</th>\n",
       "      <td>1.000000</td>\n",
       "      <td>0.000048</td>\n",
       "      <td>1.000000</td>\n",
       "      <td>0.027364</td>\n",
       "    </tr>\n",
       "    <tr>\n",
       "      <th>StillFace1</th>\n",
       "      <td>0.000048</td>\n",
       "      <td>1.000000</td>\n",
       "      <td>0.000034</td>\n",
       "      <td>1.000000</td>\n",
       "    </tr>\n",
       "    <tr>\n",
       "      <th>FreePlay2</th>\n",
       "      <td>1.000000</td>\n",
       "      <td>0.000034</td>\n",
       "      <td>1.000000</td>\n",
       "      <td>0.003087</td>\n",
       "    </tr>\n",
       "    <tr>\n",
       "      <th>StillFace2</th>\n",
       "      <td>0.027364</td>\n",
       "      <td>1.000000</td>\n",
       "      <td>0.003087</td>\n",
       "      <td>1.000000</td>\n",
       "    </tr>\n",
       "  </tbody>\n",
       "</table>\n",
       "</div>"
      ],
      "text/plain": [
       "            FreePlay1  StillFace1  FreePlay2  StillFace2\n",
       "FreePlay1    1.000000    0.000048   1.000000    0.027364\n",
       "StillFace1   0.000048    1.000000   0.000034    1.000000\n",
       "FreePlay2    1.000000    0.000034   1.000000    0.003087\n",
       "StillFace2   0.027364    1.000000   0.003087    1.000000"
      ]
     },
     "execution_count": 93,
     "metadata": {},
     "output_type": "execute_result"
    }
   ],
   "source": [
    "post_hoc_wilcoxon_theta = sp.posthoc_wilcoxon(a = df_melted_theta, val_col = \"Synchrony\", group_col = \"Condition\", p_adjust = 'bonferroni')\n",
    "post_hoc_wilcoxon_theta"
   ]
  },
  {
   "cell_type": "code",
   "execution_count": 94,
   "metadata": {},
   "outputs": [
    {
     "name": "stdout",
     "output_type": "stream",
     "text": [
      "p-value annotation legend:\n",
      "ns: 5.00e-02 < p <= 1.00e+00\n",
      "*: 1.00e-02 < p <= 5.00e-02\n",
      "**: 1.00e-03 < p <= 1.00e-02\n",
      "***: 1.00e-04 < p <= 1.00e-03\n",
      "****: p <= 1.00e-04\n",
      "\n",
      "Using zero_method  wilcox\n",
      "FreePlay1 v.s. StillFace1: Wilcoxon test (paired samples) with Bonferroni correction, P_val=3.230e-05 stat=5.100e+01\n",
      "Using zero_method  wilcox\n",
      "StillFace1 v.s. FreePlay2: Wilcoxon test (paired samples) with Bonferroni correction, P_val=2.252e-05 stat=4.800e+01\n",
      "Using zero_method  wilcox\n",
      "FreePlay2 v.s. StillFace2: Wilcoxon test (paired samples) with Bonferroni correction, P_val=2.058e-03 stat=9.400e+01\n",
      "Using zero_method  wilcox\n",
      "FreePlay1 v.s. StillFace2: Wilcoxon test (paired samples) with Bonferroni correction, P_val=1.824e-02 stat=1.250e+02\n"
     ]
    },
    {
     "data": {
      "text/plain": [
       "(<AxesSubplot: xlabel='Condition', ylabel='Synchrony'>,\n",
       " [<statannot.StatResult.StatResult at 0x7fe8cc9b1a20>,\n",
       "  <statannot.StatResult.StatResult at 0x7fe8cca3a0b0>,\n",
       "  <statannot.StatResult.StatResult at 0x7fe8cca3a6b0>,\n",
       "  <statannot.StatResult.StatResult at 0x7fe8cca71570>])"
      ]
     },
     "execution_count": 94,
     "metadata": {},
     "output_type": "execute_result"
    },
    {
     "data": {
      "image/png": "[encoded data removed]",
      "text/plain": [
       "<Figure size 640x480 with 1 Axes>"
      ]
     },
     "metadata": {},
     "output_type": "display_data"
    }
   ],
   "source": [
    "ax = sns.boxplot(data = df_melted_theta, x = 'Condition', y = 'Synchrony')\n",
    "# ax.set(ylim=(0.3, 0.55))\n",
    "add_stat_annotation(ax, data = df_melted_theta, x = 'Condition', y = 'Synchrony', \n",
    "                    box_pairs = [('FreePlay1', 'StillFace1'), ('FreePlay1', 'StillFace2'),  ('StillFace1', 'FreePlay2'), ('FreePlay2', 'StillFace2'),\n",
    "                                 ],\n",
    "                    perform_stat_test=True,\n",
    "                    test = 'Wilcoxon',\n",
    "                    text_format = 'star',\n",
    ")"
   ]
  },
  {
   "cell_type": "code",
   "execution_count": 105,
   "metadata": {},
   "outputs": [
    {
     "name": "stdout",
     "output_type": "stream",
     "text": [
      "Wilcoxon Rank-Sum Test\n",
      "Statistic: 286.0, p-value: 1.6783231548498652e-07\n",
      "p-value annotation legend:\n",
      "ns: 5.00e-02 < p <= 1.00e+00\n",
      "*: 1.00e-02 < p <= 5.00e-02\n",
      "**: 1.00e-03 < p <= 1.00e-02\n",
      "***: 1.00e-04 < p <= 1.00e-03\n",
      "****: p <= 1.00e-04\n",
      "\n",
      "FreePlay v.s. StillFace: Custom statistical test, P_val:1.678e-07\n"
     ]
    },
    {
     "data": {
      "text/plain": [
       "(<AxesSubplot: xlabel='Condition', ylabel='Synchrony'>,\n",
       " [<statannot.StatResult.StatResult at 0x7fe8cc4c64a0>])"
      ]
     },
     "execution_count": 105,
     "metadata": {},
     "output_type": "execute_result"
    },
    {
     "data": {
      "image/png": "[encoded data removed]",
      "text/plain": [
       "<Figure size 640x480 with 1 Axes>"
      ]
     },
     "metadata": {},
     "output_type": "display_data"
    }
   ],
   "source": [
    "from scipy.stats import wilcoxon\n",
    "import seaborn as sns\n",
    "from statannot import add_stat_annotation\n",
    "\n",
    "df1 = pd.DataFrame({\"FreePlay\": fp1_theta + fp2_theta,\n",
    "                  \"StillFace\": sf1_theta + sf2_theta\n",
    "                  })\n",
    "\n",
    "\n",
    "# Create a multi-indexed dataframe\n",
    "df_melted_t = pd.melt(df1.reset_index(), id_vars=['index'], value_vars=['FreePlay', 'StillFace'])\n",
    "\n",
    "# Rename columns\n",
    "df_melted_t.columns = ['id', 'Condition', 'Synchrony']\n",
    "\n",
    "res = wilcoxon(fp1_theta + fp2_theta, sf1_theta + sf2_theta, correction = True)\n",
    "print(\"Wilcoxon Rank-Sum Test\")\n",
    "print(f\"Statistic: {res.statistic}, p-value: {res.pvalue}\")\n",
    "\n",
    "ax = sns.boxplot(data = df_melted_t, x = 'Condition', y = 'Synchrony')\n",
    "# ax.set(ylim=(0.3, 0.55))\n",
    "add_stat_annotation(ax, data = df_melted_t, x = 'Condition', y = 'Synchrony', \n",
    "                    box_pairs = [('FreePlay', 'StillFace')],\n",
    "                    perform_stat_test=False,\n",
    "                    text_format = 'star',\n",
    "                    pvalues = [1.6783231548498652e-07]\n",
    "                    )"
   ]
  }
 ],
 "metadata": {
  "kernelspec": {
   "display_name": ".venv",
   "language": "python",
   "name": "python3"
  },
  "language_info": {
   "codemirror_mode": {
    "name": "ipython",
    "version": 3
   },
   "file_extension": ".py",
   "mimetype": "text/x-python",
   "name": "python",
   "nbconvert_exporter": "python",
   "pygments_lexer": "ipython3",
   "version": "3.10.5"
  },
  "orig_nbformat": 4
 },
 "nbformat": 4,
 "nbformat_minor": 2
}
