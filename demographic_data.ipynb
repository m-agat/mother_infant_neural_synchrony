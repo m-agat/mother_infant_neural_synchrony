{
 "cells": [
  {
   "attachments": {},
   "cell_type": "markdown",
   "metadata": {},
   "source": [
    "# Demographic data\n",
    "\n",
    "The outputs of the code have been intentionally cleared to ensure the protection of participants' data."
   ]
  },
  {
   "cell_type": "code",
   "execution_count": null,
   "metadata": {},
   "outputs": [],
   "source": [
    "import pyreadstat\n",
    "\n",
    "# read the .sav file\n",
    "df, meta = pyreadstat.read_sav(\"BrainsInSync_Qualtrics_June8-2022_FINAL.sav\")\n",
    "df.head()"
   ]
  },
  {
   "attachments": {},
   "cell_type": "markdown",
   "metadata": {},
   "source": [
    "### Exclude the participants who were not present in the neural synchrony dataset"
   ]
  },
  {
   "cell_type": "code",
   "execution_count": null,
   "metadata": {},
   "outputs": [],
   "source": [
    "# IDs of participants in the neural synchrony dataset\n",
    "ids = ['T029', 'T035', 'T036', 'T049', 'T050', 'T056', 'T122', 'T137', 'T188', 'T212', 'T262', 'T287', 'T290', 'T351', 'T389', 'T435', 'T475', 'T477', 'T484', 'T487', 'T520', 'T551', 'T563', 'T576', 'T596', 'T600', 'T623', 'T637', 'T655', 'T682', 'T684', 'T775', 'T802', 'T815', 'T882', 'T892', 'T899', 'T916', 'T917', 'T997']\n",
    "\n",
    "# IDs of participants from the qualtrics survey\n",
    "df_ids = list(df['ID'])\n",
    "excluded_participants = ['T475', 'T563', 'T623', 'T802', 'T899', 'T916', 'T917']\n",
    "\n",
    "# list of participant IDs to exclude\n",
    "exclude_ids = [i for i in df_ids if i not in ids or i in excluded_participants]\n",
    "print(exclude_ids)\n",
    "\n",
    "# exclude rows with the specified IDs\n",
    "df = df[~df['ID'].isin(exclude_ids)]"
   ]
  },
  {
   "cell_type": "code",
   "execution_count": null,
   "metadata": {},
   "outputs": [],
   "source": [
    "df[['Age_child_EEG_Months', 'Sex_Infant', 'GA_atbirth_1', 'nationaliteit', 'nationaliteit_vader', 'Finance_1']].describe()"
   ]
  },
  {
   "attachments": {},
   "cell_type": "markdown",
   "metadata": {},
   "source": [
    "### Age of infants"
   ]
  },
  {
   "cell_type": "code",
   "execution_count": null,
   "metadata": {},
   "outputs": [],
   "source": [
    "# Age of the infant\n",
    "print('Average age of the infant (in months)', '\\n', df['Age_child_EEG_Months'].mean(), '\\n')\n",
    "print('Standard deviation of the age of the infant (in months)', '\\n', df['Age_child_EEG_Months'].std(), '\\n')\n",
    "print('Mode age of the infant (in months)', '\\n', df['Age_child_EEG_Months'].mode(), '\\n')\n",
    "print('Median age of the infants (in months)', '\\n', df['Age_child_EEG_Months'].median(), '\\n')\n",
    "print('Minimum and maximum ages of the infants (in months)', '\\n', df['Age_child_EEG_Months'].min(), df['Age_child_EEG_Months'].max(), '\\n')"
   ]
  },
  {
   "attachments": {},
   "cell_type": "markdown",
   "metadata": {},
   "source": [
    "### Age of moms"
   ]
  },
  {
   "cell_type": "code",
   "execution_count": null,
   "metadata": {},
   "outputs": [],
   "source": [
    "# Age of the mom\n",
    "print('Average age of the mom', '\\n', df['Mom_age'].mean(), '\\n')\n",
    "print('Standard deviation of the age of the mom', '\\n', df['Mom_age'].std(), '\\n')\n",
    "print('Mode age of the mom', '\\n', df['Mom_age'].mode(), '\\n')\n",
    "print('Median age of the mom', '\\n', df['Mom_age'].median(), '\\n')\n",
    "print('Minimum and maximum ages of the mom', '\\n', df['Mom_age'].min(), df['Mom_age'].max(), '\\n')"
   ]
  },
  {
   "attachments": {},
   "cell_type": "markdown",
   "metadata": {},
   "source": [
    "### Sex of infants"
   ]
  },
  {
   "cell_type": "code",
   "execution_count": null,
   "metadata": {},
   "outputs": [],
   "source": [
    "print(df['Sex_Infant'].value_counts())"
   ]
  },
  {
   "attachments": {},
   "cell_type": "markdown",
   "metadata": {},
   "source": [
    "### Nationality of moms"
   ]
  },
  {
   "cell_type": "code",
   "execution_count": null,
   "metadata": {},
   "outputs": [],
   "source": [
    "print(df[['ID', 'Ethniciteit_Moeders']])"
   ]
  },
  {
   "attachments": {},
   "cell_type": "markdown",
   "metadata": {},
   "source": [
    "### Gestational age"
   ]
  },
  {
   "cell_type": "code",
   "execution_count": null,
   "metadata": {},
   "outputs": [],
   "source": [
    "print(df['GA_atbirth_1'])"
   ]
  },
  {
   "attachments": {},
   "cell_type": "markdown",
   "metadata": {},
   "source": [
    "### Type of birth"
   ]
  },
  {
   "cell_type": "code",
   "execution_count": null,
   "metadata": {},
   "outputs": [],
   "source": [
    "print(df['Type_Birth'])"
   ]
  },
  {
   "attachments": {},
   "cell_type": "markdown",
   "metadata": {},
   "source": [
    "# Analyzing segments"
   ]
  },
  {
   "cell_type": "code",
   "execution_count": null,
   "metadata": {},
   "outputs": [],
   "source": [
    "import pandas as pd\n",
    "segments = pd.read_excel('neural syncrhony amount of segments.xlsx', header = 1)\n",
    "segments.head()"
   ]
  },
  {
   "cell_type": "code",
   "execution_count": null,
   "metadata": {},
   "outputs": [],
   "source": [
    "segments['Play1'] = pd.to_numeric(segments['Play1'], errors = 'coerce')\n",
    "segments['Still1'] = pd.to_numeric(segments['Still1'], errors = 'coerce')\n",
    "segments['Play2'] = pd.to_numeric(segments['Play2'], errors = 'coerce')\n",
    "segments['Still2'] = pd.to_numeric(segments['Still2'], errors = 'coerce')\n",
    "segments['Reun'] = pd.to_numeric(segments['Reun'], errors = 'coerce')"
   ]
  },
  {
   "cell_type": "code",
   "execution_count": null,
   "metadata": {},
   "outputs": [],
   "source": [
    "print('Phase:', 'Play1',\t'Still1',\t'Play2',\t'Still2',\t'Reun', '\\n')\n",
    "print('Mean num of segments', segments['Play1'].mean(), segments['Still1'].mean(), segments['Play2'].mean(), segments['Still2'].mean(), segments['Reun'].mean())\n",
    "print('SD', segments['Play1'].std(), segments['Still1'].std(), segments['Play2'].std(), segments['Still2'].std(), segments['Reun'].std())"
   ]
  },
  {
   "attachments": {},
   "cell_type": "markdown",
   "metadata": {},
   "source": [
    "### Plot of the BioSemi 64 + 2 Channels montage (10-20 system)"
   ]
  },
  {
   "cell_type": "code",
   "execution_count": null,
   "metadata": {},
   "outputs": [],
   "source": [
    "import numpy as np\n",
    "import matplotlib.pyplot as plt\n",
    "import mne\n",
    "\n",
    "# Define the electrode locations for the Biosemi 64 10-20 montage\n",
    "montage = mne.channels.make_standard_montage('biosemi64')\n",
    "\n",
    "# Get the locations of the electrodes of interest\n",
    "ch_names = ['F3', 'F4', 'C3', 'C4', 'P3', 'P4', 'O1', 'O2']\n",
    "ch_locs = np.array([montage.ch_names.index(ch_name) for ch_name in ch_names])\n",
    "\n",
    "# Plot the electrode locations\n",
    "montage.plot(scale_factor=70, show_names=True, show=False);\n"
   ]
  }
 ],
 "metadata": {
  "kernelspec": {
   "display_name": ".venv",
   "language": "python",
   "name": "python3"
  },
  "language_info": {
   "codemirror_mode": {
    "name": "ipython",
    "version": 3
   },
   "file_extension": ".py",
   "mimetype": "text/x-python",
   "name": "python",
   "nbconvert_exporter": "python",
   "pygments_lexer": "ipython3",
   "version": "3.10.5"
  },
  "orig_nbformat": 4
 },
 "nbformat": 4,
 "nbformat_minor": 2
}
