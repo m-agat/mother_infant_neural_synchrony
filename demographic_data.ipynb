{
 "cells": [
  {
   "attachments": {},
   "cell_type": "markdown",
   "metadata": {},
   "source": [
    "# Demographic data"
   ]
  },
  {
   "cell_type": "code",
   "execution_count": 1,
   "metadata": {},
   "outputs": [
    {
     "data": {
      "text/html": [
       "<div>\n",
       "<style scoped>\n",
       "    .dataframe tbody tr th:only-of-type {\n",
       "        vertical-align: middle;\n",
       "    }\n",
       "\n",
       "    .dataframe tbody tr th {\n",
       "        vertical-align: top;\n",
       "    }\n",
       "\n",
       "    .dataframe thead th {\n",
       "        text-align: right;\n",
       "    }\n",
       "</style>\n",
       "<table border=\"1\" class=\"dataframe\">\n",
       "  <thead>\n",
       "    <tr style=\"text-align: right;\">\n",
       "      <th></th>\n",
       "      <th>ID</th>\n",
       "      <th>RecordedDate</th>\n",
       "      <th>Date_EEG</th>\n",
       "      <th>Age_child_EEG_Days</th>\n",
       "      <th>Age_child_EEG_Months</th>\n",
       "      <th>Birthdate_child</th>\n",
       "      <th>Sex_Infant</th>\n",
       "      <th>GA_atbirth_1</th>\n",
       "      <th>GA_atbirth_2</th>\n",
       "      <th>Type_Birth</th>\n",
       "      <th>...</th>\n",
       "      <th>PBQ_Sum</th>\n",
       "      <th>PBQ_General_Mean</th>\n",
       "      <th>PBQ_General_Sum</th>\n",
       "      <th>PBQ_AngerRejection_Mean</th>\n",
       "      <th>PBQ_AngerRejection_Sum</th>\n",
       "      <th>PBQ_ConfidenceAnx_Mean</th>\n",
       "      <th>PBQ_ConfidenceAnx_Sum</th>\n",
       "      <th>PBQ_AgressionBaby_Mean</th>\n",
       "      <th>PBQ_AgressionBaby_Sum</th>\n",
       "      <th>Opmerkingen_overig</th>\n",
       "    </tr>\n",
       "  </thead>\n",
       "  <tbody>\n",
       "    <tr>\n",
       "      <th>0</th>\n",
       "      <td>T802</td>\n",
       "      <td>2021-04-14 10:10:45</td>\n",
       "      <td>2021-04-23</td>\n",
       "      <td>417.0</td>\n",
       "      <td>13.0</td>\n",
       "      <td>2020-03-02</td>\n",
       "      <td>1.0</td>\n",
       "      <td>38</td>\n",
       "      <td>2</td>\n",
       "      <td>1.0</td>\n",
       "      <td>...</td>\n",
       "      <td>4.0</td>\n",
       "      <td>0.166667</td>\n",
       "      <td>2.0</td>\n",
       "      <td>0.142857</td>\n",
       "      <td>1.0</td>\n",
       "      <td>0.25</td>\n",
       "      <td>1.0</td>\n",
       "      <td>0.0</td>\n",
       "      <td>0.0</td>\n",
       "      <td></td>\n",
       "    </tr>\n",
       "    <tr>\n",
       "      <th>1</th>\n",
       "      <td>T563</td>\n",
       "      <td>2021-04-28 19:19:05</td>\n",
       "      <td>2021-04-29</td>\n",
       "      <td>327.0</td>\n",
       "      <td>10.0</td>\n",
       "      <td>2020-06-06</td>\n",
       "      <td>1.0</td>\n",
       "      <td>39</td>\n",
       "      <td>4</td>\n",
       "      <td>1.0</td>\n",
       "      <td>...</td>\n",
       "      <td>0.0</td>\n",
       "      <td>0.000000</td>\n",
       "      <td>0.0</td>\n",
       "      <td>0.000000</td>\n",
       "      <td>0.0</td>\n",
       "      <td>0.00</td>\n",
       "      <td>0.0</td>\n",
       "      <td>0.0</td>\n",
       "      <td>0.0</td>\n",
       "      <td></td>\n",
       "    </tr>\n",
       "    <tr>\n",
       "      <th>2</th>\n",
       "      <td>T029</td>\n",
       "      <td>2021-04-28 22:56:12</td>\n",
       "      <td>2021-05-19</td>\n",
       "      <td>370.0</td>\n",
       "      <td>12.0</td>\n",
       "      <td>2020-05-14</td>\n",
       "      <td>1.0</td>\n",
       "      <td>39</td>\n",
       "      <td>6</td>\n",
       "      <td>1.0</td>\n",
       "      <td>...</td>\n",
       "      <td>31.0</td>\n",
       "      <td>1.500000</td>\n",
       "      <td>18.0</td>\n",
       "      <td>1.285714</td>\n",
       "      <td>9.0</td>\n",
       "      <td>1.00</td>\n",
       "      <td>4.0</td>\n",
       "      <td>0.0</td>\n",
       "      <td>0.0</td>\n",
       "      <td></td>\n",
       "    </tr>\n",
       "    <tr>\n",
       "      <th>3</th>\n",
       "      <td>T035</td>\n",
       "      <td>2021-05-10 20:11:42</td>\n",
       "      <td>2021-05-12</td>\n",
       "      <td>357.0</td>\n",
       "      <td>11.0</td>\n",
       "      <td>2020-05-20</td>\n",
       "      <td>1.0</td>\n",
       "      <td>38</td>\n",
       "      <td>4</td>\n",
       "      <td>1.0</td>\n",
       "      <td>...</td>\n",
       "      <td>6.0</td>\n",
       "      <td>0.250000</td>\n",
       "      <td>3.0</td>\n",
       "      <td>0.000000</td>\n",
       "      <td>0.0</td>\n",
       "      <td>0.75</td>\n",
       "      <td>3.0</td>\n",
       "      <td>0.0</td>\n",
       "      <td>0.0</td>\n",
       "      <td></td>\n",
       "    </tr>\n",
       "    <tr>\n",
       "      <th>4</th>\n",
       "      <td>T775</td>\n",
       "      <td>2021-05-12 18:47:39</td>\n",
       "      <td>2021-05-21</td>\n",
       "      <td>233.0</td>\n",
       "      <td>7.0</td>\n",
       "      <td>2020-09-30</td>\n",
       "      <td>2.0</td>\n",
       "      <td>39</td>\n",
       "      <td>6</td>\n",
       "      <td>1.0</td>\n",
       "      <td>...</td>\n",
       "      <td>4.0</td>\n",
       "      <td>0.250000</td>\n",
       "      <td>3.0</td>\n",
       "      <td>0.000000</td>\n",
       "      <td>0.0</td>\n",
       "      <td>0.25</td>\n",
       "      <td>1.0</td>\n",
       "      <td>0.0</td>\n",
       "      <td>0.0</td>\n",
       "      <td></td>\n",
       "    </tr>\n",
       "  </tbody>\n",
       "</table>\n",
       "<p>5 rows × 477 columns</p>\n",
       "</div>"
      ],
      "text/plain": [
       "     ID        RecordedDate    Date_EEG  Age_child_EEG_Days  \\\n",
       "0  T802 2021-04-14 10:10:45  2021-04-23               417.0   \n",
       "1  T563 2021-04-28 19:19:05  2021-04-29               327.0   \n",
       "2  T029 2021-04-28 22:56:12  2021-05-19               370.0   \n",
       "3  T035 2021-05-10 20:11:42  2021-05-12               357.0   \n",
       "4  T775 2021-05-12 18:47:39  2021-05-21               233.0   \n",
       "\n",
       "   Age_child_EEG_Months Birthdate_child  Sex_Infant GA_atbirth_1 GA_atbirth_2  \\\n",
       "0                  13.0      2020-03-02         1.0           38            2   \n",
       "1                  10.0      2020-06-06         1.0           39            4   \n",
       "2                  12.0      2020-05-14         1.0           39            6   \n",
       "3                  11.0      2020-05-20         1.0           38            4   \n",
       "4                   7.0      2020-09-30         2.0           39            6   \n",
       "\n",
       "   Type_Birth  ...  PBQ_Sum  PBQ_General_Mean  PBQ_General_Sum  \\\n",
       "0         1.0  ...      4.0          0.166667              2.0   \n",
       "1         1.0  ...      0.0          0.000000              0.0   \n",
       "2         1.0  ...     31.0          1.500000             18.0   \n",
       "3         1.0  ...      6.0          0.250000              3.0   \n",
       "4         1.0  ...      4.0          0.250000              3.0   \n",
       "\n",
       "   PBQ_AngerRejection_Mean  PBQ_AngerRejection_Sum  PBQ_ConfidenceAnx_Mean  \\\n",
       "0                 0.142857                     1.0                    0.25   \n",
       "1                 0.000000                     0.0                    0.00   \n",
       "2                 1.285714                     9.0                    1.00   \n",
       "3                 0.000000                     0.0                    0.75   \n",
       "4                 0.000000                     0.0                    0.25   \n",
       "\n",
       "   PBQ_ConfidenceAnx_Sum PBQ_AgressionBaby_Mean PBQ_AgressionBaby_Sum  \\\n",
       "0                    1.0                    0.0                   0.0   \n",
       "1                    0.0                    0.0                   0.0   \n",
       "2                    4.0                    0.0                   0.0   \n",
       "3                    3.0                    0.0                   0.0   \n",
       "4                    1.0                    0.0                   0.0   \n",
       "\n",
       "   Opmerkingen_overig  \n",
       "0                      \n",
       "1                      \n",
       "2                      \n",
       "3                      \n",
       "4                      \n",
       "\n",
       "[5 rows x 477 columns]"
      ]
     },
     "execution_count": 1,
     "metadata": {},
     "output_type": "execute_result"
    }
   ],
   "source": [
    "import pyreadstat\n",
    "\n",
    "# read the .sav file\n",
    "df, meta = pyreadstat.read_sav(\"BrainsInSync_Qualtrics_June8-2022_FINAL.sav\")\n",
    "df.head()"
   ]
  },
  {
   "attachments": {},
   "cell_type": "markdown",
   "metadata": {},
   "source": [
    "### Exclude the participants who were not present in the neural synchrony dataset"
   ]
  },
  {
   "cell_type": "code",
   "execution_count": 2,
   "metadata": {},
   "outputs": [
    {
     "name": "stdout",
     "output_type": "stream",
     "text": [
      "['T802', 'T563', 'T899', 'T876', 'T623', 'T917', 'T118', 'T475', 'T916', 'T060', 'T957']\n"
     ]
    }
   ],
   "source": [
    "# IDs of participants in the neural synchrony dataset\n",
    "ids = ['T029', 'T035', 'T036', 'T049', 'T050', 'T056', 'T122', 'T137', 'T188', 'T212', 'T262', 'T287', 'T290', 'T351', 'T389', 'T435', 'T475', 'T477', 'T484', 'T487', 'T520', 'T551', 'T563', 'T576', 'T596', 'T600', 'T623', 'T637', 'T655', 'T682', 'T684', 'T775', 'T802', 'T815', 'T882', 'T892', 'T899', 'T916', 'T917', 'T997']\n",
    "\n",
    "# IDs of participants from the qualtrics survey\n",
    "df_ids = list(df['ID'])\n",
    "excluded_participants = ['T475', 'T563', 'T623', 'T802', 'T899', 'T916', 'T917']\n",
    "\n",
    "# list of participant IDs to exclude because of missing data\n",
    "exclude_ids = [i for i in df_ids if i not in ids or i in excluded_participants]\n",
    "print(exclude_ids)\n",
    "\n",
    "# exclude rows with the specified IDs\n",
    "df = df[~df['ID'].isin(exclude_ids)]"
   ]
  },
  {
   "attachments": {},
   "cell_type": "markdown",
   "metadata": {},
   "source": [
    "### Age of infants"
   ]
  },
  {
   "cell_type": "code",
   "execution_count": 4,
   "metadata": {},
   "outputs": [
    {
     "name": "stdout",
     "output_type": "stream",
     "text": [
      "Average age of the infant (in months) \n",
      " 8.878787878787879 \n",
      "\n",
      "Standard deviation of the age of the infant (in months) \n",
      " 1.3864878235485825 \n",
      "\n",
      "Mode age of the infant (in months) \n",
      " 0    9.0\n",
      "Name: Age_child_EEG_Months, dtype: float64 \n",
      "\n",
      "Median age of the infants (in months) \n",
      " 9.0 \n",
      "\n",
      "Minimum and maximum ages of the infants (in months) \n",
      " 5.0 12.0 \n",
      "\n"
     ]
    }
   ],
   "source": [
    "# Age of the infant\n",
    "print('Average age of the infant (in months)', '\\n', df['Age_child_EEG_Months'].mean(), '\\n')\n",
    "print('Standard deviation of the age of the infant (in months)', '\\n', df['Age_child_EEG_Months'].std(), '\\n')\n",
    "print('Mode age of the infant (in months)', '\\n', df['Age_child_EEG_Months'].mode(), '\\n')\n",
    "print('Median age of the infants (in months)', '\\n', df['Age_child_EEG_Months'].median(), '\\n')\n",
    "print('Minimum and maximum ages of the infants (in months)', '\\n', df['Age_child_EEG_Months'].min(), df['Age_child_EEG_Months'].max(), '\\n')"
   ]
  },
  {
   "attachments": {},
   "cell_type": "markdown",
   "metadata": {},
   "source": [
    "### Age of moms"
   ]
  },
  {
   "cell_type": "code",
   "execution_count": 5,
   "metadata": {},
   "outputs": [
    {
     "name": "stdout",
     "output_type": "stream",
     "text": [
      "Average age of the mom \n",
      " 31.545454545454547 \n",
      "\n",
      "Standard deviation of the age of the mom \n",
      " 6.514843192140684 \n",
      "\n",
      "Mode age of the mom \n",
      " 0    29.0\n",
      "1    30.0\n",
      "2    33.0\n",
      "3    34.0\n",
      "Name: Mom_age, dtype: float64 \n",
      "\n",
      "Median age of the mom \n",
      " 32.0 \n",
      "\n",
      "Minimum and maximum ages of the mom \n",
      " 0.0 42.0 \n",
      "\n"
     ]
    }
   ],
   "source": [
    "# Age of the mom\n",
    "print('Average age of the mom', '\\n', df['Mom_age'].mean(), '\\n')\n",
    "print('Standard deviation of the age of the mom', '\\n', df['Mom_age'].std(), '\\n')\n",
    "print('Mode age of the mom', '\\n', df['Mom_age'].mode(), '\\n')\n",
    "print('Median age of the mom', '\\n', df['Mom_age'].median(), '\\n')\n",
    "print('Minimum and maximum ages of the mom', '\\n', df['Mom_age'].min(), df['Mom_age'].max(), '\\n')"
   ]
  },
  {
   "attachments": {},
   "cell_type": "markdown",
   "metadata": {},
   "source": [
    "### Sex of infants"
   ]
  },
  {
   "cell_type": "code",
   "execution_count": 6,
   "metadata": {},
   "outputs": [
    {
     "name": "stdout",
     "output_type": "stream",
     "text": [
      "2.0    20\n",
      "1.0    13\n",
      "Name: Sex_Infant, dtype: int64\n"
     ]
    }
   ],
   "source": [
    "print(df['Sex_Infant'].value_counts())"
   ]
  },
  {
   "attachments": {},
   "cell_type": "markdown",
   "metadata": {},
   "source": [
    "### Nationality of moms"
   ]
  },
  {
   "cell_type": "code",
   "execution_count": 14,
   "metadata": {},
   "outputs": [
    {
     "name": "stdout",
     "output_type": "stream",
     "text": [
      "      ID nationaliteit\n",
      "2   T029   Nederlandse\n",
      "3   T035   Nederlandse\n",
      "4   T775   Nederlandse\n",
      "5   T655   Nederlandse\n",
      "7   T049   Nederlandse\n",
      "9   T997   Nederlandse\n",
      "10  T815   Nederlandse\n",
      "11  T477   Nederlandse\n",
      "13  T262   Nederlandse\n",
      "14  T056   Nederlandse\n",
      "15  T892   Nederlandse\n",
      "16  T637   Nederlandse\n",
      "17  T520   Nederlandse\n",
      "18  T389      Hongaars\n",
      "19  T600   Nederlandse\n",
      "20  T212   Nederlandse\n",
      "21  T188   Nederlandse\n",
      "22  T122   Nederlandse\n",
      "23  T576   Nederlandse\n",
      "25  T684   Nederlandse\n",
      "26  T551   Nederlandse\n",
      "27  T682   Nederlandse\n",
      "29  T882   Nederlandse\n",
      "31  T036   Nederlandse\n",
      "32  T487   Nederlandse\n",
      "34  T435         Duits\n",
      "35  T290   Nederlandse\n",
      "36  T050   Nederlandse\n",
      "37  T351   Nederlandse\n",
      "38  T484   Nederlandse\n",
      "41  T596   Nederlandse\n",
      "42  T287   Nederlandse\n",
      "43  T137         Pools\n"
     ]
    }
   ],
   "source": [
    "print(df[['ID', 'nationaliteit']])"
   ]
  },
  {
   "attachments": {},
   "cell_type": "markdown",
   "metadata": {},
   "source": [
    "### Gestational age"
   ]
  },
  {
   "cell_type": "code",
   "execution_count": 8,
   "metadata": {},
   "outputs": [
    {
     "name": "stdout",
     "output_type": "stream",
     "text": [
      "2     39\n",
      "3     38\n",
      "4     39\n",
      "5     40\n",
      "7     40\n",
      "9     40\n",
      "10    37\n",
      "11    36\n",
      "13    40\n",
      "14    38\n",
      "15    40\n",
      "16    37\n",
      "17    41\n",
      "18    40\n",
      "19    39\n",
      "20    38\n",
      "21    38\n",
      "22    38\n",
      "23    39\n",
      "25    40\n",
      "26    39\n",
      "27    39\n",
      "29    40\n",
      "31    38\n",
      "32    39\n",
      "34    40\n",
      "35    38\n",
      "36    39\n",
      "37    38\n",
      "38    41\n",
      "41    39\n",
      "42    37\n",
      "43    38\n",
      "Name: GA_atbirth_1, dtype: object\n"
     ]
    }
   ],
   "source": [
    "print(df['GA_atbirth_1'])"
   ]
  },
  {
   "attachments": {},
   "cell_type": "markdown",
   "metadata": {},
   "source": [
    "### Type of birth"
   ]
  },
  {
   "cell_type": "code",
   "execution_count": 9,
   "metadata": {},
   "outputs": [
    {
     "name": "stdout",
     "output_type": "stream",
     "text": [
      "2     1.0\n",
      "3     1.0\n",
      "4     1.0\n",
      "5     1.0\n",
      "7     1.0\n",
      "9     1.0\n",
      "10    1.0\n",
      "11    2.0\n",
      "13    1.0\n",
      "14    1.0\n",
      "15    1.0\n",
      "16    1.0\n",
      "17    1.0\n",
      "18    1.0\n",
      "19    2.0\n",
      "20    1.0\n",
      "21    2.0\n",
      "22    2.0\n",
      "23    1.0\n",
      "25    1.0\n",
      "26    1.0\n",
      "27    1.0\n",
      "29    1.0\n",
      "31    1.0\n",
      "32    1.0\n",
      "34    1.0\n",
      "35    1.0\n",
      "36    1.0\n",
      "37    1.0\n",
      "38    1.0\n",
      "41    1.0\n",
      "42    1.0\n",
      "43    1.0\n",
      "Name: Type_Birth, dtype: float64\n"
     ]
    }
   ],
   "source": [
    "print(df['Type_Birth'])"
   ]
  },
  {
   "attachments": {},
   "cell_type": "markdown",
   "metadata": {},
   "source": [
    "# Analyzing segments"
   ]
  },
  {
   "cell_type": "code",
   "execution_count": 10,
   "metadata": {},
   "outputs": [
    {
     "data": {
      "text/html": [
       "<div>\n",
       "<style scoped>\n",
       "    .dataframe tbody tr th:only-of-type {\n",
       "        vertical-align: middle;\n",
       "    }\n",
       "\n",
       "    .dataframe tbody tr th {\n",
       "        vertical-align: top;\n",
       "    }\n",
       "\n",
       "    .dataframe thead th {\n",
       "        text-align: right;\n",
       "    }\n",
       "</style>\n",
       "<table border=\"1\" class=\"dataframe\">\n",
       "  <thead>\n",
       "    <tr style=\"text-align: right;\">\n",
       "      <th></th>\n",
       "      <th>N</th>\n",
       "      <th>Play1</th>\n",
       "      <th>Still1</th>\n",
       "      <th>Play2</th>\n",
       "      <th>Still2</th>\n",
       "      <th>Reun</th>\n",
       "      <th>total</th>\n",
       "    </tr>\n",
       "  </thead>\n",
       "  <tbody>\n",
       "    <tr>\n",
       "      <th>0</th>\n",
       "      <td>29</td>\n",
       "      <td>103</td>\n",
       "      <td>120</td>\n",
       "      <td>120</td>\n",
       "      <td>109</td>\n",
       "      <td>75</td>\n",
       "      <td>120</td>\n",
       "    </tr>\n",
       "    <tr>\n",
       "      <th>1</th>\n",
       "      <td>35</td>\n",
       "      <td>115</td>\n",
       "      <td>106</td>\n",
       "      <td>111</td>\n",
       "      <td>109</td>\n",
       "      <td>101</td>\n",
       "      <td>120</td>\n",
       "    </tr>\n",
       "    <tr>\n",
       "      <th>2</th>\n",
       "      <td>36</td>\n",
       "      <td>119</td>\n",
       "      <td>120</td>\n",
       "      <td>120</td>\n",
       "      <td>115</td>\n",
       "      <td>112</td>\n",
       "      <td>120</td>\n",
       "    </tr>\n",
       "    <tr>\n",
       "      <th>3</th>\n",
       "      <td>49</td>\n",
       "      <td>93</td>\n",
       "      <td>120</td>\n",
       "      <td>69</td>\n",
       "      <td>78</td>\n",
       "      <td>52</td>\n",
       "      <td>120</td>\n",
       "    </tr>\n",
       "    <tr>\n",
       "      <th>4</th>\n",
       "      <td>50</td>\n",
       "      <td>118</td>\n",
       "      <td>110</td>\n",
       "      <td>118</td>\n",
       "      <td>113</td>\n",
       "      <td>117</td>\n",
       "      <td>120</td>\n",
       "    </tr>\n",
       "  </tbody>\n",
       "</table>\n",
       "</div>"
      ],
      "text/plain": [
       "    N  Play1  Still1 Play2 Still2 Reun  total\n",
       "0  29    103     120   120    109   75    120\n",
       "1  35    115     106   111    109  101    120\n",
       "2  36    119     120   120    115  112    120\n",
       "3  49     93     120    69     78   52    120\n",
       "4  50    118     110   118    113  117    120"
      ]
     },
     "execution_count": 10,
     "metadata": {},
     "output_type": "execute_result"
    }
   ],
   "source": [
    "import pandas as pd\n",
    "segments = pd.read_excel('neural syncrhony amount of segments.xlsx', header = 1)\n",
    "segments.head()"
   ]
  },
  {
   "cell_type": "code",
   "execution_count": 11,
   "metadata": {},
   "outputs": [],
   "source": [
    "segments['Play1'] = pd.to_numeric(segments['Play1'], errors = 'coerce')\n",
    "segments['Still1'] = pd.to_numeric(segments['Still1'], errors = 'coerce')\n",
    "segments['Play2'] = pd.to_numeric(segments['Play2'], errors = 'coerce')\n",
    "segments['Still2'] = pd.to_numeric(segments['Still2'], errors = 'coerce')\n",
    "segments['Reun'] = pd.to_numeric(segments['Reun'], errors = 'coerce')"
   ]
  },
  {
   "cell_type": "code",
   "execution_count": 12,
   "metadata": {},
   "outputs": [
    {
     "name": "stdout",
     "output_type": "stream",
     "text": [
      "Phase: Play1 Still1 Play2 Still2 Reun \n",
      "\n",
      "Mean num of segments 102.125 101.475 97.63157894736842 101.05882352941177 98.28571428571429\n",
      "SD 18.431004396855943 23.763781426622902 22.2035072133814 26.971299197334872 20.211486874563985\n"
     ]
    }
   ],
   "source": [
    "print('Phase:', 'Play1',\t'Still1',\t'Play2',\t'Still2',\t'Reun', '\\n')\n",
    "print('Mean num of segments', segments['Play1'].mean(), segments['Still1'].mean(), segments['Play2'].mean(), segments['Still2'].mean(), segments['Reun'].mean())\n",
    "print('SD', segments['Play1'].std(), segments['Still1'].std(), segments['Play2'].std(), segments['Still2'].std(), segments['Reun'].std())"
   ]
  },
  {
   "attachments": {},
   "cell_type": "markdown",
   "metadata": {},
   "source": [
    "### Plot of the BioSemi 64 + 2 Channels montage (10-20 system)"
   ]
  },
  {
   "cell_type": "code",
   "execution_count": 13,
   "metadata": {},
   "outputs": [
    {
     "data": {
      "image/png": "[encoded data removed]",
      "text/plain": [
       "<Figure size 640x640 with 1 Axes>"
      ]
     },
     "metadata": {},
     "output_type": "display_data"
    }
   ],
   "source": [
    "import numpy as np\n",
    "import matplotlib.pyplot as plt\n",
    "import mne\n",
    "\n",
    "# Define the electrode locations for the Biosemi 64 10-20 montage\n",
    "montage = mne.channels.make_standard_montage('biosemi64')\n",
    "\n",
    "# Get the locations of the electrodes of interest\n",
    "ch_names = ['F3', 'F4', 'C3', 'C4', 'P3', 'P4', 'O1', 'O2']\n",
    "ch_locs = np.array([montage.ch_names.index(ch_name) for ch_name in ch_names])\n",
    "\n",
    "# Plot the electrode locations\n",
    "montage.plot(scale_factor=70, show_names=True, show=False);\n"
   ]
  }
 ],
 "metadata": {
  "kernelspec": {
   "display_name": ".venv",
   "language": "python",
   "name": "python3"
  },
  "language_info": {
   "codemirror_mode": {
    "name": "ipython",
    "version": 3
   },
   "file_extension": ".py",
   "mimetype": "text/x-python",
   "name": "python",
   "nbconvert_exporter": "python",
   "pygments_lexer": "ipython3",
   "version": "3.10.5"
  },
  "orig_nbformat": 4
 },
 "nbformat": 4,
 "nbformat_minor": 2
}
