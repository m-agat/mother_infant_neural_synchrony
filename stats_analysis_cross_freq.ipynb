{
 "cells": [
  {
   "cell_type": "code",
   "execution_count": 4,
   "metadata": {},
   "outputs": [],
   "source": [
    "import json \n",
    "import numpy as np\n",
    "from scipy import stats\n",
    "from hypyp import stats \n",
    "'''\n",
    "Comparing inter-connectivity to random signal\n",
    "'''\n",
    "\n",
    "f = open('cross_freq_results.json')\n",
    "\n",
    "# returns JSON object as \n",
    "# a dictionary\n",
    "results = json.load(f)\n",
    "  \n",
    "# Iterating through the json\n",
    "# list\n",
    "fp1 = []\n",
    "sf1 = []\n",
    "fp2 = []\n",
    "sf2 = []\n",
    "reunion = []\n",
    "\n",
    "all_stages = [fp1, sf1, fp2, sf2, reunion]\n",
    "for part, data in results.items():\n",
    "    for stage, bands in data.items():\n",
    "        stage = stage[1]\n",
    "        all_stages[int(stage)-1].append(bands)\n",
    "\n",
    "fp1_theta = []\n",
    "fp1_alpha = []\n",
    "sf1_theta = []\n",
    "sf1_alpha = []\n",
    "fp2_theta = []\n",
    "fp2_alpha = []\n",
    "sf2_theta = []\n",
    "sf2_alpha = []\n",
    "ru_theta = []\n",
    "ru_alpha = []\n",
    "for part1, part2, part3, part4, part5 in zip(fp1, sf1, fp2, sf2, reunion):\n",
    "    fp1_theta.append(np.mean(part1['theta']))\n",
    "    fp1_alpha.append(np.mean(part1['alpha']))\n",
    "    sf1_theta.append(np.mean(part2['theta']))\n",
    "    sf1_alpha.append(np.mean(part2['alpha']))\n",
    "    fp2_theta.append(np.mean(part3['theta']))\n",
    "    fp2_alpha.append(np.mean(part3['alpha']))\n",
    "    sf2_theta.append(np.mean(part4['theta']))\n",
    "    sf2_alpha.append(np.mean(part4['alpha']))\n",
    "    ru_theta.append(np.mean(part5['theta']))\n",
    "    ru_alpha.append(np.mean(part5['alpha']))\n",
    "\n",
    "\n",
    "data_theta =[fp1_theta, sf1_theta, fp2_theta, sf2_theta, ru_theta]\n",
    "data_alpha = [fp1_alpha, sf1_alpha, fp2_alpha, sf2_alpha, ru_alpha] \n",
    "\n",
    "# Closing file\n",
    "f.close()"
   ]
  },
  {
   "cell_type": "code",
   "execution_count": 5,
   "metadata": {},
   "outputs": [
    {
     "name": "stdout",
     "output_type": "stream",
     "text": [
      "(33,)\n",
      "(33,)\n",
      "(33,)\n",
      "(33,)\n"
     ]
    },
    {
     "name": "stderr",
     "output_type": "stream",
     "text": [
      "/tmp/ipykernel_5666/3251939760.py:29: RuntimeWarning: Mean of empty slice\n",
      "  all_stages[stage].append(np.nanmean(data))\n"
     ]
    }
   ],
   "source": [
    "import json \n",
    "import numpy as np\n",
    "import matplotlib.pyplot as plt\n",
    "from scipy import stats\n",
    "from hypyp import stats \n",
    "\n",
    "f = open('results_theta.json')\n",
    "\n",
    "# returns JSON object as \n",
    "# a dictionary\n",
    "results = json.load(f)\n",
    "  \n",
    "# Iterating through the json\n",
    "# list\n",
    "fp1_theta = []\n",
    "sf1_theta = []\n",
    "fp2_theta = []\n",
    "sf2_theta = []\n",
    "\n",
    "all_stages = [fp1_theta, sf1_theta, fp2_theta, sf2_theta]\n",
    "for part, stages in results.items():\n",
    "    if part == '802' or part == '623':\n",
    "        continue\n",
    "    else:\n",
    "        for stage, data in stages.items():\n",
    "            stage = int(stage[1]) - 1\n",
    "            if stage == 4:\n",
    "                continue\n",
    "            all_stages[stage].append(np.nanmean(data))\n",
    "\n",
    "sf2_theta = [0 if str(x) == 'nan' else x for x in sf2_theta]\n",
    "\n",
    "data_theta = [fp1_theta, sf1_theta, fp2_theta, sf2_theta] \n",
    "data_theta = [np.array(x) for x in data_theta]\n",
    "\n",
    "for i in data_theta:\n",
    "    print(i.shape)\n",
    "f.close()"
   ]
  },
  {
   "cell_type": "code",
   "execution_count": 6,
   "metadata": {},
   "outputs": [
    {
     "name": "stderr",
     "output_type": "stream",
     "text": [
      "/tmp/ipykernel_5666/3115508069.py:23: RuntimeWarning: Mean of empty slice\n",
      "  all_stages[stage].append(np.nanmean(data))\n"
     ]
    }
   ],
   "source": [
    "f = open('results_alpha.json')\n",
    "\n",
    "# returns JSON object as \n",
    "# a dictionary\n",
    "results = json.load(f)\n",
    "  \n",
    "# Iterating through the json\n",
    "# list\n",
    "fp1_alpha = []\n",
    "sf1_alpha = []\n",
    "fp2_alpha = []\n",
    "sf2_alpha = []\n",
    "\n",
    "all_stages = [fp1_alpha, sf1_alpha, fp2_alpha, sf2_alpha]\n",
    "for part, stages in results.items():\n",
    "    if part == '802' or part == '623':\n",
    "        continue\n",
    "    else:\n",
    "        for stage, data in stages.items():\n",
    "            stage = int(stage[1]) - 1\n",
    "            if stage == 4:\n",
    "                continue\n",
    "            all_stages[stage].append(np.nanmean(data))\n",
    "\n",
    "sf2_alpha = [0 if str(x) == 'nan' else x for x in sf2_alpha]\n",
    "\n",
    "data_alpha = [np.array(fp1_alpha), np.array(sf1_alpha), np.array(fp2_alpha), np.array(sf2_alpha)] "
   ]
  },
  {
   "attachments": {},
   "cell_type": "markdown",
   "metadata": {},
   "source": [
    "## Testing for Normal Distribution"
   ]
  },
  {
   "cell_type": "code",
   "execution_count": 42,
   "metadata": {},
   "outputs": [
    {
     "name": "stdout",
     "output_type": "stream",
     "text": [
      "Test statistic: 0.2763937711715698\n",
      "p-value: 1.0487583879664022e-22\n"
     ]
    }
   ],
   "source": [
    "import pandas as pd\n",
    "import pingouin as pg\n",
    "from statsmodels.stats.anova import AnovaRM\n",
    "from scipy.stats import shapiro\n",
    "\n",
    "# Load data\n",
    "df = pd.DataFrame({\"FreePlay1\": fp1_theta,\n",
    "                  \"StillFace1\": sf1_theta,\n",
    "                  \"FreePlay2\": fp2_theta,\n",
    "                  \"StillFace2\": sf2_theta,\n",
    "                  })\n",
    "\n",
    "\n",
    "# Create a multi-indexed dataframe\n",
    "df_melted_theta = pd.melt(df.reset_index(), id_vars=['index'], value_vars=['FreePlay1', 'StillFace1', 'FreePlay2', 'StillFace2'])\n",
    "\n",
    "# Rename columns\n",
    "df_melted_theta.columns = ['id', 'Condition', 'Synchrony']\n",
    "\n",
    "stat, p = shapiro(df_melted_theta[\"Synchrony\"])\n",
    "\n",
    "print(\"Test statistic:\", stat)\n",
    "print(\"p-value:\", p)"
   ]
  },
  {
   "cell_type": "code",
   "execution_count": 8,
   "metadata": {},
   "outputs": [
    {
     "name": "stdout",
     "output_type": "stream",
     "text": [
      "Test statistic: 0.3265722990036011\n",
      "p-value: 5.087002742584586e-22\n"
     ]
    }
   ],
   "source": [
    "import pandas as pd\n",
    "import pingouin as pg\n",
    "from scipy.stats import shapiro\n",
    "\n",
    "# Load data\n",
    "df = pd.DataFrame({\"FreePlay1\": fp1_alpha,\n",
    "                  \"StillFace1\": sf1_alpha,\n",
    "                  \"FreePlay2\": fp2_alpha,\n",
    "                  \"StillFace2\": sf2_alpha,\n",
    "                  })\n",
    "\n",
    "\n",
    "# Create a multi-indexed dataframe\n",
    "df_melted_alpha = pd.melt(df.reset_index(), id_vars=['index'], value_vars=['FreePlay1', 'StillFace1', 'FreePlay2', 'StillFace2'])\n",
    "\n",
    "# Rename columns\n",
    "df_melted_alpha.columns = ['id', 'Condition', 'Synchrony']\n",
    "\n",
    "stat, p = shapiro(df_melted_alpha[\"Synchrony\"])\n",
    "\n",
    "print(\"Test statistic:\", stat)\n",
    "print(\"p-value:\", p)\n"
   ]
  },
  {
   "attachments": {},
   "cell_type": "markdown",
   "metadata": {},
   "source": [
    "## Fisher Z-transform"
   ]
  },
  {
   "cell_type": "code",
   "execution_count": 35,
   "metadata": {},
   "outputs": [
    {
     "name": "stdout",
     "output_type": "stream",
     "text": [
      "Test statistic: 0.30818986892700195\n",
      "p-value: 2.8235139235966055e-22\n"
     ]
    }
   ],
   "source": [
    "# Perform the Fisher z-transform\n",
    "z_fp1_theta = np.arctanh(fp1_theta)\n",
    "z_sf1_theta = np.arctanh(sf1_theta)\n",
    "z_fp2_theta = np.arctanh(fp2_theta)\n",
    "z_sf2_theta = np.arctanh(sf2_theta)\n",
    "\n",
    "# Load data\n",
    "df = pd.DataFrame({\"FreePlay1\": z_fp1_theta,\n",
    "                  \"StillFace1\": z_sf1_theta,\n",
    "                  \"FreePlay2\": z_fp2_theta,\n",
    "                  \"StillFace2\": z_sf2_theta,\n",
    "                  })\n",
    "\n",
    "\n",
    "# Create a multi-indexed dataframe\n",
    "df_melted_z = pd.melt(df.reset_index(), id_vars=['index'], value_vars=['FreePlay1', 'StillFace1', 'FreePlay2', 'StillFace2'])\n",
    "\n",
    "# Rename columns\n",
    "df_melted_z.columns = ['id', 'Condition', 'Synchrony']\n",
    "\n",
    "stat, p = shapiro(df_melted_z[\"Synchrony\"])\n",
    "\n",
    "print(\"Test statistic:\", stat)\n",
    "print(\"p-value:\", p)"
   ]
  },
  {
   "cell_type": "code",
   "execution_count": 57,
   "metadata": {},
   "outputs": [
    {
     "name": "stdout",
     "output_type": "stream",
     "text": [
      "Test statistic: 0.3388518691062927\n",
      "p-value: 7.590223740096591e-22\n"
     ]
    }
   ],
   "source": [
    "# Perform the Fisher z-transform\n",
    "z_fp1_alpha = np.arctanh(fp1_alpha)\n",
    "z_sf1_alpha = np.arctanh(sf1_alpha)\n",
    "z_fp2_alpha = np.arctanh(fp2_alpha)\n",
    "z_sf2_alpha = np.arctanh(sf2_alpha)\n",
    "\n",
    "\n",
    "# Load data\n",
    "df = pd.DataFrame({\"FreePlay1\": z_fp1_alpha,\n",
    "                  \"StillFace1\": z_sf1_alpha,\n",
    "                  \"FreePlay2\": z_fp2_alpha,\n",
    "                  \"StillFace2\": z_sf2_alpha,\n",
    "                  })\n",
    "\n",
    "\n",
    "# Create a multi-indexed dataframe\n",
    "df_melted_z = pd.melt(df.reset_index(), id_vars=['index'], value_vars=['FreePlay1', 'StillFace1', 'FreePlay2', 'StillFace2'])\n",
    "\n",
    "# Rename columns\n",
    "df_melted_z.columns = ['id', 'Condition', 'Synchrony']\n",
    "\n",
    "stat, p = shapiro(df_melted_z[\"Synchrony\"])\n",
    "\n",
    "print(\"Test statistic:\", stat)\n",
    "print(\"p-value:\", p)"
   ]
  },
  {
   "attachments": {},
   "cell_type": "markdown",
   "metadata": {},
   "source": [
    "## Friedman Test\n",
    "The null hypothesis (H0): The mean for each population is equal.\n",
    "\n",
    "The alternative hypothesis: (Ha): At least one population mean is different from the rest.\n",
    "\n",
    "https://www.statology.org/friedman-test-python/"
   ]
  },
  {
   "attachments": {},
   "cell_type": "markdown",
   "metadata": {},
   "source": [
    "### theta"
   ]
  },
  {
   "cell_type": "code",
   "execution_count": 62,
   "metadata": {},
   "outputs": [
    {
     "data": {
      "text/html": [
       "<div>\n",
       "<style scoped>\n",
       "    .dataframe tbody tr th:only-of-type {\n",
       "        vertical-align: middle;\n",
       "    }\n",
       "\n",
       "    .dataframe tbody tr th {\n",
       "        vertical-align: top;\n",
       "    }\n",
       "\n",
       "    .dataframe thead th {\n",
       "        text-align: right;\n",
       "    }\n",
       "</style>\n",
       "<table border=\"1\" class=\"dataframe\">\n",
       "  <thead>\n",
       "    <tr style=\"text-align: right;\">\n",
       "      <th></th>\n",
       "      <th>Source</th>\n",
       "      <th>W</th>\n",
       "      <th>ddof1</th>\n",
       "      <th>Q</th>\n",
       "      <th>p-unc</th>\n",
       "    </tr>\n",
       "  </thead>\n",
       "  <tbody>\n",
       "    <tr>\n",
       "      <th>Friedman</th>\n",
       "      <td>Condition</td>\n",
       "      <td>0.176492</td>\n",
       "      <td>3</td>\n",
       "      <td>17.472727</td>\n",
       "      <td>0.000565</td>\n",
       "    </tr>\n",
       "  </tbody>\n",
       "</table>\n",
       "</div>"
      ],
      "text/plain": [
       "             Source         W  ddof1          Q     p-unc\n",
       "Friedman  Condition  0.176492      3  17.472727  0.000565"
      ]
     },
     "execution_count": 62,
     "metadata": {},
     "output_type": "execute_result"
    }
   ],
   "source": [
    "# Perform Friedman test\n",
    "pg.friedman(data=df_melted_theta, dv='Synchrony', within='Condition', subject = 'id')"
   ]
  },
  {
   "cell_type": "code",
   "execution_count": 40,
   "metadata": {},
   "outputs": [
    {
     "name": "stdout",
     "output_type": "stream",
     "text": [
      "Friedman test results:\n",
      "    F-value: 17.472727272727298\n",
      "    p-value: 0.0005649004704665209\n"
     ]
    }
   ],
   "source": [
    "#perform Friedman Test      \n",
    "from scipy.stats import friedmanchisquare\n",
    "f_value, p_value = friedmanchisquare(fp1_theta, sf1_theta, fp2_theta, sf2_theta)\n",
    "\n",
    "print(\"Friedman test results:\")\n",
    "print(f\"    F-value: {f_value}\")\n",
    "print(f\"    p-value: {p_value}\")"
   ]
  },
  {
   "attachments": {},
   "cell_type": "markdown",
   "metadata": {},
   "source": [
    "### Post hoc test - theta"
   ]
  },
  {
   "cell_type": "code",
   "execution_count": 75,
   "metadata": {},
   "outputs": [
    {
     "data": {
      "text/html": [
       "<div>\n",
       "<style scoped>\n",
       "    .dataframe tbody tr th:only-of-type {\n",
       "        vertical-align: middle;\n",
       "    }\n",
       "\n",
       "    .dataframe tbody tr th {\n",
       "        vertical-align: top;\n",
       "    }\n",
       "\n",
       "    .dataframe thead th {\n",
       "        text-align: right;\n",
       "    }\n",
       "</style>\n",
       "<table border=\"1\" class=\"dataframe\">\n",
       "  <thead>\n",
       "    <tr style=\"text-align: right;\">\n",
       "      <th></th>\n",
       "      <th>FreePlay1</th>\n",
       "      <th>StillFace1</th>\n",
       "      <th>FreePlay2</th>\n",
       "      <th>StillFace2</th>\n",
       "    </tr>\n",
       "  </thead>\n",
       "  <tbody>\n",
       "    <tr>\n",
       "      <th>FreePlay1</th>\n",
       "      <td>1.000000</td>\n",
       "      <td>0.001133</td>\n",
       "      <td>1.000000</td>\n",
       "      <td>0.007123</td>\n",
       "    </tr>\n",
       "    <tr>\n",
       "      <th>StillFace1</th>\n",
       "      <td>0.001133</td>\n",
       "      <td>1.000000</td>\n",
       "      <td>0.000373</td>\n",
       "      <td>1.000000</td>\n",
       "    </tr>\n",
       "    <tr>\n",
       "      <th>FreePlay2</th>\n",
       "      <td>1.000000</td>\n",
       "      <td>0.000373</td>\n",
       "      <td>1.000000</td>\n",
       "      <td>0.002235</td>\n",
       "    </tr>\n",
       "    <tr>\n",
       "      <th>StillFace2</th>\n",
       "      <td>0.007123</td>\n",
       "      <td>1.000000</td>\n",
       "      <td>0.002235</td>\n",
       "      <td>1.000000</td>\n",
       "    </tr>\n",
       "  </tbody>\n",
       "</table>\n",
       "</div>"
      ],
      "text/plain": [
       "            FreePlay1  StillFace1  FreePlay2  StillFace2\n",
       "FreePlay1    1.000000    0.001133   1.000000    0.007123\n",
       "StillFace1   0.001133    1.000000   0.000373    1.000000\n",
       "FreePlay2    1.000000    0.000373   1.000000    0.002235\n",
       "StillFace2   0.007123    1.000000   0.002235    1.000000"
      ]
     },
     "execution_count": 75,
     "metadata": {},
     "output_type": "execute_result"
    }
   ],
   "source": [
    "import scikit_posthocs as sp\n",
    "post_hoc_wilcoxon_theta = sp.posthoc_wilcoxon(a = df_melted_theta, val_col = \"Synchrony\", group_col = \"Condition\", p_adjust = 'bonferroni')\n",
    "post_hoc_wilcoxon_theta"
   ]
  },
  {
   "cell_type": "code",
   "execution_count": 60,
   "metadata": {},
   "outputs": [
    {
     "ename": "TypeError",
     "evalue": "posthoc_nemenyi_friedman() got an unexpected keyword argument 'val_col'",
     "output_type": "error",
     "traceback": [
      "\u001b[0;31m---------------------------------------------------------------------------\u001b[0m",
      "\u001b[0;31mTypeError\u001b[0m                                 Traceback (most recent call last)",
      "Cell \u001b[0;32mIn[60], line 1\u001b[0m\n\u001b[0;32m----> 1\u001b[0m post_hoc_wilcoxon_theta \u001b[39m=\u001b[39m sp\u001b[39m.\u001b[39;49mposthoc_nemenyi_friedman(a \u001b[39m=\u001b[39;49m df_melted_theta, val_col \u001b[39m=\u001b[39;49m \u001b[39m\"\u001b[39;49m\u001b[39mSynchrony\u001b[39;49m\u001b[39m\"\u001b[39;49m, group_col \u001b[39m=\u001b[39;49m \u001b[39m\"\u001b[39;49m\u001b[39mCondition\u001b[39;49m\u001b[39m\"\u001b[39;49m, p_adjust \u001b[39m=\u001b[39;49m \u001b[39m'\u001b[39;49m\u001b[39mbonferroni\u001b[39;49m\u001b[39m'\u001b[39;49m)\n\u001b[1;32m      2\u001b[0m post_hoc_wilcoxon_theta\n",
      "\u001b[0;31mTypeError\u001b[0m: posthoc_nemenyi_friedman() got an unexpected keyword argument 'val_col'"
     ]
    }
   ],
   "source": [
    "post_hoc_wilcoxon_theta = sp.posthoc_nemenyi_friedman(a = df_melted_theta, val_col = \"Synchrony\", group_col = \"Condition\", p_adjust = 'bonferroni')\n",
    "post_hoc_wilcoxon_theta"
   ]
  },
  {
   "cell_type": "code",
   "execution_count": 52,
   "metadata": {},
   "outputs": [
    {
     "name": "stdout",
     "output_type": "stream",
     "text": [
      "p-value annotation legend:\n",
      "ns: 5.00e-02 < p <= 1.00e+00\n",
      "*: 1.00e-02 < p <= 5.00e-02\n",
      "**: 1.00e-03 < p <= 1.00e-02\n",
      "***: 1.00e-04 < p <= 1.00e-03\n",
      "****: p <= 1.00e-04\n",
      "\n",
      "FreePlay1 v.s. StillFace1: Custom statistical test, P_val:1.133e-03\n",
      "StillFace1 v.s. FreePlay2: Custom statistical test, P_val:3.730e-04\n",
      "FreePlay2 v.s. StillFace2: Custom statistical test, P_val:2.235e-03\n",
      "FreePlay1 v.s. StillFace2: Custom statistical test, P_val:7.123e-03\n"
     ]
    },
    {
     "data": {
      "text/plain": [
       "(<AxesSubplot: xlabel='Condition', ylabel='Synchrony'>,\n",
       " [<statannot.StatResult.StatResult at 0x7ff5390f7490>,\n",
       "  <statannot.StatResult.StatResult at 0x7ff538c7ffd0>,\n",
       "  <statannot.StatResult.StatResult at 0x7ff538c53f10>,\n",
       "  <statannot.StatResult.StatResult at 0x7ff538c7e650>])"
      ]
     },
     "execution_count": 52,
     "metadata": {},
     "output_type": "execute_result"
    },
    {
     "data": {
      "image/png": "[encoded data removed]",
      "text/plain": [
       "<Figure size 640x480 with 1 Axes>"
      ]
     },
     "metadata": {},
     "output_type": "display_data"
    }
   ],
   "source": [
    "import seaborn as sns\n",
    "from statannot import add_stat_annotation\n",
    "\n",
    "ax = sns.boxplot(data = df_melted_theta, x = 'Condition', y = 'Synchrony')\n",
    "ax.set(ylim=(0.3, 0.55))\n",
    "add_stat_annotation(ax, data = df_melted_theta, x = 'Condition', y = 'Synchrony', \n",
    "                    box_pairs = [('FreePlay1', 'StillFace1'), ('FreePlay1', 'StillFace2'),  ('StillFace1', 'FreePlay2'), ('FreePlay2', 'StillFace2'),],\n",
    "                    perform_stat_test=False,\n",
    "                    text_format = 'star',\n",
    "                     pvalues = [0.001133, 0.007123, 0.000373, 0.002235],\n",
    "                     verbose=2)"
   ]
  },
  {
   "cell_type": "code",
   "execution_count": 47,
   "metadata": {},
   "outputs": [
    {
     "name": "stdout",
     "output_type": "stream",
     "text": [
      "Wilcoxon Rank-Sum Test\n",
      "Statistic: 337.0, p-value: 9.293054962581833e-07\n",
      "p-value annotation legend:\n",
      "ns: 5.00e-02 < p <= 1.00e+00\n",
      "*: 1.00e-02 < p <= 5.00e-02\n",
      "**: 1.00e-03 < p <= 1.00e-02\n",
      "***: 1.00e-04 < p <= 1.00e-03\n",
      "****: p <= 1.00e-04\n",
      "\n",
      "FreePlay v.s. StillFace: Custom statistical test, P_val:9.293e-07\n"
     ]
    },
    {
     "data": {
      "text/plain": [
       "(<AxesSubplot: xlabel='Condition', ylabel='Synchrony'>,\n",
       " [<statannot.StatResult.StatResult at 0x7ff538ec71c0>])"
      ]
     },
     "execution_count": 47,
     "metadata": {},
     "output_type": "execute_result"
    },
    {
     "data": {
      "image/png": "[encoded data removed]",
      "text/plain": [
       "<Figure size 640x480 with 1 Axes>"
      ]
     },
     "metadata": {},
     "output_type": "display_data"
    }
   ],
   "source": [
    "from scipy.stats import wilcoxon\n",
    "import seaborn as sns\n",
    "from statannot import add_stat_annotation\n",
    "\n",
    "df1 = pd.DataFrame({\"FreePlay\": fp1_theta + fp2_theta,\n",
    "                  \"StillFace\": sf1_theta + sf2_theta\n",
    "                  })\n",
    "\n",
    "\n",
    "# Create a multi-indexed dataframe\n",
    "df_melted_t = pd.melt(df1.reset_index(), id_vars=['index'], value_vars=['FreePlay', 'StillFace'])\n",
    "\n",
    "# Rename columns\n",
    "df_melted_t.columns = ['id', 'Condition', 'Synchrony']\n",
    "\n",
    "res = wilcoxon(fp1_theta + fp2_theta, sf1_theta + sf2_theta, correction = True)\n",
    "print(\"Wilcoxon Rank-Sum Test\")\n",
    "print(f\"Statistic: {res.statistic}, p-value: {res.pvalue}\")\n",
    "\n",
    "ax = sns.boxplot(data = df_melted_t, x = 'Condition', y = 'Synchrony')\n",
    "ax.set(ylim=(0.3, 0.55))\n",
    "add_stat_annotation(ax, data = df_melted_t, x = 'Condition', y = 'Synchrony', \n",
    "                    box_pairs = [('FreePlay', 'StillFace')],\n",
    "                    perform_stat_test=False,\n",
    "                    text_format = 'star',\n",
    "                    pvalues = [9.293054962581833e-07]\n",
    "                    )"
   ]
  },
  {
   "attachments": {},
   "cell_type": "markdown",
   "metadata": {},
   "source": [
    "### alpha"
   ]
  },
  {
   "cell_type": "code",
   "execution_count": 29,
   "metadata": {},
   "outputs": [
    {
     "data": {
      "text/html": [
       "<div>\n",
       "<style scoped>\n",
       "    .dataframe tbody tr th:only-of-type {\n",
       "        vertical-align: middle;\n",
       "    }\n",
       "\n",
       "    .dataframe tbody tr th {\n",
       "        vertical-align: top;\n",
       "    }\n",
       "\n",
       "    .dataframe thead th {\n",
       "        text-align: right;\n",
       "    }\n",
       "</style>\n",
       "<table border=\"1\" class=\"dataframe\">\n",
       "  <thead>\n",
       "    <tr style=\"text-align: right;\">\n",
       "      <th></th>\n",
       "      <th>Source</th>\n",
       "      <th>W</th>\n",
       "      <th>ddof1</th>\n",
       "      <th>Q</th>\n",
       "      <th>p-unc</th>\n",
       "    </tr>\n",
       "  </thead>\n",
       "  <tbody>\n",
       "    <tr>\n",
       "      <th>Friedman</th>\n",
       "      <td>condition</td>\n",
       "      <td>0.072911</td>\n",
       "      <td>3</td>\n",
       "      <td>7.218182</td>\n",
       "      <td>0.065259</td>\n",
       "    </tr>\n",
       "  </tbody>\n",
       "</table>\n",
       "</div>"
      ],
      "text/plain": [
       "             Source         W  ddof1         Q     p-unc\n",
       "Friedman  condition  0.072911      3  7.218182  0.065259"
      ]
     },
     "execution_count": 29,
     "metadata": {},
     "output_type": "execute_result"
    }
   ],
   "source": [
    "# Perform Friedman test\n",
    "pg.friedman(data=df_melted_alpha, dv='value', within='condition', subject = 'id')"
   ]
  },
  {
   "cell_type": "code",
   "execution_count": 30,
   "metadata": {},
   "outputs": [
    {
     "data": {
      "text/plain": [
       "FriedmanchisquareResult(statistic=7.21818181818179, pvalue=0.06525932279522308)"
      ]
     },
     "execution_count": 30,
     "metadata": {},
     "output_type": "execute_result"
    }
   ],
   "source": [
    "friedmanchisquare(fp1_alpha, sf1_alpha, fp2_alpha, sf2_alpha)"
   ]
  },
  {
   "cell_type": "code",
   "execution_count": 59,
   "metadata": {},
   "outputs": [
    {
     "data": {
      "text/html": [
       "<div>\n",
       "<style scoped>\n",
       "    .dataframe tbody tr th:only-of-type {\n",
       "        vertical-align: middle;\n",
       "    }\n",
       "\n",
       "    .dataframe tbody tr th {\n",
       "        vertical-align: top;\n",
       "    }\n",
       "\n",
       "    .dataframe thead th {\n",
       "        text-align: right;\n",
       "    }\n",
       "</style>\n",
       "<table border=\"1\" class=\"dataframe\">\n",
       "  <thead>\n",
       "    <tr style=\"text-align: right;\">\n",
       "      <th></th>\n",
       "      <th>FreePlay1</th>\n",
       "      <th>StillFace1</th>\n",
       "      <th>FreePlay2</th>\n",
       "      <th>StillFace2</th>\n",
       "    </tr>\n",
       "  </thead>\n",
       "  <tbody>\n",
       "    <tr>\n",
       "      <th>FreePlay1</th>\n",
       "      <td>1.000000</td>\n",
       "      <td>0.391318</td>\n",
       "      <td>1.000000</td>\n",
       "      <td>0.232448</td>\n",
       "    </tr>\n",
       "    <tr>\n",
       "      <th>StillFace1</th>\n",
       "      <td>0.391318</td>\n",
       "      <td>1.000000</td>\n",
       "      <td>0.232448</td>\n",
       "      <td>1.000000</td>\n",
       "    </tr>\n",
       "    <tr>\n",
       "      <th>FreePlay2</th>\n",
       "      <td>1.000000</td>\n",
       "      <td>0.232448</td>\n",
       "      <td>1.000000</td>\n",
       "      <td>1.000000</td>\n",
       "    </tr>\n",
       "    <tr>\n",
       "      <th>StillFace2</th>\n",
       "      <td>0.232448</td>\n",
       "      <td>1.000000</td>\n",
       "      <td>1.000000</td>\n",
       "      <td>1.000000</td>\n",
       "    </tr>\n",
       "  </tbody>\n",
       "</table>\n",
       "</div>"
      ],
      "text/plain": [
       "            FreePlay1  StillFace1  FreePlay2  StillFace2\n",
       "FreePlay1    1.000000    0.391318   1.000000    0.232448\n",
       "StillFace1   0.391318    1.000000   0.232448    1.000000\n",
       "FreePlay2    1.000000    0.232448   1.000000    1.000000\n",
       "StillFace2   0.232448    1.000000   1.000000    1.000000"
      ]
     },
     "execution_count": 59,
     "metadata": {},
     "output_type": "execute_result"
    }
   ],
   "source": [
    "import scikit_posthocs as sp\n",
    "\n",
    "post_hoc_wilcoxon_alpha = sp.posthoc_wilcoxon(a = df_melted_alpha, val_col = \"Synchrony\", group_col = \"Condition\", p_adjust = 'bonferroni')\n",
    "post_hoc_wilcoxon_alpha"
   ]
  },
  {
   "cell_type": "code",
   "execution_count": 68,
   "metadata": {},
   "outputs": [
    {
     "name": "stdout",
     "output_type": "stream",
     "text": [
      "Wilcoxon Rank-Sum Test\n",
      "Statistic: 732.0, p-value: 0.01703514353396015\n"
     ]
    }
   ],
   "source": [
    "res = wilcoxon(fp1_alpha + fp2_alpha, sf1_alpha + sf2_alpha)\n",
    "print(\"Wilcoxon Rank-Sum Test\")\n",
    "print(f\"Statistic: {res.statistic}, p-value: {res.pvalue}\")"
   ]
  },
  {
   "cell_type": "code",
   "execution_count": 53,
   "metadata": {},
   "outputs": [
    {
     "name": "stdout",
     "output_type": "stream",
     "text": [
      "Using zero_method  wilcox\n",
      "FreePlay1 v.s. StillFace1: Wilcoxon test (paired samples) with Bonferroni correction, P_val=2.609e-01 stat=1.770e+02\n",
      "Using zero_method  wilcox\n",
      "StillFace1 v.s. FreePlay2: Wilcoxon test (paired samples) with Bonferroni correction, P_val=1.550e-01 stat=1.650e+02\n",
      "Using zero_method  wilcox\n",
      "FreePlay2 v.s. StillFace2: Wilcoxon test (paired samples) with Bonferroni correction, P_val=7.307e-01 stat=2.050e+02\n",
      "Using zero_method  wilcox\n",
      "FreePlay1 v.s. StillFace2: Wilcoxon test (paired samples) with Bonferroni correction, P_val=1.550e-01 stat=1.650e+02\n"
     ]
    },
    {
     "data": {
      "text/plain": [
       "(<AxesSubplot: xlabel='Condition', ylabel='Synchrony'>,\n",
       " [<statannot.StatResult.StatResult at 0x7ff545783130>,\n",
       "  <statannot.StatResult.StatResult at 0x7ff538b30ee0>,\n",
       "  <statannot.StatResult.StatResult at 0x7ff538b31510>,\n",
       "  <statannot.StatResult.StatResult at 0x7ff538b4f850>])"
      ]
     },
     "execution_count": 53,
     "metadata": {},
     "output_type": "execute_result"
    },
    {
     "data": {
      "image/png": "[encoded data removed]",
      "text/plain": [
       "<Figure size 640x480 with 1 Axes>"
      ]
     },
     "metadata": {},
     "output_type": "display_data"
    }
   ],
   "source": [
    "ax = sns.boxplot(data = df_melted_alpha, x = 'Condition', y = 'Synchrony')\n",
    "# ax.set(ylim=(0.3, 0.55))\n",
    "add_stat_annotation(ax, data = df_melted_alpha, x = 'Condition', y = 'Synchrony', \n",
    "                    box_pairs = [('FreePlay1', 'StillFace1'), ('FreePlay1', 'StillFace2'),  ('StillFace1', 'FreePlay2'), ('FreePlay2', 'StillFace2')],\n",
    "                    perform_stat_test=True,\n",
    "                    test = 'Wilcoxon',\n",
    "                    text_format = 'simple',\n",
    "                    )"
   ]
  },
  {
   "cell_type": "code",
   "execution_count": 50,
   "metadata": {},
   "outputs": [
    {
     "name": "stdout",
     "output_type": "stream",
     "text": [
      "p-value annotation legend:\n",
      "ns: 5.00e-02 < p <= 1.00e+00\n",
      "*: 1.00e-02 < p <= 5.00e-02\n",
      "**: 1.00e-03 < p <= 1.00e-02\n",
      "***: 1.00e-04 < p <= 1.00e-03\n",
      "****: p <= 1.00e-04\n",
      "\n",
      "FreePlay v.s. StillFace: Custom statistical test, P_val:1.704e-02\n"
     ]
    },
    {
     "data": {
      "text/plain": [
       "(<AxesSubplot: xlabel='Condition', ylabel='Synchrony'>,\n",
       " [<statannot.StatResult.StatResult at 0x7ff538e98640>])"
      ]
     },
     "execution_count": 50,
     "metadata": {},
     "output_type": "execute_result"
    },
    {
     "data": {
      "image/png": "[encoded data removed]",
      "text/plain": [
       "<Figure size 640x480 with 1 Axes>"
      ]
     },
     "metadata": {},
     "output_type": "display_data"
    }
   ],
   "source": [
    "df2 = pd.DataFrame({\"FreePlay\": fp1_theta + fp2_theta,\n",
    "                  \"StillFace\": sf1_theta + sf2_theta\n",
    "                  })\n",
    "\n",
    "\n",
    "# Create a multi-indexed dataframe\n",
    "df_melted_a = pd.melt(df2.reset_index(), id_vars=['index'], value_vars=['FreePlay', 'StillFace'])\n",
    "\n",
    "# Rename columns\n",
    "df_melted_a.columns = ['id', 'Condition', 'Synchrony']\n",
    "\n",
    "ax = sns.boxplot(data = df_melted_a, x = 'Condition', y = 'Synchrony')\n",
    "ax.set(ylim=(0.3, 0.55))\n",
    "add_stat_annotation(ax, data = df_melted_a, x = 'Condition', y = 'Synchrony', \n",
    "                    box_pairs = [('FreePlay', 'StillFace')],\n",
    "                    perform_stat_test=False,\n",
    "                    text_format = 'star',\n",
    "                    pvalues = [0.01703514353396015]\n",
    "                    )"
   ]
  }
 ],
 "metadata": {
  "kernelspec": {
   "display_name": ".venv",
   "language": "python",
   "name": "python3"
  },
  "language_info": {
   "codemirror_mode": {
    "name": "ipython",
    "version": 3
   },
   "file_extension": ".py",
   "mimetype": "text/x-python",
   "name": "python",
   "nbconvert_exporter": "python",
   "pygments_lexer": "ipython3",
   "version": "3.10.5"
  },
  "orig_nbformat": 4
 },
 "nbformat": 4,
 "nbformat_minor": 2
}
