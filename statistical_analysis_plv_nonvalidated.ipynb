{
 "cells": [
  {
   "attachments": {},
   "cell_type": "markdown",
   "metadata": {},
   "source": [
    "# Statistical Analysis \n",
    "\n",
    "Analyzing the significance of the differences between the modified Still Face Paradigm conditions."
   ]
  },
  {
   "cell_type": "code",
   "execution_count": 2,
   "metadata": {},
   "outputs": [],
   "source": [
    "import json \n",
    "import numpy as np\n",
    "import matplotlib.pyplot as plt\n",
    "from scipy import stats\n",
    "from hypyp import stats \n",
    "import seaborn as sns\n",
    "from statannot import add_stat_annotation\n",
    "import scikit_posthocs as sp\n",
    "import pandas as pd\n",
    "from ordered_set import OrderedSet"
   ]
  },
  {
   "attachments": {},
   "cell_type": "markdown",
   "metadata": {},
   "source": [
    "# Infant Alpha band (6-9 Hz) analysis"
   ]
  },
  {
   "cell_type": "code",
   "execution_count": 3,
   "metadata": {},
   "outputs": [
    {
     "name": "stdout",
     "output_type": "stream",
     "text": [
      "33\n",
      "33\n",
      "33\n",
      "33\n",
      "33\n"
     ]
    }
   ],
   "source": [
    "f = open(\"nonvalidated_results_alpha_plv.json\")\n",
    "\n",
    "# returns JSON object as \n",
    "# a dictionary\n",
    "results = json.load(f)\n",
    "  \n",
    "# Iterating through the json\n",
    "# list\n",
    "fp1_alpha = []\n",
    "sf1_alpha = []\n",
    "fp2_alpha = []\n",
    "sf2_alpha = []\n",
    "ru_alpha = []\n",
    "\n",
    "all_stages = [fp1_alpha, sf1_alpha, fp2_alpha, sf2_alpha, ru_alpha]\n",
    "participant_indices = []\n",
    "for part, stages in results.items():\n",
    "    if part == '623' or part == '802':\n",
    "        continue\n",
    "    else:\n",
    "        for stage, data in stages.items():\n",
    "            stage = int(stage[1]) - 1\n",
    "            all_stages[stage].append(np.nanmean(data))\n",
    "        participant_indices.append(part)\n",
    "\n",
    "participant_indices = np.array(OrderedSet(participant_indices))\n",
    "\n",
    "sf2_alpha = [0 if str(x) == 'nan' else x for x in sf2_alpha]\n",
    "\n",
    "for i in all_stages:\n",
    "    print(len(i))\n",
    "data_alpha = [np.array(fp1_alpha), np.array(sf1_alpha), np.array(fp2_alpha), np.array(sf2_alpha), np.array(ru_alpha)] "
   ]
  },
  {
   "cell_type": "code",
   "execution_count": 4,
   "metadata": {},
   "outputs": [],
   "source": [
    "import csv\n",
    "data_alpha = np.column_stack((participant_indices, fp1_alpha, sf1_alpha, fp2_alpha, sf2_alpha, ru_alpha))\n",
    "\n",
    "# Define the column names\n",
    "column_names = [\"participant\", \"fp1\", \"sf1\", \"fp2\", \"sf2\", \"reunion\"]\n",
    "\n",
    "# Define the filename for the CSV file\n",
    "filename = \"nonvalidated_data_alpha_plv.csv\"\n",
    "\n",
    "with open(filename, 'w', newline='') as csvfile:\n",
    "    writer = csv.writer(csvfile)\n",
    "\n",
    "    writer.writerow(column_names)\n",
    "\n",
    "    writer.writerows(data_alpha)"
   ]
  },
  {
   "attachments": {},
   "cell_type": "markdown",
   "metadata": {},
   "source": [
    "### Descriptive analysis"
   ]
  },
  {
   "cell_type": "code",
   "execution_count": 5,
   "metadata": {},
   "outputs": [
    {
     "name": "stderr",
     "output_type": "stream",
     "text": [
      "/tmp/ipykernel_13808/1220507243.py:16: FutureWarning: In future versions `DataFrame.to_latex` is expected to utilise the base implementation of `Styler.to_latex` for formatting and rendering. The arguments signature may therefore change. It is recommended instead to use `DataFrame.style.to_latex` which also contains additional functionality.\n",
      "  descriptives_df.to_latex('synchrony_descriptives_alpha.tex')\n"
     ]
    },
    {
     "data": {
      "text/html": [
       "<div>\n",
       "<style scoped>\n",
       "    .dataframe tbody tr th:only-of-type {\n",
       "        vertical-align: middle;\n",
       "    }\n",
       "\n",
       "    .dataframe tbody tr th {\n",
       "        vertical-align: top;\n",
       "    }\n",
       "\n",
       "    .dataframe thead th {\n",
       "        text-align: right;\n",
       "    }\n",
       "</style>\n",
       "<table border=\"1\" class=\"dataframe\">\n",
       "  <thead>\n",
       "    <tr style=\"text-align: right;\">\n",
       "      <th></th>\n",
       "      <th>Condition</th>\n",
       "      <th>Mean</th>\n",
       "      <th>SD</th>\n",
       "      <th>Min</th>\n",
       "      <th>Max</th>\n",
       "    </tr>\n",
       "  </thead>\n",
       "  <tbody>\n",
       "    <tr>\n",
       "      <th>0</th>\n",
       "      <td>Free Play 1</td>\n",
       "      <td>0.3271</td>\n",
       "      <td>0.0137</td>\n",
       "      <td>0.3058</td>\n",
       "      <td>0.3633</td>\n",
       "    </tr>\n",
       "    <tr>\n",
       "      <th>1</th>\n",
       "      <td>Still Face 1</td>\n",
       "      <td>0.3262</td>\n",
       "      <td>0.0133</td>\n",
       "      <td>0.3033</td>\n",
       "      <td>0.3741</td>\n",
       "    </tr>\n",
       "    <tr>\n",
       "      <th>2</th>\n",
       "      <td>Free Play 2</td>\n",
       "      <td>0.3274</td>\n",
       "      <td>0.0159</td>\n",
       "      <td>0.3056</td>\n",
       "      <td>0.3885</td>\n",
       "    </tr>\n",
       "    <tr>\n",
       "      <th>3</th>\n",
       "      <td>Still Face 2</td>\n",
       "      <td>0.3286</td>\n",
       "      <td>0.0154</td>\n",
       "      <td>0.2999</td>\n",
       "      <td>0.3651</td>\n",
       "    </tr>\n",
       "    <tr>\n",
       "      <th>4</th>\n",
       "      <td>Reunion</td>\n",
       "      <td>0.3287</td>\n",
       "      <td>0.0137</td>\n",
       "      <td>0.2989</td>\n",
       "      <td>0.3631</td>\n",
       "    </tr>\n",
       "  </tbody>\n",
       "</table>\n",
       "</div>"
      ],
      "text/plain": [
       "      Condition    Mean      SD     Min     Max\n",
       "0   Free Play 1  0.3271  0.0137  0.3058  0.3633\n",
       "1  Still Face 1  0.3262  0.0133  0.3033  0.3741\n",
       "2   Free Play 2  0.3274  0.0159  0.3056  0.3885\n",
       "3  Still Face 2  0.3286  0.0154  0.2999  0.3651\n",
       "4       Reunion  0.3287  0.0137  0.2989  0.3631"
      ]
     },
     "execution_count": 5,
     "metadata": {},
     "output_type": "execute_result"
    }
   ],
   "source": [
    "descriptives = {'Mean': [],\n",
    "                'SD': [],\n",
    "                'Min': [],\n",
    "                'Max': []}\n",
    "\n",
    "for condition in all_stages: \n",
    "    descriptives['Mean'].append(round(np.mean(condition), 4))\n",
    "    descriptives['SD'].append(round(np.std(condition), 4))\n",
    "    descriptives['Min'].append(round(np.min(condition), 4))\n",
    "    descriptives['Max'].append(round(np.max(condition), 4))\n",
    "\n",
    "descriptives_df = pd.DataFrame(descriptives)\n",
    "descriptives_df.insert(0, 'Condition', ['Free Play 1', 'Still Face 1', 'Free Play 2',\n",
    "                                        'Still Face 2', 'Reunion'])\n",
    "\n",
    "descriptives_df.to_latex('synchrony_descriptives_alpha.tex')\n",
    "descriptives_df"
   ]
  },
  {
   "attachments": {},
   "cell_type": "markdown",
   "metadata": {},
   "source": [
    "# Test Normality of Distribution"
   ]
  },
  {
   "cell_type": "code",
   "execution_count": 6,
   "metadata": {},
   "outputs": [
    {
     "name": "stdout",
     "output_type": "stream",
     "text": [
      "Test statistic: 0.9475427865982056\n",
      "p-value =  8.242353032983374e-06 -> data is non-normally distributed\n"
     ]
    }
   ],
   "source": [
    "import pandas as pd\n",
    "import pingouin as pg\n",
    "from scipy.stats import shapiro\n",
    "\n",
    "# Load data\n",
    "df = pd.DataFrame({\"FreePlay1\": fp1_alpha,\n",
    "                  \"StillFace1\": sf1_alpha,\n",
    "                  \"FreePlay2\": fp2_alpha,\n",
    "                  \"StillFace2\": sf2_alpha,\n",
    "                  'Reunion': ru_alpha\n",
    "                  })\n",
    "\n",
    "\n",
    "# Create a multi-indexed dataframe\n",
    "df_melted_alpha = pd.melt(df.reset_index(), id_vars=['index'], value_vars=['FreePlay1', 'StillFace1', 'FreePlay2', 'StillFace2', 'Reunion'])\n",
    "\n",
    "# Rename columns\n",
    "df_melted_alpha.columns = ['id', 'Condition', 'Synchrony']\n",
    "\n",
    "# grouped = df_melted.groupby([\"condition\"])\n",
    "\n",
    "data = np.random.normal(0, 1, 100)\n",
    "stat, p = shapiro(df_melted_alpha[\"Synchrony\"])\n",
    "\n",
    "print(\"Test statistic:\", stat)\n",
    "if p > 0.05:\n",
    "    print(\"p = \", p, \"-> data is normally distributed\")\n",
    "else:\n",
    "    print(\"p-value = \", p, \"-> data is non-normally distributed\")"
   ]
  },
  {
   "attachments": {},
   "cell_type": "markdown",
   "metadata": {},
   "source": [
    "# Fisher Z Transform"
   ]
  },
  {
   "cell_type": "code",
   "execution_count": 7,
   "metadata": {},
   "outputs": [
    {
     "name": "stdout",
     "output_type": "stream",
     "text": [
      "Test statistic: 0.9436061382293701\n",
      "p-value =  3.861609911837149e-06 -> data is non-normally distributed\n"
     ]
    }
   ],
   "source": [
    "# Perform the Fisher z-transform\n",
    "z_fp1_alpha = np.arctanh(fp1_alpha)\n",
    "z_sf1_alpha = np.arctanh(sf1_alpha)\n",
    "z_fp2_alpha = np.arctanh(fp2_alpha)\n",
    "z_sf2_alpha = np.arctanh(sf2_alpha)\n",
    "z_ru_alpha = np.arctanh(ru_alpha)\n",
    "\n",
    "# Load data\n",
    "df = pd.DataFrame({\"FreePlay1\": z_fp1_alpha,\n",
    "                  \"StillFace1\": z_sf1_alpha,\n",
    "                  \"FreePlay2\": z_fp2_alpha,\n",
    "                  \"StillFace2\": z_sf2_alpha,\n",
    "                  'Reunion': z_ru_alpha\n",
    "                  })\n",
    "\n",
    "\n",
    "# Create a multi-indexed dataframe\n",
    "df_melted_z = pd.melt(df.reset_index(), id_vars=['index'], value_vars=['FreePlay1', 'StillFace1', 'FreePlay2', 'StillFace2', 'Reunion'])\n",
    "\n",
    "# Rename columns\n",
    "df_melted_z.columns = ['id', 'Condition', 'Synchrony']\n",
    "\n",
    "data = np.random.normal(0, 1, 100)\n",
    "stat, p = shapiro(df_melted_z[\"Synchrony\"])\n",
    "\n",
    "print(\"Test statistic:\", stat)\n",
    "if p > 0.05:\n",
    "    print(\"p = \", p, \"-> data is normally distributed\")\n",
    "else:\n",
    "    print(\"p-value = \", p, \"-> data is non-normally distributed\")"
   ]
  },
  {
   "attachments": {},
   "cell_type": "markdown",
   "metadata": {},
   "source": [
    "### The distribution is still not normal -> non-parametric one-way ANOVA -> Friedman Test"
   ]
  },
  {
   "attachments": {},
   "cell_type": "markdown",
   "metadata": {},
   "source": [
    "## Main Effect: Friedman Test\n",
    "The null hypothesis (H0): The mean for each population is equal.\n",
    "\n",
    "The alternative hypothesis: (Ha): At least one population mean is different from the rest.\n",
    "\n",
    "https://www.statology.org/friedman-test-python/"
   ]
  },
  {
   "cell_type": "code",
   "execution_count": 8,
   "metadata": {},
   "outputs": [
    {
     "data": {
      "text/html": [
       "<div>\n",
       "<style scoped>\n",
       "    .dataframe tbody tr th:only-of-type {\n",
       "        vertical-align: middle;\n",
       "    }\n",
       "\n",
       "    .dataframe tbody tr th {\n",
       "        vertical-align: top;\n",
       "    }\n",
       "\n",
       "    .dataframe thead th {\n",
       "        text-align: right;\n",
       "    }\n",
       "</style>\n",
       "<table border=\"1\" class=\"dataframe\">\n",
       "  <thead>\n",
       "    <tr style=\"text-align: right;\">\n",
       "      <th></th>\n",
       "      <th>Source</th>\n",
       "      <th>W</th>\n",
       "      <th>ddof1</th>\n",
       "      <th>Q</th>\n",
       "      <th>p-unc</th>\n",
       "    </tr>\n",
       "  </thead>\n",
       "  <tbody>\n",
       "    <tr>\n",
       "      <th>Friedman</th>\n",
       "      <td>Condition</td>\n",
       "      <td>0.017815</td>\n",
       "      <td>4</td>\n",
       "      <td>2.351515</td>\n",
       "      <td>0.671406</td>\n",
       "    </tr>\n",
       "  </tbody>\n",
       "</table>\n",
       "</div>"
      ],
      "text/plain": [
       "             Source         W  ddof1         Q     p-unc\n",
       "Friedman  Condition  0.017815      4  2.351515  0.671406"
      ]
     },
     "execution_count": 8,
     "metadata": {},
     "output_type": "execute_result"
    }
   ],
   "source": [
    "pg.friedman(data=df_melted_alpha, dv='Synchrony', within='Condition', subject = 'id', method = 'chisq')"
   ]
  },
  {
   "attachments": {},
   "cell_type": "markdown",
   "metadata": {},
   "source": [
    "## Post Hoc Analysis: Wilcoxon Signed-Rank Test "
   ]
  },
  {
   "cell_type": "code",
   "execution_count": 9,
   "metadata": {},
   "outputs": [
    {
     "name": "stdout",
     "output_type": "stream",
     "text": [
      "Post-hoc test result:\n",
      "            FreePlay1  StillFace1  FreePlay2  StillFace2   Reunion\n",
      "FreePlay1    1.000000    0.830982   0.830982    0.830982  0.830982\n",
      "StillFace1   0.830982    1.000000   0.830982    0.830982  0.830982\n",
      "FreePlay2    0.830982    0.830982   1.000000    0.830982  0.830982\n",
      "StillFace2   0.830982    0.830982   0.830982    1.000000  0.830982\n",
      "Reunion      0.830982    0.830982   0.830982    0.830982  1.000000\n",
      "Z-values:\n",
      "[[   0. -259. -265. -255. -230.]\n",
      " [ 259.    0. -238. -230. -212.]\n",
      " [ 265.  238.    0. -258. -218.]\n",
      " [ 255.  230.  258.    0. -263.]\n",
      " [ 230.  212.  218.  263.    0.]]\n"
     ]
    }
   ],
   "source": [
    "import numpy as np\n",
    "from scipy import stats\n",
    "import scikit_posthocs as sp\n",
    "\n",
    "# Perform Wilcoxon signed-rank test and compute z-values\n",
    "def get_z_values(data, groups):\n",
    "    z_values = np.zeros((len(groups), len(groups)))\n",
    "\n",
    "    for i, group1 in enumerate(groups):\n",
    "        for j, group2 in enumerate(groups):\n",
    "            if j >= i:\n",
    "                continue\n",
    "            x = data[data['Condition'] == group1]['Synchrony']\n",
    "            y = data[data['Condition'] == group2]['Synchrony']\n",
    "            result = stats.wilcoxon(x, y)\n",
    "            z_values[i, j] = result.statistic\n",
    "            z_values[j, i] = -result.statistic\n",
    "\n",
    "    return z_values\n",
    "\n",
    "# Perform post-hoc test and adjustment\n",
    "posthoc_result_alpha = sp.posthoc_wilcoxon(a=df_melted_alpha, val_col=\"Synchrony\", group_col=\"Condition\", p_adjust='fdr_tsbky')\n",
    "\n",
    "# Compute z-values\n",
    "z_values_alpha = get_z_values(df_melted_alpha, posthoc_result_alpha.index)\n",
    "\n",
    "print(\"Post-hoc test result:\")\n",
    "print(posthoc_result_alpha)\n",
    "print(\"Z-values:\")\n",
    "print(z_values_alpha)\n"
   ]
  },
  {
   "cell_type": "code",
   "execution_count": 23,
   "metadata": {},
   "outputs": [
    {
     "data": {
      "image/png": "[encoded data removed]",
      "text/plain": [
       "<Figure size 640x480 with 1 Axes>"
      ]
     },
     "metadata": {},
     "output_type": "display_data"
    }
   ],
   "source": [
    "ax = sns.boxplot(data = df_melted_alpha, x = 'Condition', y = 'Synchrony', width = 0.6)\n",
    "ax.set_title('Nonvalidated global PLV in the alpha band across the five phases of the SFP')\n",
    "ax.set_xticklabels(['Free Play 1', 'Still Face 1', 'Free Play 2', 'Still Face 2', 'Reunion'])\n",
    "\n",
    "ax.figure.savefig(\"nonvalidated_alpha_results_plv.png\") "
   ]
  },
  {
   "attachments": {},
   "cell_type": "markdown",
   "metadata": {},
   "source": [
    "# Infant Theta Band (3-5 Hz) Analysis"
   ]
  },
  {
   "cell_type": "code",
   "execution_count": 11,
   "metadata": {},
   "outputs": [],
   "source": [
    "# f = open('results_theta_plv.json')\n",
    "f = open(\"nonvalidated_results_theta_plv.json\")\n",
    "\n",
    "# returns JSON object as \n",
    "# a dictionary\n",
    "results = json.load(f)\n",
    "  \n",
    "# Iterating through the json\n",
    "# list\n",
    "fp1_theta = []\n",
    "sf1_theta = []\n",
    "fp2_theta = []\n",
    "sf2_theta = []\n",
    "ru_theta = []\n",
    "\n",
    "all_stages = [fp1_theta, sf1_theta, fp2_theta, sf2_theta, ru_theta]\n",
    "for part, stages in results.items():\n",
    "    if part == '623' or part == '802':\n",
    "        continue\n",
    "    else:\n",
    "        for stage, data in stages.items():\n",
    "            stage = int(stage[1]) - 1\n",
    "            all_stages[stage].append(np.nanmean(data))\n",
    "\n",
    "sf2_theta = [0 if str(x) == 'nan' else x for x in sf2_theta]\n",
    "\n",
    "data_theta = [fp1_theta, sf1_theta, fp2_theta, sf2_theta, ru_theta] \n",
    "data_theta = [np.array(x) for x in data_theta]\n",
    "\n",
    "f.close()"
   ]
  },
  {
   "cell_type": "code",
   "execution_count": 12,
   "metadata": {},
   "outputs": [],
   "source": [
    "data_theta = np.column_stack((participant_indices, fp1_theta, sf1_theta, fp2_theta, sf2_theta, ru_theta))\n",
    "\n",
    "# Define the column names\n",
    "column_names = [\"participant\", \"fp1\", \"sf1\", \"fp2\", \"sf2\", \"reunion\"]\n",
    "\n",
    "# Define the filename for the CSV file\n",
    "filename = \"validated_data_theta_plv.csv\"\n",
    "\n",
    "with open(filename, 'w', newline='') as csvfile:\n",
    "    writer = csv.writer(csvfile)\n",
    "\n",
    "    writer.writerow(column_names)\n",
    "\n",
    "    writer.writerows(data_theta)"
   ]
  },
  {
   "attachments": {},
   "cell_type": "markdown",
   "metadata": {},
   "source": [
    "## Descriptive Statistics"
   ]
  },
  {
   "cell_type": "code",
   "execution_count": 13,
   "metadata": {},
   "outputs": [
    {
     "name": "stderr",
     "output_type": "stream",
     "text": [
      "/tmp/ipykernel_13808/222204992.py:16: FutureWarning: In future versions `DataFrame.to_latex` is expected to utilise the base implementation of `Styler.to_latex` for formatting and rendering. The arguments signature may therefore change. It is recommended instead to use `DataFrame.style.to_latex` which also contains additional functionality.\n",
      "  descriptives_df.to_latex('synchrony_descriptives_theta.tex')\n"
     ]
    },
    {
     "data": {
      "text/html": [
       "<div>\n",
       "<style scoped>\n",
       "    .dataframe tbody tr th:only-of-type {\n",
       "        vertical-align: middle;\n",
       "    }\n",
       "\n",
       "    .dataframe tbody tr th {\n",
       "        vertical-align: top;\n",
       "    }\n",
       "\n",
       "    .dataframe thead th {\n",
       "        text-align: right;\n",
       "    }\n",
       "</style>\n",
       "<table border=\"1\" class=\"dataframe\">\n",
       "  <thead>\n",
       "    <tr style=\"text-align: right;\">\n",
       "      <th></th>\n",
       "      <th>Condition</th>\n",
       "      <th>Mean</th>\n",
       "      <th>SD</th>\n",
       "      <th>Min</th>\n",
       "      <th>Max</th>\n",
       "    </tr>\n",
       "  </thead>\n",
       "  <tbody>\n",
       "    <tr>\n",
       "      <th>0</th>\n",
       "      <td>Free Play 1</td>\n",
       "      <td>0.3641</td>\n",
       "      <td>0.0185</td>\n",
       "      <td>0.3277</td>\n",
       "      <td>0.4088</td>\n",
       "    </tr>\n",
       "    <tr>\n",
       "      <th>1</th>\n",
       "      <td>Still Face 1</td>\n",
       "      <td>0.3540</td>\n",
       "      <td>0.0141</td>\n",
       "      <td>0.3349</td>\n",
       "      <td>0.4048</td>\n",
       "    </tr>\n",
       "    <tr>\n",
       "      <th>2</th>\n",
       "      <td>Free Play 2</td>\n",
       "      <td>0.3628</td>\n",
       "      <td>0.0187</td>\n",
       "      <td>0.3304</td>\n",
       "      <td>0.4176</td>\n",
       "    </tr>\n",
       "    <tr>\n",
       "      <th>3</th>\n",
       "      <td>Still Face 2</td>\n",
       "      <td>0.3643</td>\n",
       "      <td>0.0225</td>\n",
       "      <td>0.3291</td>\n",
       "      <td>0.4382</td>\n",
       "    </tr>\n",
       "    <tr>\n",
       "      <th>4</th>\n",
       "      <td>Reunion</td>\n",
       "      <td>0.3660</td>\n",
       "      <td>0.0162</td>\n",
       "      <td>0.3348</td>\n",
       "      <td>0.4142</td>\n",
       "    </tr>\n",
       "  </tbody>\n",
       "</table>\n",
       "</div>"
      ],
      "text/plain": [
       "      Condition    Mean      SD     Min     Max\n",
       "0   Free Play 1  0.3641  0.0185  0.3277  0.4088\n",
       "1  Still Face 1  0.3540  0.0141  0.3349  0.4048\n",
       "2   Free Play 2  0.3628  0.0187  0.3304  0.4176\n",
       "3  Still Face 2  0.3643  0.0225  0.3291  0.4382\n",
       "4       Reunion  0.3660  0.0162  0.3348  0.4142"
      ]
     },
     "execution_count": 13,
     "metadata": {},
     "output_type": "execute_result"
    }
   ],
   "source": [
    "descriptives = {'Mean': [],\n",
    "                'SD': [],\n",
    "                'Min': [],\n",
    "                'Max': []}\n",
    "\n",
    "for condition in all_stages: \n",
    "    descriptives['Mean'].append(round(np.mean(condition), 4))\n",
    "    descriptives['SD'].append(round(np.std(condition), 4))\n",
    "    descriptives['Min'].append(round(np.min(condition), 4))\n",
    "    descriptives['Max'].append(round(np.max(condition), 4))\n",
    "\n",
    "descriptives_df = pd.DataFrame(descriptives)\n",
    "descriptives_df.insert(0, 'Condition', ['Free Play 1', 'Still Face 1', 'Free Play 2',\n",
    "                                        'Still Face 2', 'Reunion'])\n",
    "\n",
    "descriptives_df.to_latex('synchrony_descriptives_theta.tex')\n",
    "descriptives_df"
   ]
  },
  {
   "cell_type": "code",
   "execution_count": 14,
   "metadata": {},
   "outputs": [
    {
     "name": "stdout",
     "output_type": "stream",
     "text": [
      "Test statistic: 0.947081446647644\n",
      "p-value =  7.5302809818822425e-06 -> data is non-normally distributed\n"
     ]
    }
   ],
   "source": [
    "# Load data\n",
    "df = pd.DataFrame({\"FreePlay1\": fp1_theta,\n",
    "                  \"StillFace1\": sf1_theta,\n",
    "                  \"FreePlay2\": fp2_theta,\n",
    "                  \"StillFace2\": sf2_theta,\n",
    "                  'Reunion': ru_theta\n",
    "                  })\n",
    "\n",
    "\n",
    "# Create a multi-indexed dataframe\n",
    "df_melted_theta = pd.melt(df.reset_index(), id_vars=['index'], value_vars=['FreePlay1', 'StillFace1', 'FreePlay2', 'StillFace2', 'Reunion'])\n",
    "\n",
    "# Rename columns\n",
    "df_melted_theta.columns = ['id', 'Condition', 'Synchrony']\n",
    "\n",
    "stat, p = shapiro(df_melted_theta[\"Synchrony\"])\n",
    "\n",
    "print(\"Test statistic:\", stat)\n",
    "if p > 0.05:\n",
    "    print(\"p = \", p, \"-> data is normally distributed\")\n",
    "else:\n",
    "    print(\"p-value = \", p, \"-> data is non-normally distributed\")"
   ]
  },
  {
   "attachments": {},
   "cell_type": "markdown",
   "metadata": {},
   "source": [
    "## Fisher Z-Transform"
   ]
  },
  {
   "cell_type": "code",
   "execution_count": 15,
   "metadata": {},
   "outputs": [
    {
     "name": "stdout",
     "output_type": "stream",
     "text": [
      "Test statistic: 0.9471654891967773\n",
      "p-value =  7.655008630536031e-06 -> data is non-normally distributed\n"
     ]
    }
   ],
   "source": [
    "# Perform the Fisher z-transform\n",
    "z_fp1_theta = np.arctanh(fp1_theta)\n",
    "z_sf1_theta = np.arctanh(sf1_theta)\n",
    "z_fp2_theta = np.arctanh(fp2_theta)\n",
    "z_sf2_theta = np.arctanh(sf1_theta)\n",
    "z_ru_theta = np.arctanh(ru_theta)\n",
    "\n",
    "# Load data\n",
    "df = pd.DataFrame({\"FreePlay1\": z_fp1_theta,\n",
    "                  \"StillFace1\": z_sf1_theta,\n",
    "                  \"FreePlay2\": z_fp2_theta,\n",
    "                  \"StillFace2\": z_sf2_theta,\n",
    "                  'Reunion': z_ru_theta\n",
    "                  })\n",
    "\n",
    "\n",
    "# Create a multi-indexed dataframe\n",
    "df_melted_z = pd.melt(df.reset_index(), id_vars=['index'], value_vars=['FreePlay1', 'StillFace1', 'FreePlay2', 'StillFace2', 'Reunion'])\n",
    "\n",
    "# Rename columns\n",
    "df_melted_z.columns = ['id', 'Condition', 'Synchrony']\n",
    "\n",
    "data = np.random.normal(0, 1, 100)\n",
    "stat, p = shapiro(df_melted_z[\"Synchrony\"])\n",
    "\n",
    "print(\"Test statistic:\", stat)\n",
    "if p > 0.05:\n",
    "    print(\"p = \", p, \"-> data is normally distributed\")\n",
    "else:\n",
    "    print(\"p-value = \", p, \"-> data is non-normally distributed\")"
   ]
  },
  {
   "attachments": {},
   "cell_type": "markdown",
   "metadata": {},
   "source": [
    "## Main Effect: Friedman Test"
   ]
  },
  {
   "cell_type": "code",
   "execution_count": 16,
   "metadata": {},
   "outputs": [
    {
     "data": {
      "text/html": [
       "<div>\n",
       "<style scoped>\n",
       "    .dataframe tbody tr th:only-of-type {\n",
       "        vertical-align: middle;\n",
       "    }\n",
       "\n",
       "    .dataframe tbody tr th {\n",
       "        vertical-align: top;\n",
       "    }\n",
       "\n",
       "    .dataframe thead th {\n",
       "        text-align: right;\n",
       "    }\n",
       "</style>\n",
       "<table border=\"1\" class=\"dataframe\">\n",
       "  <thead>\n",
       "    <tr style=\"text-align: right;\">\n",
       "      <th></th>\n",
       "      <th>Source</th>\n",
       "      <th>W</th>\n",
       "      <th>ddof1</th>\n",
       "      <th>Q</th>\n",
       "      <th>p-unc</th>\n",
       "    </tr>\n",
       "  </thead>\n",
       "  <tbody>\n",
       "    <tr>\n",
       "      <th>Friedman</th>\n",
       "      <td>Condition</td>\n",
       "      <td>0.11607</td>\n",
       "      <td>4</td>\n",
       "      <td>15.321212</td>\n",
       "      <td>0.004079</td>\n",
       "    </tr>\n",
       "  </tbody>\n",
       "</table>\n",
       "</div>"
      ],
      "text/plain": [
       "             Source        W  ddof1          Q     p-unc\n",
       "Friedman  Condition  0.11607      4  15.321212  0.004079"
      ]
     },
     "execution_count": 16,
     "metadata": {},
     "output_type": "execute_result"
    }
   ],
   "source": [
    "# Perform Friedman test\n",
    "pg.friedman(data=df_melted_theta, dv='Synchrony', within='Condition', subject = 'id', method = 'chisq')"
   ]
  },
  {
   "attachments": {},
   "cell_type": "markdown",
   "metadata": {},
   "source": [
    "## Post Hoc: Wilcoxon Signed-Rank Test"
   ]
  },
  {
   "cell_type": "code",
   "execution_count": 17,
   "metadata": {},
   "outputs": [
    {
     "name": "stdout",
     "output_type": "stream",
     "text": [
      "Post-hoc test result:\n",
      "            FreePlay1  StillFace1  FreePlay2  StillFace2   Reunion\n",
      "FreePlay1    1.000000    0.002153   0.422565    0.507172  0.422565\n",
      "StillFace1   0.002153    1.000000   0.001680    0.009177  0.001754\n",
      "FreePlay2    0.422565    0.001680   1.000000    0.507172  0.422565\n",
      "StillFace2   0.507172    0.009177   0.507172    1.000000  0.422565\n",
      "Reunion      0.422565    0.001754   0.422565    0.422565  1.000000\n",
      "Z-values:\n",
      "[[   0. -103. -245. -262. -237.]\n",
      " [ 103.    0.  -86. -129.  -95.]\n",
      " [ 245.   86.    0. -266. -234.]\n",
      " [ 262.  129.  266.    0. -240.]\n",
      " [ 237.   95.  234.  240.    0.]]\n"
     ]
    }
   ],
   "source": [
    "# Perform post-hoc test and adjustment\n",
    "posthoc_result_theta = sp.posthoc_wilcoxon(a=df_melted_theta, val_col=\"Synchrony\", group_col=\"Condition\", p_adjust='fdr_tsbky')\n",
    "\n",
    "# Compute z-values\n",
    "z_values_theta = get_z_values(df_melted_theta, posthoc_result_theta.index)\n",
    "\n",
    "print(\"Post-hoc test result:\")\n",
    "print(posthoc_result_theta)\n",
    "print(\"Z-values:\")\n",
    "print(z_values_theta)"
   ]
  },
  {
   "cell_type": "code",
   "execution_count": 22,
   "metadata": {},
   "outputs": [
    {
     "name": "stdout",
     "output_type": "stream",
     "text": [
      "p-value annotation legend:\n",
      "ns: 5.00e-02 < p <= 1.00e+00\n",
      "*: 1.00e-02 < p <= 5.00e-02\n",
      "**: 1.00e-03 < p <= 1.00e-02\n",
      "***: 1.00e-04 < p <= 1.00e-03\n",
      "****: p <= 1.00e-04\n",
      "\n",
      "FreePlay1 v.s. StillFace1: Custom statistical test, P_val:2.153e-03\n",
      "StillFace1 v.s. FreePlay2: Custom statistical test, P_val:1.680e-03\n",
      "StillFace1 v.s. FreePlay2: Custom statistical test, P_val:9.177e-03\n",
      "StillFace1 v.s. Reunion: Custom statistical test, P_val:1.754e-03\n"
     ]
    },
    {
     "data": {
      "image/png": "[encoded data removed]",
      "text/plain": [
       "<Figure size 640x480 with 1 Axes>"
      ]
     },
     "metadata": {},
     "output_type": "display_data"
    }
   ],
   "source": [
    "ax = sns.boxplot(data = df_melted_theta, x = 'Condition', y = 'Synchrony', width = 0.6)\n",
    "ax.set_title('Nonvalidated global PLV in the theta band across the five phases of the SFP')\n",
    "ax.set_xticklabels(['Free Play 1', 'Still Face 1', 'Free Play 2', 'Still Face 2', 'Reunion'])\n",
    "# ax.set(ylim=(0.3, 0.55))\n",
    "add_stat_annotation(ax, data = df_melted_theta, x = 'Condition', y = 'Synchrony', \n",
    "                    box_pairs = [('FreePlay1', 'StillFace1'), ('StillFace1', 'FreePlay2'), (\"StillFace1\", \"FreePlay2\"),\n",
    "                                 ('StillFace1', 'Reunion')\n",
    "                                 ],\n",
    "                    perform_stat_test=False,\n",
    "                    pvalues=[0.002153, 0.001680, 0.009177, 0.001754],\n",
    "                    text_format = 'star',\n",
    ")\n",
    "\n",
    "ax.figure.savefig(\"nonvalidated_theta_results_plv.png\") "
   ]
  },
  {
   "attachments": {},
   "cell_type": "markdown",
   "metadata": {},
   "source": [
    "## Calculating the % of the data kept after validation"
   ]
  },
  {
   "cell_type": "code",
   "execution_count": 19,
   "metadata": {},
   "outputs": [
    {
     "name": "stdout",
     "output_type": "stream",
     "text": [
      "1.0\n"
     ]
    }
   ],
   "source": [
    "with open(\"nonvalidated_results_alpha_plv.json\") as f:\n",
    "    results_theta = json.load(f)\n",
    "\n",
    "# print(np.array(results_theta['029']['-1-']))\n",
    "\n",
    "# np.count_nonzero(~np.isnan(np.array(results_theta['036']['-1-']))) # 665\n",
    "epochs = 0\n",
    "percent_kept = [0, 0, 0, 0, 0]\n",
    "for part, stages in results_theta.items():\n",
    "    for stage, data in stages.items():\n",
    "        stage = int(stage[1]) - 1\n",
    "        epochs += np.array(data).shape[0]\n",
    "        nan_count = np.count_nonzero(np.isnan(np.array(data)))\n",
    "        nonnan_count = np.count_nonzero(~np.isnan(np.array(data)))\n",
    "        percent_kept[stage - 1] = nonnan_count/(nonnan_count+nan_count)\n",
    "            \n",
    "    \n",
    "print(np.mean(percent_kept))"
   ]
  },
  {
   "cell_type": "code",
   "execution_count": 20,
   "metadata": {},
   "outputs": [
    {
     "name": "stdout",
     "output_type": "stream",
     "text": [
      "1.0\n"
     ]
    }
   ],
   "source": [
    "import json\n",
    "import numpy as np\n",
    "\n",
    "with open(\"nonvalidated_results_theta_plv.json\") as f:\n",
    "    results_theta = json.load(f)\n",
    "\n",
    "# print(np.array(results_theta['029']['-1-']))\n",
    "\n",
    "# np.count_nonzero(~np.isnan(np.array(results_theta['036']['-1-']))) # 665\n",
    "epochs = 0\n",
    "percent_kept = [0, 0, 0, 0, 0]\n",
    "for part, stages in results_theta.items():\n",
    "    for stage, data in stages.items():\n",
    "        stage = int(stage[1]) - 1\n",
    "        epochs += np.array(data).shape[0]\n",
    "        nan_count = np.count_nonzero(np.isnan(np.array(data)))\n",
    "        nonnan_count = np.count_nonzero(~np.isnan(np.array(data)))\n",
    "        percent_kept[stage - 1] = nonnan_count/(nonnan_count+nan_count)\n",
    "            \n",
    "    \n",
    "print(np.mean(percent_kept))"
   ]
  }
 ],
 "metadata": {
  "kernelspec": {
   "display_name": ".venv",
   "language": "python",
   "name": "python3"
  },
  "language_info": {
   "codemirror_mode": {
    "name": "ipython",
    "version": 3
   },
   "file_extension": ".py",
   "mimetype": "text/x-python",
   "name": "python",
   "nbconvert_exporter": "python",
   "pygments_lexer": "ipython3",
   "version": "3.10.5"
  },
  "orig_nbformat": 4
 },
 "nbformat": 4,
 "nbformat_minor": 2
}
